{
  "nbformat": 4,
  "nbformat_minor": 0,
  "metadata": {
    "colab": {
      "provenance": [],
      "include_colab_link": true
    },
    "kernelspec": {
      "name": "python3",
      "display_name": "Python 3"
    }
  },
  "cells": [
    {
      "cell_type": "markdown",
      "metadata": {
        "id": "view-in-github",
        "colab_type": "text"
      },
      "source": [
        "<a href=\"https://colab.research.google.com/github/tedk108/Media-Coverage-of-the-Three-Trump-Supreme-Court-Appointees/blob/main/sa_sc_justice_in_4medias_20201214.ipynb\" target=\"_parent\"><img src=\"https://colab.research.google.com/assets/colab-badge.svg\" alt=\"Open In Colab\"/></a>"
      ]
    },
    {
      "cell_type": "markdown",
      "metadata": {
        "id": "P9vR3TlLSCA5"
      },
      "source": [
        "# **SC Senate Confirmations in the Media: Sentiment Analysis**\n",
        "Jon Chun\n",
        "IPHS200\n",
        "\n",
        "Analysis:\n",
        "* https://www.researchgate.net/publication/336450246_Visualizing_narrative_patterns_in_online_news_media/download \n",
        "\n",
        "Tech References:\n",
        "* https://newspaper.readthedocs.io/en/latest/\n",
        "* https://github.com/jarun/ddgr \n",
        "* https://cran.r-project.org/web/packages/syuzhet/index.html \n",
        "* https://santhoshse7en.github.io/news-fetch/ (not working)\n",
        "\n",
        "Strategy:\n",
        "\n",
        "* create dataset of new articles from the 4 media outlets for each of the 3 SC Nominees\n",
        "* apply sentiment analysis over these 4 media coverage timelines for each of the 3 SC Nominees \n",
        "* analyze and interpret results\n"
      ]
    },
    {
      "cell_type": "markdown",
      "metadata": {
        "id": "IPDUhKiGG4af"
      },
      "source": [
        "Nominees:\n",
        "\n",
        "* (Nom - Hearings - Vote - Confirmed + 1 mo)\n",
        "* Gorsuch (31 Jan 2017 - 20-22 Mar 2017 - 7 Apr 2017 - ) \n",
        "* Kavanaugh (9 Jul 2018 - 4-7 Sep 2018 Confirmation hearing - 27 Sep 2018 additional hearing on sexual abuse allegations - 6 Oct 2018 + 1mo)\n",
        "* Coney-Barrett ( 26 Sep 2020 - 12-14 Oct 2020 - 26 Oct 2020 + 1mo)\n",
        "\n",
        "News Sources:\n",
        "\n",
        "* CNN\n",
        "* ABC\n",
        "* MSNBC\n",
        "* FoxNew"
      ]
    },
    {
      "cell_type": "markdown",
      "metadata": {
        "id": "p5DUoOrdgc_S"
      },
      "source": [
        "# **0. Setup and Configuration**"
      ]
    },
    {
      "cell_type": "code",
      "metadata": {
        "id": "bjzGQZeogfzl"
      },
      "source": [
        "import pprint"
      ],
      "execution_count": null,
      "outputs": []
    },
    {
      "cell_type": "code",
      "metadata": {
        "id": "G6YKoPIlmEJ-"
      },
      "source": [],
      "execution_count": null,
      "outputs": []
    },
    {
      "cell_type": "code",
      "metadata": {
        "id": "XKykJXAVmEHG"
      },
      "source": [],
      "execution_count": null,
      "outputs": []
    },
    {
      "cell_type": "code",
      "metadata": {
        "id": "8K4f70ZImEEA"
      },
      "source": [],
      "execution_count": null,
      "outputs": []
    },
    {
      "cell_type": "markdown",
      "metadata": {
        "id": "b4en2VaLjcly"
      },
      "source": [
        "### Install Google Search API for Python"
      ]
    },
    {
      "cell_type": "code",
      "metadata": {
        "colab": {
          "base_uri": "https://localhost:8080/"
        },
        "id": "QaFQJpfIjgaq",
        "outputId": "9c09fb6f-dcf0-41d6-8cf8-8263f6f6733e"
      },
      "source": [
        "!pip install google-api-python-client"
      ],
      "execution_count": null,
      "outputs": [
        {
          "output_type": "stream",
          "text": [
            "Requirement already satisfied: google-api-python-client in /usr/local/lib/python3.6/dist-packages (1.7.12)\n",
            "Requirement already satisfied: httplib2<1dev,>=0.17.0 in /usr/local/lib/python3.6/dist-packages (from google-api-python-client) (0.17.4)\n",
            "Requirement already satisfied: uritemplate<4dev,>=3.0.0 in /usr/local/lib/python3.6/dist-packages (from google-api-python-client) (3.0.1)\n",
            "Requirement already satisfied: six<2dev,>=1.6.1 in /usr/local/lib/python3.6/dist-packages (from google-api-python-client) (1.15.0)\n",
            "Requirement already satisfied: google-auth>=1.4.1 in /usr/local/lib/python3.6/dist-packages (from google-api-python-client) (1.17.2)\n",
            "Requirement already satisfied: google-auth-httplib2>=0.0.3 in /usr/local/lib/python3.6/dist-packages (from google-api-python-client) (0.0.4)\n",
            "Requirement already satisfied: pyasn1-modules>=0.2.1 in /usr/local/lib/python3.6/dist-packages (from google-auth>=1.4.1->google-api-python-client) (0.2.8)\n",
            "Requirement already satisfied: setuptools>=40.3.0 in /usr/local/lib/python3.6/dist-packages (from google-auth>=1.4.1->google-api-python-client) (50.3.2)\n",
            "Requirement already satisfied: cachetools<5.0,>=2.0.0 in /usr/local/lib/python3.6/dist-packages (from google-auth>=1.4.1->google-api-python-client) (4.1.1)\n",
            "Requirement already satisfied: rsa<5,>=3.1.4; python_version >= \"3\" in /usr/local/lib/python3.6/dist-packages (from google-auth>=1.4.1->google-api-python-client) (4.6)\n",
            "Requirement already satisfied: pyasn1<0.5.0,>=0.4.6 in /usr/local/lib/python3.6/dist-packages (from pyasn1-modules>=0.2.1->google-auth>=1.4.1->google-api-python-client) (0.4.8)\n"
          ],
          "name": "stdout"
        }
      ]
    },
    {
      "cell_type": "code",
      "metadata": {
        "id": "sPawxLOijgYC"
      },
      "source": [],
      "execution_count": null,
      "outputs": []
    },
    {
      "cell_type": "code",
      "metadata": {
        "id": "kFw7hja7jgVv"
      },
      "source": [],
      "execution_count": null,
      "outputs": []
    },
    {
      "cell_type": "code",
      "metadata": {
        "id": "LZCRj_tmjgS2"
      },
      "source": [],
      "execution_count": null,
      "outputs": []
    },
    {
      "cell_type": "code",
      "metadata": {
        "id": "Ahhd2eKXjgQd"
      },
      "source": [],
      "execution_count": null,
      "outputs": []
    },
    {
      "cell_type": "code",
      "metadata": {
        "id": "BX4h2daRjgNj"
      },
      "source": [],
      "execution_count": null,
      "outputs": []
    },
    {
      "cell_type": "markdown",
      "metadata": {
        "id": "cD17GDGyXZyB"
      },
      "source": [
        "### Install DuckDuckGo CLI Search package 'ddgr'"
      ]
    },
    {
      "cell_type": "code",
      "metadata": {
        "colab": {
          "base_uri": "https://localhost:8080/"
        },
        "id": "8K696o1qYsnW",
        "outputId": "2317cf65-e165-4dc4-883a-ac348af451e3"
      },
      "source": [
        "!pip install ddgr"
      ],
      "execution_count": null,
      "outputs": [
        {
          "output_type": "stream",
          "text": [
            "Collecting ddgr\n",
            "  Downloading https://files.pythonhosted.org/packages/74/fa/dd1dd0e3c676688dfb23e9921d3d1b83bfacdf48679f9e75ae0952504377/ddgr-1.9-py3-none-any.whl\n",
            "Installing collected packages: ddgr\n",
            "Successfully installed ddgr-1.9\n"
          ],
          "name": "stdout"
        }
      ]
    },
    {
      "cell_type": "code",
      "metadata": {
        "id": "X5pUfajYYskU"
      },
      "source": [
        "import ddgr"
      ],
      "execution_count": null,
      "outputs": []
    },
    {
      "cell_type": "code",
      "metadata": {
        "id": "vYy_35ahmKfi",
        "colab": {
          "base_uri": "https://localhost:8080/"
        },
        "outputId": "66fc20f4-4a41-432f-d38c-7e25f01e9048"
      },
      "source": [
        "!ls"
      ],
      "execution_count": null,
      "outputs": [
        {
          "output_type": "stream",
          "text": [
            "sample_data\n"
          ],
          "name": "stdout"
        }
      ]
    },
    {
      "cell_type": "code",
      "metadata": {
        "id": "9Yd3ZTBycJRg"
      },
      "source": [
        "!rm coney-barrett_cnn_202009.json"
      ],
      "execution_count": null,
      "outputs": []
    },
    {
      "cell_type": "code",
      "metadata": {
        "id": "PpXD2RocYshn"
      },
      "source": [
        "%%capture cb_cnn_20200920 --no-stderr\n",
        "\n",
        "!ddgr -n 25 -w cnn.com --json coney-barrett september 20, 2020"
      ],
      "execution_count": null,
      "outputs": []
    },
    {
      "cell_type": "code",
      "metadata": {
        "id": "GCwYKIWsspcc"
      },
      "source": [],
      "execution_count": null,
      "outputs": []
    },
    {
      "cell_type": "code",
      "metadata": {
        "id": "o1Z_8I4sspVa"
      },
      "source": [],
      "execution_count": null,
      "outputs": []
    },
    {
      "cell_type": "code",
      "metadata": {
        "id": "CC2EQIdYspFz"
      },
      "source": [],
      "execution_count": null,
      "outputs": []
    },
    {
      "cell_type": "code",
      "metadata": {
        "colab": {
          "base_uri": "https://localhost:8080/"
        },
        "id": "5Z8ia3QFqqGJ",
        "outputId": "59e980c2-d3bb-4923-b1fb-ec5f7baa1734"
      },
      "source": [
        "print(cb_cnn_20200920.stdout)"
      ],
      "execution_count": null,
      "outputs": [
        {
          "output_type": "stream",
          "text": [
            "[\n",
            "  {\n",
            "    \"abstract\": \"President Donald Trump intends to choose Amy Coney Barrett to be the new Supreme Court justice, according to multiple senior Republican sources with knowledge Sources: Trump intends to nominate Amy Coney Barrett for Supreme Court. Updated 1533 GMT (2333 HKT) September 26, 2020.\",\n",
            "    \"title\": \"Amy Coney Barrett is Trump's intended choice for Supreme Court...\",\n",
            "    \"url\": \"https://edition.cnn.com/2020/09/25/politics/donald-trump-amy-coney-barrett-supreme-court/index.html\"\n",
            "  },\n",
            "  {\n",
            "    \"abstract\": \"Updated 0020 GMT (0820 HKT) September 27, 2020. \\\"The American people should make no mistake—a vote by any Senator for Judge Amy Coney Barrett is a vote to strike down the Affordable Care Act and eliminate protections for millions of Americans with pre-existing conditions,\\\" Schumer said.\",\n",
            "    \"title\": \"Democrats say Barrett's nomination is all about the future of...\",\n",
            "    \"url\": \"https://edition.cnn.com/2020/09/26/politics/democrats-biden-amy-coney-barrett-nomination/index.html\"\n",
            "  },\n",
            "  {\n",
            "    \"abstract\": \"President Trump has nominated Amy Coney Barrett for the Supreme Court as the SCOTUS vacancy continues to reshape the election. Trump nominates Amy Coney Barrett for Supreme Court. By Meg Wagner, CNN. Updated 2319 GMT (0719 HKT) September 26, 2020.\",\n",
            "    \"title\": \"September 26 US election and SCOTUS news\",\n",
            "    \"url\": \"https://edition.cnn.com/politics/live-news/us-election-news-09-26-20/index.html\"\n",
            "  },\n",
            "  {\n",
            "    \"abstract\": \"President Donald Trump on Saturday announced he is nominating Judge Amy Coney Barrett to replace the late Justice Ruth Bader Ginsburg on the Supreme Court in a flag-bedecked ceremony at the White House Rose Garden.\",\n",
            "    \"title\": \"Notable dissents from Judge Amy Coney Barrett - CNNPolitics\",\n",
            "    \"url\": \"https://edition.cnn.com/2020/09/26/politics/amy-coney-barrett-supreme-court-notable-writings/index.html\"\n",
            "  },\n",
            "  {\n",
            "    \"abstract\": \"By nominating Judge Amy Coney Barrett to the Supreme Court, President Donald Trump took the first step Saturday toward solidifying a 6-3 conservative majority on the high court, a shift that could usher in sweeping changes to health care, as well as abortion, voting and gun rights.\",\n",
            "    \"title\": \"Amy Coney Barrett's debut shows she will be a tough adversary for...\",\n",
            "    \"url\": \"https://us.cnn.com/2020/09/27/politics/amy-coney-barrett-supreme-court-trump-election-2020/index.html\"\n",
            "  },\n",
            "  {\n",
            "    \"abstract\": \"Senate Judiciary Democrats attempted Thursday to indefinitely delay the nomination of Judge Amy Coney Barrett to the Supreme Court, arguing that they've had \\\"inadequate\\\" time to review her nomination after CNN's KFile found additional talks Barrett gave were not listed on her Senate...\",\n",
            "    \"title\": \"Judiciary Democrats try to delay Barrett confirmation after CNN's KFile...\",\n",
            "    \"url\": \"https://edition.cnn.com/2020/10/15/politics/judiciary-democrats-amy-coney-barrett-calendar-disclosures/index.html\"\n",
            "  },\n",
            "  {\n",
            "    \"abstract\": \"For someone who has long vowed to appoint what he called \\\"pro-life\\\" judges to the Supreme Court, President Donald Trump said last week that he didn't know the position of his nominee Amy Coney Barrett on Roe v. Wade, the nearly 50-year-old Supreme Court decision legalizing abortion.\",\n",
            "    \"title\": \"Amy Coney Barrett's record of advocating for limits to abortion rights...\",\n",
            "    \"url\": \"https://edition.cnn.com/2020/10/06/politics/amy-coney-barrett-abortion-record/index.html\"\n",
            "  },\n",
            "  {\n",
            "    \"abstract\": \"Judge Amy Coney Barrett has submitted written answers to the Senate Judiciary Committee's questions following her confirmation hearing.\",\n",
            "    \"title\": \"READ: Written responses by Amy Coney Barrett to questions from...\",\n",
            "    \"url\": \"https://edition.cnn.com/2020/10/20/politics/amy-coney-barrett-written-responses/index.html\"\n",
            "  },\n",
            "  {\n",
            "    \"abstract\": \"Amy Coney Barrett was grilled on these election issues. \\\"Judge Amy Coney Barrett is one of the most highly qualified people to ever be nominated to be an Associate Justice of the Supreme Court,\\\" said Graham in a statement. But in 2020, another election year, the Senate has taken about a...\",\n",
            "    \"title\": \"Amy Coney Barrett: Judiciary Committee to advance nomination...\",\n",
            "    \"url\": \"https://edition.cnn.com/2020/10/22/politics/amy-coney-barrett-committee-vote/index.html\"\n",
            "  },\n",
            "  {\n",
            "    \"abstract\": \"President Trump has nominated Amy Coney Barrett to the Supreme Court, and the battle over the vacancy on the bench continues to shape the US The latest on the 2020 election and SCOTUS battle. By Meg Wagner and Mike Hayes, CNN. Updated 2138 GMT (0538 HKT) September 27, 2020.\",\n",
            "    \"title\": \"September 27 election and SCOTUS news\",\n",
            "    \"url\": \"https://edition.cnn.com/politics/live-news/us-election-news-09-27-20/index.html\"\n",
            "  },\n",
            "  {\n",
            "    \"abstract\": \"Amy Coney Barrett was grilled on these election issues. With voting already underway in states across the country, Democratic senators challenged Amy Coney Barrett on election issues during her Supreme Court confirmation hearing.\",\n",
            "    \"title\": \"Amy Coney Barrett answers 2020 election questions at her...\",\n",
            "    \"url\": \"https://edition.cnn.com/videos/politics/2020/10/14/amy-coney-barrett-on-2020-election-orig-vf.cnn/video/playlists/this-week-in-politics/\"\n",
            "  },\n",
            "  {\n",
            "    \"abstract\": \"That includes the confirmation of Amy Coney Barrett before Election Day. What unfolds over the days and weeks can't be controlled by a master political tactician like Senate Majority Leader Mitch McConnell or last-minute procedural hurdles unfurled by Minority Leader Chuck Schumer, a New York...\",\n",
            "    \"title\": \"Coronavirus upends GOP plans for speedy Barrett confirmation...\",\n",
            "    \"url\": \"https://edition.cnn.com/2020/10/05/politics/amy-coney-barrett-supreme-court-confirmation-coronavirus/index.html\"\n",
            "  },\n",
            "  {\n",
            "    \"abstract\": \"Amy Coney Barrett, a proven conservative with a compelling personal story. While overturning the ruling is not literally on the 2020 ballot, many abortion rights supporters decry Barrett's ascent as synonymous with Roe's inevitable death knell and a fate that only a Biden presidency or a...\",\n",
            "    \"title\": \"Amy Coney Barrett's potential role in abortion battle surfaces in...\",\n",
            "    \"url\": \"https://edition.cnn.com/2020/10/08/politics/2020-debates-amy-coney-barrett-abortion-roe/index.html\"\n",
            "  },\n",
            "  {\n",
            "    \"abstract\": \"En Estados Unidos, continúan las audiencias de confirmación de Amy Coney Barrett, designada a la Corte Suprema por el presidente Donald Trump. El proceso ocurre durante la recta final de la campaña presidencial.\",\n",
            "    \"title\": \"Por qué la jueza Amy Coney Barrett puede darle un giro a la Corte...\",\n",
            "    \"url\": \"https://edition.cnn.com/videos/spanish/2020/10/14/amy-coney-barrett-audiencia-confirmacion-corte-suprema-pkg-michael-roa.cnn\"\n",
            "  },\n",
            "  {\n",
            "    \"abstract\": \"Public calendars from the University of Notre Dame's law school show at least seven additional talks not listed on Judge Amy Coney Barrett's Senate paperwork, including one with the law school's anti-abortion group, according to a CNN KFile review.\",\n",
            "    \"title\": \"Notre Dame calendars show more events not listed on Amy Coney...\",\n",
            "    \"url\": \"https://us.cnn.com/2020/10/14/politics/kfile-amy-coney-barrett-calendar-disclosures/index.html\"\n",
            "  },\n",
            "  {\n",
            "    \"abstract\": \"Senate Judiciary Chairman Lindsey Graham has officially laid the groundwork for Judge Amy Coney Barrett to get approved by his GOP-led panel in 10 days, setting the stage for one of the quickest confirmation proceedings for a Supreme Court nominee in modern times -- all before she's taken a...\",\n",
            "    \"title\": \"Graham sets stage for quick Barrett confirmation as hearings get...\",\n",
            "    \"url\": \"https://edition.cnn.com/2020/10/12/politics/lindsey-graham-amy-coney-barrett-vote/index.html\"\n",
            "  },\n",
            "  {\n",
            "    \"abstract\": \"Amy Coney Barrett's fast-track Supreme Court confirmation goes before the Senate Judiciary Committee Monday as the raucous fight over Barrett's nomination spills What to watch in the Amy Coney Barrett hearings. By Jeremy Herb, CNN. Updated 0128 GMT (0928 HKT) October 12, 2020.\",\n",
            "    \"title\": \"Amy Coney Barrett hearings: What to watch this week - CNNPolitics\",\n",
            "    \"url\": \"https://edition.cnn.com/2020/10/11/politics/amy-coney-barrett-what-to-watch/index.html\"\n",
            "  },\n",
            "  {\n",
            "    \"abstract\": \"The first day of confirmation hearings for President Donald Trump's Supreme Court nominee Amy Coney Barrett featured plenty of fiery speeches -- many of them aimed at next month's presidential election rather than the nominee herself.\",\n",
            "    \"title\": \"Amy Coney Barrett hearing: 5 takeaways from Monday - CNNPolitics\",\n",
            "    \"url\": \"https://edition.cnn.com/2020/10/12/politics/amy-coney-barrett-hearing-takeaways-monday/index.html\"\n",
            "  },\n",
            "  {\n",
            "    \"abstract\": \"Sen. Lisa Murkowski announced Saturday that she will ultimately vote yes on Amy Coney Barrett's nomination to the Supreme Court of the United States.\",\n",
            "    \"title\": \"Murkowski announces she will vote yes to confirm Amy Coney Barrett\",\n",
            "    \"url\": \"https://edition.cnn.com/2020/10/24/politics/murkowski-yes-vote-amy-coney-barrett-supreme-court/index.html?obOrigUrl=true\"\n",
            "  },\n",
            "  {\n",
            "    \"abstract\": \"Judge Amy Coney Barrett has more of a track record detailing her views on abortion and Roe v. Wade than recent nominees.\",\n",
            "    \"title\": \"Democrats try to pin Barrett down on Roe v. Wade and abortion rights...\",\n",
            "    \"url\": \"https://edition.cnn.com/2020/10/13/politics/abortion-amy-coney-barrett-hearing/\"\n",
            "  },\n",
            "  {\n",
            "    \"abstract\": \"September 27, 2020. • Trump Lays Groundwork To Challenge Election Results; Trump Nominates Amy Coney Barrett To The Supreme Court; Interview With Iran's Foreign Minister Javad Zarif.\",\n",
            "    \"title\": \"CNN.com - Transcripts\",\n",
            "    \"url\": \"http://edition.cnn.com/TRANSCRIPTS/fzgps.html\"\n",
            "  },\n",
            "  {\n",
            "    \"abstract\": \"President Donald Trump's nominee for the Supreme Court, Judge Amy Coney Barrett, added her name to a list of \\\"citizens of Michiana\\\" who signed a \\\"right to life ad\\\" sponsored by a group that opposes abortion that appeared in a local newspaper in 2006.\",\n",
            "    \"title\": \"Amy Coney Barrett and abortion rights: Supreme Court nominee...\",\n",
            "    \"url\": \"https://edition.cnn.com/2020/10/01/politics/amy-coney-barrett-abortion-rights/\"\n",
            "  },\n",
            "  {\n",
            "    \"abstract\": \"Klobuchar challenges Barrett about protecting voting rights. During Judge Amy Coney Barrett's Supreme Court confirmation hearing, Sen.\",\n",
            "    \"title\": \"Supreme Court confirmation hearing of Amy Coney Barrett: Klobuchar...\",\n",
            "    \"url\": \"https://edition.cnn.com/videos/politics/2020/10/13/amy-coney-barrett-supreme-court-confirmation-hearing-amy-klobuchar-voting-rights-sot-vpx.cnn\"\n",
            "  },\n",
            "  {\n",
            "    \"abstract\": \"Judge Amy Coney Barrett, President Trump's Supreme Court nominee, is sworn in at the Senate Judiciary Committee's hearing and delivers her opening statement before the committee.\",\n",
            "    \"title\": \"See Amy Coney Barrett's entire opening statement - CNN Video\",\n",
            "    \"url\": \"https://edition.cnn.com/videos/politics/2020/10/12/amy-coney-barrett-supreme-court-nominee-full-opening-statement-ott.pool?iid=ob_lockedrail_longstory_pool&obOrigUrl=true\"\n",
            "  },\n",
            "  {\n",
            "    \"abstract\": \"Senate Judiciary Democrats, facing criticism from the left that they have not done more to question the legitimacy of the Supreme Court confirmation proceedings for Amy Coney Barrett, plan to take the extraordinary step of boycotting a key committee vote on Thursday.\",\n",
            "    \"title\": \"Democrats planning to boycott Senate Judiciary vote to advance...\",\n",
            "    \"url\": \"https://edition.cnn.com/2020/10/21/politics/democrats-boycott-senate-judiciary-committee/index.html\"\n",
            "  }\n",
            "]\n",
            "\n"
          ],
          "name": "stdout"
        }
      ]
    },
    {
      "cell_type": "code",
      "metadata": {
        "id": "0C0wY2kDrkBo"
      },
      "source": [
        "import json"
      ],
      "execution_count": null,
      "outputs": []
    },
    {
      "cell_type": "code",
      "metadata": {
        "colab": {
          "base_uri": "https://localhost:8080/"
        },
        "id": "Dh3QaiiuriUG",
        "outputId": "20bbadfe-da3d-4d8f-ddef-8bc4b024bc5a"
      },
      "source": [
        "json.loads(cb_cnn_20200920.stdout)"
      ],
      "execution_count": null,
      "outputs": [
        {
          "output_type": "execute_result",
          "data": {
            "text/plain": [
              "[{'abstract': 'President Donald Trump intends to choose Amy Coney Barrett to be the new Supreme Court justice, according to multiple senior Republican sources with knowledge Sources: Trump intends to nominate Amy Coney Barrett for Supreme Court. Updated 1533 GMT (2333 HKT) September 26, 2020.',\n",
              "  'title': \"Amy Coney Barrett is Trump's intended choice for Supreme Court...\",\n",
              "  'url': 'https://edition.cnn.com/2020/09/25/politics/donald-trump-amy-coney-barrett-supreme-court/index.html'},\n",
              " {'abstract': 'Updated 0020 GMT (0820 HKT) September 27, 2020. \"The American people should make no mistake—a vote by any Senator for Judge Amy Coney Barrett is a vote to strike down the Affordable Care Act and eliminate protections for millions of Americans with pre-existing conditions,\" Schumer said.',\n",
              "  'title': \"Democrats say Barrett's nomination is all about the future of...\",\n",
              "  'url': 'https://edition.cnn.com/2020/09/26/politics/democrats-biden-amy-coney-barrett-nomination/index.html'},\n",
              " {'abstract': 'President Trump has nominated Amy Coney Barrett for the Supreme Court as the SCOTUS vacancy continues to reshape the election. Trump nominates Amy Coney Barrett for Supreme Court. By Meg Wagner, CNN. Updated 2319 GMT (0719 HKT) September 26, 2020.',\n",
              "  'title': 'September 26 US election and SCOTUS news',\n",
              "  'url': 'https://edition.cnn.com/politics/live-news/us-election-news-09-26-20/index.html'},\n",
              " {'abstract': 'President Donald Trump on Saturday announced he is nominating Judge Amy Coney Barrett to replace the late Justice Ruth Bader Ginsburg on the Supreme Court in a flag-bedecked ceremony at the White House Rose Garden.',\n",
              "  'title': 'Notable dissents from Judge Amy Coney Barrett - CNNPolitics',\n",
              "  'url': 'https://edition.cnn.com/2020/09/26/politics/amy-coney-barrett-supreme-court-notable-writings/index.html'},\n",
              " {'abstract': 'By nominating Judge Amy Coney Barrett to the Supreme Court, President Donald Trump took the first step Saturday toward solidifying a 6-3 conservative majority on the high court, a shift that could usher in sweeping changes to health care, as well as abortion, voting and gun rights.',\n",
              "  'title': \"Amy Coney Barrett's debut shows she will be a tough adversary for...\",\n",
              "  'url': 'https://us.cnn.com/2020/09/27/politics/amy-coney-barrett-supreme-court-trump-election-2020/index.html'},\n",
              " {'abstract': 'Senate Judiciary Democrats attempted Thursday to indefinitely delay the nomination of Judge Amy Coney Barrett to the Supreme Court, arguing that they\\'ve had \"inadequate\" time to review her nomination after CNN\\'s KFile found additional talks Barrett gave were not listed on her Senate...',\n",
              "  'title': \"Judiciary Democrats try to delay Barrett confirmation after CNN's KFile...\",\n",
              "  'url': 'https://edition.cnn.com/2020/10/15/politics/judiciary-democrats-amy-coney-barrett-calendar-disclosures/index.html'},\n",
              " {'abstract': 'For someone who has long vowed to appoint what he called \"pro-life\" judges to the Supreme Court, President Donald Trump said last week that he didn\\'t know the position of his nominee Amy Coney Barrett on Roe v. Wade, the nearly 50-year-old Supreme Court decision legalizing abortion.',\n",
              "  'title': \"Amy Coney Barrett's record of advocating for limits to abortion rights...\",\n",
              "  'url': 'https://edition.cnn.com/2020/10/06/politics/amy-coney-barrett-abortion-record/index.html'},\n",
              " {'abstract': \"Judge Amy Coney Barrett has submitted written answers to the Senate Judiciary Committee's questions following her confirmation hearing.\",\n",
              "  'title': 'READ: Written responses by Amy Coney Barrett to questions from...',\n",
              "  'url': 'https://edition.cnn.com/2020/10/20/politics/amy-coney-barrett-written-responses/index.html'},\n",
              " {'abstract': 'Amy Coney Barrett was grilled on these election issues. \"Judge Amy Coney Barrett is one of the most highly qualified people to ever be nominated to be an Associate Justice of the Supreme Court,\" said Graham in a statement. But in 2020, another election year, the Senate has taken about a...',\n",
              "  'title': 'Amy Coney Barrett: Judiciary Committee to advance nomination...',\n",
              "  'url': 'https://edition.cnn.com/2020/10/22/politics/amy-coney-barrett-committee-vote/index.html'},\n",
              " {'abstract': 'President Trump has nominated Amy Coney Barrett to the Supreme Court, and the battle over the vacancy on the bench continues to shape the US The latest on the 2020 election and SCOTUS battle. By Meg Wagner and Mike Hayes, CNN. Updated 2138 GMT (0538 HKT) September 27, 2020.',\n",
              "  'title': 'September 27 election and SCOTUS news',\n",
              "  'url': 'https://edition.cnn.com/politics/live-news/us-election-news-09-27-20/index.html'},\n",
              " {'abstract': 'Amy Coney Barrett was grilled on these election issues. With voting already underway in states across the country, Democratic senators challenged Amy Coney Barrett on election issues during her Supreme Court confirmation hearing.',\n",
              "  'title': 'Amy Coney Barrett answers 2020 election questions at her...',\n",
              "  'url': 'https://edition.cnn.com/videos/politics/2020/10/14/amy-coney-barrett-on-2020-election-orig-vf.cnn/video/playlists/this-week-in-politics/'},\n",
              " {'abstract': \"That includes the confirmation of Amy Coney Barrett before Election Day. What unfolds over the days and weeks can't be controlled by a master political tactician like Senate Majority Leader Mitch McConnell or last-minute procedural hurdles unfurled by Minority Leader Chuck Schumer, a New York...\",\n",
              "  'title': 'Coronavirus upends GOP plans for speedy Barrett confirmation...',\n",
              "  'url': 'https://edition.cnn.com/2020/10/05/politics/amy-coney-barrett-supreme-court-confirmation-coronavirus/index.html'},\n",
              " {'abstract': \"Amy Coney Barrett, a proven conservative with a compelling personal story. While overturning the ruling is not literally on the 2020 ballot, many abortion rights supporters decry Barrett's ascent as synonymous with Roe's inevitable death knell and a fate that only a Biden presidency or a...\",\n",
              "  'title': \"Amy Coney Barrett's potential role in abortion battle surfaces in...\",\n",
              "  'url': 'https://edition.cnn.com/2020/10/08/politics/2020-debates-amy-coney-barrett-abortion-roe/index.html'},\n",
              " {'abstract': 'En Estados Unidos, continúan las audiencias de confirmación de Amy Coney Barrett, designada a la Corte Suprema por el presidente Donald Trump. El proceso ocurre durante la recta final de la campaña presidencial.',\n",
              "  'title': 'Por qué la jueza Amy Coney Barrett puede darle un giro a la Corte...',\n",
              "  'url': 'https://edition.cnn.com/videos/spanish/2020/10/14/amy-coney-barrett-audiencia-confirmacion-corte-suprema-pkg-michael-roa.cnn'},\n",
              " {'abstract': \"Public calendars from the University of Notre Dame's law school show at least seven additional talks not listed on Judge Amy Coney Barrett's Senate paperwork, including one with the law school's anti-abortion group, according to a CNN KFile review.\",\n",
              "  'title': 'Notre Dame calendars show more events not listed on Amy Coney...',\n",
              "  'url': 'https://us.cnn.com/2020/10/14/politics/kfile-amy-coney-barrett-calendar-disclosures/index.html'},\n",
              " {'abstract': \"Senate Judiciary Chairman Lindsey Graham has officially laid the groundwork for Judge Amy Coney Barrett to get approved by his GOP-led panel in 10 days, setting the stage for one of the quickest confirmation proceedings for a Supreme Court nominee in modern times -- all before she's taken a...\",\n",
              "  'title': 'Graham sets stage for quick Barrett confirmation as hearings get...',\n",
              "  'url': 'https://edition.cnn.com/2020/10/12/politics/lindsey-graham-amy-coney-barrett-vote/index.html'},\n",
              " {'abstract': \"Amy Coney Barrett's fast-track Supreme Court confirmation goes before the Senate Judiciary Committee Monday as the raucous fight over Barrett's nomination spills What to watch in the Amy Coney Barrett hearings. By Jeremy Herb, CNN. Updated 0128 GMT (0928 HKT) October 12, 2020.\",\n",
              "  'title': 'Amy Coney Barrett hearings: What to watch this week - CNNPolitics',\n",
              "  'url': 'https://edition.cnn.com/2020/10/11/politics/amy-coney-barrett-what-to-watch/index.html'},\n",
              " {'abstract': \"The first day of confirmation hearings for President Donald Trump's Supreme Court nominee Amy Coney Barrett featured plenty of fiery speeches -- many of them aimed at next month's presidential election rather than the nominee herself.\",\n",
              "  'title': 'Amy Coney Barrett hearing: 5 takeaways from Monday - CNNPolitics',\n",
              "  'url': 'https://edition.cnn.com/2020/10/12/politics/amy-coney-barrett-hearing-takeaways-monday/index.html'},\n",
              " {'abstract': \"Sen. Lisa Murkowski announced Saturday that she will ultimately vote yes on Amy Coney Barrett's nomination to the Supreme Court of the United States.\",\n",
              "  'title': 'Murkowski announces she will vote yes to confirm Amy Coney Barrett',\n",
              "  'url': 'https://edition.cnn.com/2020/10/24/politics/murkowski-yes-vote-amy-coney-barrett-supreme-court/index.html?obOrigUrl=true'},\n",
              " {'abstract': 'Judge Amy Coney Barrett has more of a track record detailing her views on abortion and Roe v. Wade than recent nominees.',\n",
              "  'title': 'Democrats try to pin Barrett down on Roe v. Wade and abortion rights...',\n",
              "  'url': 'https://edition.cnn.com/2020/10/13/politics/abortion-amy-coney-barrett-hearing/'},\n",
              " {'abstract': \"September 27, 2020. • Trump Lays Groundwork To Challenge Election Results; Trump Nominates Amy Coney Barrett To The Supreme Court; Interview With Iran's Foreign Minister Javad Zarif.\",\n",
              "  'title': 'CNN.com - Transcripts',\n",
              "  'url': 'http://edition.cnn.com/TRANSCRIPTS/fzgps.html'},\n",
              " {'abstract': 'President Donald Trump\\'s nominee for the Supreme Court, Judge Amy Coney Barrett, added her name to a list of \"citizens of Michiana\" who signed a \"right to life ad\" sponsored by a group that opposes abortion that appeared in a local newspaper in 2006.',\n",
              "  'title': 'Amy Coney Barrett and abortion rights: Supreme Court nominee...',\n",
              "  'url': 'https://edition.cnn.com/2020/10/01/politics/amy-coney-barrett-abortion-rights/'},\n",
              " {'abstract': \"Klobuchar challenges Barrett about protecting voting rights. During Judge Amy Coney Barrett's Supreme Court confirmation hearing, Sen.\",\n",
              "  'title': 'Supreme Court confirmation hearing of Amy Coney Barrett: Klobuchar...',\n",
              "  'url': 'https://edition.cnn.com/videos/politics/2020/10/13/amy-coney-barrett-supreme-court-confirmation-hearing-amy-klobuchar-voting-rights-sot-vpx.cnn'},\n",
              " {'abstract': \"Judge Amy Coney Barrett, President Trump's Supreme Court nominee, is sworn in at the Senate Judiciary Committee's hearing and delivers her opening statement before the committee.\",\n",
              "  'title': \"See Amy Coney Barrett's entire opening statement - CNN Video\",\n",
              "  'url': 'https://edition.cnn.com/videos/politics/2020/10/12/amy-coney-barrett-supreme-court-nominee-full-opening-statement-ott.pool?iid=ob_lockedrail_longstory_pool&obOrigUrl=true'},\n",
              " {'abstract': 'Senate Judiciary Democrats, facing criticism from the left that they have not done more to question the legitimacy of the Supreme Court confirmation proceedings for Amy Coney Barrett, plan to take the extraordinary step of boycotting a key committee vote on Thursday.',\n",
              "  'title': 'Democrats planning to boycott Senate Judiciary vote to advance...',\n",
              "  'url': 'https://edition.cnn.com/2020/10/21/politics/democrats-boycott-senate-judiciary-committee/index.html'}]"
            ]
          },
          "metadata": {
            "tags": []
          },
          "execution_count": 35
        }
      ]
    },
    {
      "cell_type": "code",
      "metadata": {
        "colab": {
          "base_uri": "https://localhost:8080/"
        },
        "id": "OzEwdVuPpwyJ",
        "outputId": "652f5c94-28fa-457f-d450-e87d462daaf8"
      },
      "source": [
        "cb_cnn_20200920_dt = list(cb_cnn_20200920.stdout)\n",
        "print(cb_cnn_20200920_dt[200])\n"
      ],
      "execution_count": null,
      "outputs": [
        {
          "output_type": "stream",
          "text": [
            "e\n"
          ],
          "name": "stdout"
        }
      ]
    },
    {
      "cell_type": "code",
      "metadata": {
        "id": "iDNKV21Wb7B2"
      },
      "source": [
        "!ddgr -n 100 -w cnn.com --json coney-barrett october 2020 >> coney-barrett_cnn_202010.json"
      ],
      "execution_count": null,
      "outputs": []
    },
    {
      "cell_type": "code",
      "metadata": {
        "id": "dkI7Mru9b6-m"
      },
      "source": [
        "!ddgr -n 100 -w cnn.com --json coney-barrett november 2020 >> coney-barrett_cnn_202011.json"
      ],
      "execution_count": null,
      "outputs": []
    },
    {
      "cell_type": "code",
      "metadata": {
        "colab": {
          "base_uri": "https://localhost:8080/"
        },
        "id": "5KASch4CYse1",
        "outputId": "1d256333-40eb-44bc-a15a-8095e918203b"
      },
      "source": [
        "!ls"
      ],
      "execution_count": null,
      "outputs": [
        {
          "output_type": "stream",
          "text": [
            "coney-barrett_cnn_202009.json  sample_data\n"
          ],
          "name": "stdout"
        }
      ]
    },
    {
      "cell_type": "code",
      "metadata": {
        "id": "nV7vk227Ysco"
      },
      "source": [
        "!rm coney*"
      ],
      "execution_count": null,
      "outputs": []
    },
    {
      "cell_type": "code",
      "metadata": {
        "colab": {
          "base_uri": "https://localhost:8080/"
        },
        "id": "2Xb59L32YsZ2",
        "outputId": "65dcf6ba-24b1-4926-de1e-7c906e16f31d"
      },
      "source": [
        "!ls"
      ],
      "execution_count": null,
      "outputs": [
        {
          "output_type": "stream",
          "text": [
            "sample_data\n"
          ],
          "name": "stdout"
        }
      ]
    },
    {
      "cell_type": "code",
      "metadata": {
        "id": "Cg5pjX9RdzQi"
      },
      "source": [
        "from gsearch.googlesearch import search"
      ],
      "execution_count": null,
      "outputs": []
    },
    {
      "cell_type": "code",
      "metadata": {
        "id": "eLXha-mddzNm"
      },
      "source": [
        "results = search('Full Stack Developer')  # returns 10 or less results"
      ],
      "execution_count": null,
      "outputs": []
    },
    {
      "cell_type": "code",
      "metadata": {
        "colab": {
          "base_uri": "https://localhost:8080/"
        },
        "id": "8Ct6ozv1dzKb",
        "outputId": "2fa676a4-7d0d-4ef2-f934-465341feaf41"
      },
      "source": [
        "results"
      ],
      "execution_count": null,
      "outputs": [
        {
          "output_type": "execute_result",
          "data": {
            "text/plain": [
              "[]"
            ]
          },
          "metadata": {
            "tags": []
          },
          "execution_count": 28
        }
      ]
    },
    {
      "cell_type": "markdown",
      "metadata": {
        "id": "yFgs_bq7em4R"
      },
      "source": [
        "### Install Duck Duck Search Python Package 'python-duckduckgo'"
      ]
    },
    {
      "cell_type": "code",
      "metadata": {
        "colab": {
          "base_uri": "https://localhost:8080/"
        },
        "id": "RHJcMcmTd_Cx",
        "outputId": "18bb431c-21ea-429b-ce9a-668b9cb8f0f0"
      },
      "source": [
        "!git clone https://github.com/mikejs/python-duckduckgo.git"
      ],
      "execution_count": null,
      "outputs": [
        {
          "output_type": "stream",
          "text": [
            "fatal: destination path 'python-duckduckgo' already exists and is not an empty directory.\n"
          ],
          "name": "stdout"
        }
      ]
    },
    {
      "cell_type": "code",
      "metadata": {
        "colab": {
          "base_uri": "https://localhost:8080/"
        },
        "id": "45-qKcc5d-_o",
        "outputId": "5cf935d1-3028-43ad-8727-532c4294f16c"
      },
      "source": [
        "!ls"
      ],
      "execution_count": null,
      "outputs": [
        {
          "output_type": "stream",
          "text": [
            "coney-barrett_cnn_202009.json  python-duckduckgo  sample_data\n"
          ],
          "name": "stdout"
        }
      ]
    },
    {
      "cell_type": "code",
      "metadata": {
        "colab": {
          "base_uri": "https://localhost:8080/"
        },
        "id": "W-_-_YQgd-8u",
        "outputId": "2af4c505-eea2-4d7c-858d-7762aa35ef72"
      },
      "source": [
        "!ls python-duckduckgo"
      ],
      "execution_count": null,
      "outputs": [
        {
          "output_type": "stream",
          "text": [
            "duckduckgo.py  LICENSE\tMANIFEST  README.rst  setup.py\n"
          ],
          "name": "stdout"
        }
      ]
    },
    {
      "cell_type": "code",
      "metadata": {
        "colab": {
          "base_uri": "https://localhost:8080/"
        },
        "id": "npQTf7vxewM3",
        "outputId": "8b0db328-22cd-4f7e-aee3-31ce956f9425"
      },
      "source": [
        "%cd python-duckduckgo/"
      ],
      "execution_count": null,
      "outputs": [
        {
          "output_type": "stream",
          "text": [
            "/content/python-duckduckgo\n"
          ],
          "name": "stdout"
        }
      ]
    },
    {
      "cell_type": "code",
      "metadata": {
        "colab": {
          "base_uri": "https://localhost:8080/"
        },
        "id": "RcC3-abjewJ0",
        "outputId": "cc30d6fc-a7b7-4aeb-bb10-02a1132a05f9"
      },
      "source": [
        "!python setup.py install"
      ],
      "execution_count": null,
      "outputs": [
        {
          "output_type": "stream",
          "text": [
            "Traceback (most recent call last):\n",
            "  File \"setup.py\", line 2, in <module>\n",
            "    from duckduckgo import __version__\n",
            "  File \"/content/python-duckduckgo/duckduckgo.py\", line 134\n",
            "    print \"Invalid disambiguation number.\"\n",
            "                                         ^\n",
            "SyntaxError: Missing parentheses in call to 'print'. Did you mean print(\"Invalid disambiguation number.\")?\n"
          ],
          "name": "stdout"
        }
      ]
    },
    {
      "cell_type": "markdown",
      "metadata": {
        "id": "d73jYLyGfoYe"
      },
      "source": [
        "### Duck Duck Go Python Library DuckDuckPy\n",
        "\n",
        "Reference:\n",
        "\n",
        "* https://github.com/ivankliuk/duckduckpy"
      ]
    },
    {
      "cell_type": "code",
      "metadata": {
        "colab": {
          "base_uri": "https://localhost:8080/"
        },
        "id": "mg-uRnxiewGs",
        "outputId": "04cdae92-ab18-4b6e-e42a-ecc89f3a1571"
      },
      "source": [
        "!pip install duckduckpy"
      ],
      "execution_count": null,
      "outputs": [
        {
          "output_type": "stream",
          "text": [
            "Collecting duckduckpy\n",
            "  Downloading https://files.pythonhosted.org/packages/e0/7a/b186c3e372217edf3573844cdf5d9c22f11d147ec8d46f04982b40b4f4f1/duckduckpy-0.2.tar.bz2\n",
            "Building wheels for collected packages: duckduckpy\n",
            "  Building wheel for duckduckpy (setup.py) ... \u001b[?25l\u001b[?25hdone\n",
            "  Created wheel for duckduckpy: filename=duckduckpy-0.2-cp36-none-any.whl size=9947 sha256=d8bcaf1c77922e31337bf898fa2ebea0be184e40d730d166192292bee961c4b5\n",
            "  Stored in directory: /root/.cache/pip/wheels/0c/07/e3/086e992f0eb213ffb8ec53bfb8450a1da67343e050edc72327\n",
            "Successfully built duckduckpy\n",
            "Installing collected packages: duckduckpy\n",
            "Successfully installed duckduckpy-0.2\n"
          ],
          "name": "stdout"
        }
      ]
    },
    {
      "cell_type": "code",
      "metadata": {
        "id": "wrlE2nMaf3ks"
      },
      "source": [
        "from duckduckpy import query"
      ],
      "execution_count": null,
      "outputs": []
    },
    {
      "cell_type": "markdown",
      "metadata": {
        "id": "UtxEBlIQhdV2"
      },
      "source": [
        "DuckDuckPy query API syntax\n",
        "\n",
        "```\n",
        "query(query_string, secure=False, container=u'namedtuple', verbose=False,\n",
        "      user_agent=u'duckduckpy 0.2', no_redirect=False, no_html=False,\n",
        "      skip_disambig=False)\n",
        "```"
      ]
    },
    {
      "cell_type": "code",
      "metadata": {
        "id": "UuHEUZQ-haj8"
      },
      "source": [
        "response = query(\"brett kavanaugh August 2018\", container=u'dict', no_html=True)"
      ],
      "execution_count": null,
      "outputs": []
    },
    {
      "cell_type": "code",
      "metadata": {
        "colab": {
          "base_uri": "https://localhost:8080/"
        },
        "id": "sFmsAiU8hafd",
        "outputId": "529b93f8-fc3f-42e4-8075-a172734ed8c9"
      },
      "source": [
        "pprint.pprint(response)"
      ],
      "execution_count": null,
      "outputs": [
        {
          "output_type": "stream",
          "text": [
            "{'abstract': '',\n",
            " 'abstract_source': '',\n",
            " 'abstract_text': '',\n",
            " 'abstract_url': '',\n",
            " 'answer': '',\n",
            " 'answer_type': '',\n",
            " 'definition': '',\n",
            " 'definition_source': '',\n",
            " 'definition_url': '',\n",
            " 'entity': '',\n",
            " 'heading': '',\n",
            " 'image': '',\n",
            " 'image_height': '',\n",
            " 'image_is_logo': '',\n",
            " 'image_width': '',\n",
            " 'infobox': '',\n",
            " 'meta': None,\n",
            " 'redirect': '',\n",
            " 'related_topics': [],\n",
            " 'results': [],\n",
            " 'type': ''}\n"
          ],
          "name": "stdout"
        }
      ]
    },
    {
      "cell_type": "code",
      "metadata": {
        "id": "7sPha75lhaYp"
      },
      "source": [],
      "execution_count": null,
      "outputs": []
    },
    {
      "cell_type": "code",
      "metadata": {
        "colab": {
          "base_uri": "https://localhost:8080/"
        },
        "id": "_cl2O-loewD1",
        "outputId": "6be6beb1-683b-4915-c2d5-38aa65099f83"
      },
      "source": [
        "# response = query('coney barrett', container='dict') # namedtuple is used as a container\n",
        "response = query('brett kavanaugh', container='dict') # namedtuple is used as a container\n",
        "\n",
        "print(response)"
      ],
      "execution_count": null,
      "outputs": [
        {
          "output_type": "stream",
          "text": [
            "{'image_height': 270, 'definition': '', 'definition_source': '', 'type': 'A', 'entity': 'infobox', 'image': '/i/3fbed2ef.jpg', 'answer': '', 'image_is_logo': 0, 'answer_type': '', 'image_width': 222, 'abstract_source': 'Wikipedia', 'definition_url': '', 'abstract_url': 'https://en.wikipedia.org/wiki/Brett_Kavanaugh', 'abstract_text': \"Brett Michael Kavanaugh is an Associate Justice of the Supreme Court of the United States. He was nominated by President Donald Trump on July 9, 2018, and has served since October 6, 2018. He was previously a United States Circuit Judge of the United States Court of Appeals for the District of Columbia Circuit and worked as a staff lawyer for various offices of the federal government. Kavanaugh studied history at Yale University, where he joined Delta Kappa Epsilon fraternity. He then attended Yale Law School, after which he began his career as a law clerk and then a postgraduate fellow working under Judge Ken Starr. After Starr left the D.C. Circuit to become head of the Office of Independent Counsel, Kavanaugh assisted him with various investigations concerning President Bill Clinton, including drafting the Starr Report recommending Clinton's impeachment.\", 'results': [], 'heading': 'Brett Kavanaugh', 'redirect': '', 'meta': {'tab': 'About', 'production_state': 'online', 'maintainer': {'github': 'duckduckgo'}, 'example_query': 'nikola tesla', 'signal_from': 'wikipedia_fathead', 'repo': 'fathead', 'src_options': {'src_info': '', 'skip_abstract_paren': 0, 'skip_end': '0', 'is_wikipedia': 1, 'is_fanon': 0, 'source_skip': '', 'skip_icon': 0, 'skip_image_name': 0, 'language': 'en', 'directory': '', 'min_abstract_length': '20', 'is_mediawiki': 1, 'skip_qr': '', 'skip_abstract': 0}, 'attribution': None, 'producer': None, 'designer': None, 'src_domain': 'en.wikipedia.org', 'unsafe': 0, 'is_stackexchange': None, 'dev_date': None, 'src_id': 1, 'src_url': None, 'description': 'Wikipedia', 'perl_module': 'DDG::Fathead::Wikipedia', 'id': 'wikipedia_fathead', 'live_date': None, 'created_date': None, 'blockgroup': None, 'dev_milestone': 'live', 'src_name': 'Wikipedia', 'developer': [{'type': 'ddg', 'url': 'http://www.duckduckhack.com', 'name': 'DDG Team'}], 'js_callback_name': 'wikipedia', 'name': 'Wikipedia', 'topic': ['productivity'], 'status': 'live'}, 'related_topics': [{'icon': {'height': '', 'width': '', 'url': ''}, 'text': 'Donald Trump Supreme Court candidates - With the advice and consent of the United States Senate, the president of the United States appoints the members of the Supreme Court of the United States, which is the highest court of the federal judiciary of the United States.', 'result': '<a href=\"https://duckduckgo.com/Donald_Trump_Supreme_Court_candidates\">Donald Trump Supreme Court candidates</a> - With the advice and consent of the United States Senate, the president of the United States appoints the members of the Supreme Court of the United States, which is the highest court of the federal judiciary of the United States.', 'first_url': 'https://duckduckgo.com/Donald_Trump_Supreme_Court_candidates'}, {'first_url': 'https://duckduckgo.com/Donald_Trump_judicial_appointment_controversies', 'text': 'Donald Trump judicial appointment controversies - President Donald Trump entered office with a significant number of judicial vacancies, including a Supreme Court vacancy due to the death of Antonin Scalia in February 2016.', 'result': '<a href=\"https://duckduckgo.com/Donald_Trump_judicial_appointment_controversies\">Donald Trump judicial appointment controversies</a> - President Donald Trump entered office with a significant number of judicial vacancies, including a Supreme Court vacancy due to the death of Antonin Scalia in February 2016.', 'icon': {'height': '', 'width': '', 'url': ''}}, {'icon': {'width': '', 'url': '', 'height': ''}, 'text': \"George W. Bush Supreme Court candidates - Speculation abounded over potential nominations to the Supreme Court of the United States by President George W. Bush since before his presidency. In the summer of 2005, this speculation became newsworthy due to the announcement of the retirement of Associate Justice Sandra Day O'Connor on July 1.\", 'result': '<a href=\"https://duckduckgo.com/George_W._Bush_Supreme_Court_candidates\">George W. Bush Supreme Court candidates</a> - Speculation abounded over potential nominations to the Supreme Court of the United States by President George W. Bush since before his presidency. In the summer of 2005, this speculation became newsworthy due to the announcement of the retirement of Associate Justice Sandra Day O\\'Connor on July 1.', 'first_url': 'https://duckduckgo.com/George_W._Bush_Supreme_Court_candidates'}, {'result': '<a href=\"https://duckduckgo.com/c/United_States_court_of_appeals_judges_appointed_by_George_W._Bush\">United States court of appeals judges appointed by George W. Bush</a>', 'text': 'United States court of appeals judges appointed by George W. Bush', 'icon': {'height': '', 'width': '', 'url': ''}, 'first_url': 'https://duckduckgo.com/c/United_States_court_of_appeals_judges_appointed_by_George_W._Bush'}, {'icon': {'height': '', 'width': '', 'url': ''}, 'text': 'Judges of the United States Court of Appeals for the D.C. Circuit', 'result': '<a href=\"https://duckduckgo.com/c/Judges_of_the_United_States_Court_of_Appeals_for_the_D.C._Circuit\">Judges of the United States Court of Appeals for the D.C. Circuit</a>', 'first_url': 'https://duckduckgo.com/c/Judges_of_the_United_States_Court_of_Appeals_for_the_D.C._Circuit'}, {'result': '<a href=\"https://duckduckgo.com/c/Georgetown_University_Law_Center_faculty\">Georgetown University Law Center faculty</a>', 'text': 'Georgetown University Law Center faculty', 'icon': {'height': '', 'width': '', 'url': ''}, 'first_url': 'https://duckduckgo.com/c/Georgetown_University_Law_Center_faculty'}, {'first_url': 'https://duckduckgo.com/c/Yale_Law_School_faculty', 'text': 'Yale Law School faculty', 'result': '<a href=\"https://duckduckgo.com/c/Yale_Law_School_faculty\">Yale Law School faculty</a>', 'icon': {'height': '', 'width': '', 'url': ''}}, {'result': '<a href=\"https://duckduckgo.com/c/United_States_Department_of_Justice_lawyers\">United States Department of Justice lawyers</a>', 'text': 'United States Department of Justice lawyers', 'icon': {'height': '', 'width': '', 'url': ''}, 'first_url': 'https://duckduckgo.com/c/United_States_Department_of_Justice_lawyers'}, {'result': '<a href=\"https://duckduckgo.com/c/Harvard_Law_School_faculty\">Harvard Law School faculty</a>', 'text': 'Harvard Law School faculty', 'icon': {'height': '', 'width': '', 'url': ''}, 'first_url': 'https://duckduckgo.com/c/Harvard_Law_School_faculty'}, {'icon': {'width': '', 'url': '', 'height': ''}, 'text': 'Federalist Society members', 'result': '<a href=\"https://duckduckgo.com/c/Federalist_Society_members\">Federalist Society members</a>', 'first_url': 'https://duckduckgo.com/c/Federalist_Society_members'}, {'result': '<a href=\"https://duckduckgo.com/c/Maryland_Republicans\">Maryland Republicans</a>', 'text': 'Maryland Republicans', 'icon': {'height': '', 'width': '', 'url': ''}, 'first_url': 'https://duckduckgo.com/c/Maryland_Republicans'}, {'icon': {'height': '', 'width': '', 'url': ''}, 'text': 'Law clerks of the Supreme Court of the United States', 'result': '<a href=\"https://duckduckgo.com/c/Law_clerks_of_the_Supreme_Court_of_the_United_States\">Law clerks of the Supreme Court of the United States</a>', 'first_url': 'https://duckduckgo.com/c/Law_clerks_of_the_Supreme_Court_of_the_United_States'}], 'abstract': \"Brett Michael Kavanaugh is an Associate Justice of the Supreme Court of the United States. He was nominated by President Donald Trump on July 9, 2018, and has served since October 6, 2018. He was previously a United States Circuit Judge of the United States Court of Appeals for the District of Columbia Circuit and worked as a staff lawyer for various offices of the federal government. Kavanaugh studied history at Yale University, where he joined Delta Kappa Epsilon fraternity. He then attended Yale Law School, after which he began his career as a law clerk and then a postgraduate fellow working under Judge Ken Starr. After Starr left the D.C. Circuit to become head of the Office of Independent Counsel, Kavanaugh assisted him with various investigations concerning President Bill Clinton, including drafting the Starr Report recommending Clinton's impeachment.\", 'infobox': {'meta': [{'value': 'Brett Kavanaugh', 'label': 'article_title', 'data_type': 'string'}, {'data_type': 'string', 'label': 'template_name', 'value': 'infobox'}], 'content': [{'wiki_order': 0, 'label': 'Born', 'data_type': 'string', 'value': 'Brett Michael Kavanaugh, February 12, 1965, Washington, D.C, U.S.'}, {'value': '2', 'label': 'Children', 'wiki_order': 1, 'data_type': 'string'}, {'value': 'Yale University (BA, JD)', 'wiki_order': 2, 'label': 'Education', 'data_type': 'string'}, {'value': 'Anthony Kennedy', 'data_type': 'string', 'wiki_order': 3, 'label': 'Preceded by'}, {'data_type': 'instance', 'label': 'Instance of', 'wiki_order': '207', 'value': {'numeric-id': 5, 'id': 'Q5', 'entity-type': 'item'}}]}}\n"
          ],
          "name": "stdout"
        }
      ]
    },
    {
      "cell_type": "code",
      "metadata": {
        "colab": {
          "base_uri": "https://localhost:8080/"
        },
        "id": "Px3HgcSUewBA",
        "outputId": "337d7164-258e-494b-8e58-73672ee6ba37"
      },
      "source": [
        "pprint.pprint(response)"
      ],
      "execution_count": null,
      "outputs": [
        {
          "output_type": "stream",
          "text": [
            "{'abstract': 'Brett Michael Kavanaugh is an Associate Justice of the Supreme '\n",
            "             'Court of the United States. He was nominated by President Donald '\n",
            "             'Trump on July 9, 2018, and has served since October 6, 2018. He '\n",
            "             'was previously a United States Circuit Judge of the United '\n",
            "             'States Court of Appeals for the District of Columbia Circuit and '\n",
            "             'worked as a staff lawyer for various offices of the federal '\n",
            "             'government. Kavanaugh studied history at Yale University, where '\n",
            "             'he joined Delta Kappa Epsilon fraternity. He then attended Yale '\n",
            "             'Law School, after which he began his career as a law clerk and '\n",
            "             'then a postgraduate fellow working under Judge Ken Starr. After '\n",
            "             'Starr left the D.C. Circuit to become head of the Office of '\n",
            "             'Independent Counsel, Kavanaugh assisted him with various '\n",
            "             'investigations concerning President Bill Clinton, including '\n",
            "             \"drafting the Starr Report recommending Clinton's impeachment.\",\n",
            " 'abstract_source': 'Wikipedia',\n",
            " 'abstract_text': 'Brett Michael Kavanaugh is an Associate Justice of the '\n",
            "                  'Supreme Court of the United States. He was nominated by '\n",
            "                  'President Donald Trump on July 9, 2018, and has served '\n",
            "                  'since October 6, 2018. He was previously a United States '\n",
            "                  'Circuit Judge of the United States Court of Appeals for the '\n",
            "                  'District of Columbia Circuit and worked as a staff lawyer '\n",
            "                  'for various offices of the federal government. Kavanaugh '\n",
            "                  'studied history at Yale University, where he joined Delta '\n",
            "                  'Kappa Epsilon fraternity. He then attended Yale Law School, '\n",
            "                  'after which he began his career as a law clerk and then a '\n",
            "                  'postgraduate fellow working under Judge Ken Starr. After '\n",
            "                  'Starr left the D.C. Circuit to become head of the Office of '\n",
            "                  'Independent Counsel, Kavanaugh assisted him with various '\n",
            "                  'investigations concerning President Bill Clinton, including '\n",
            "                  \"drafting the Starr Report recommending Clinton's \"\n",
            "                  'impeachment.',\n",
            " 'abstract_url': 'https://en.wikipedia.org/wiki/Brett_Kavanaugh',\n",
            " 'answer': '',\n",
            " 'answer_type': '',\n",
            " 'definition': '',\n",
            " 'definition_source': '',\n",
            " 'definition_url': '',\n",
            " 'entity': 'infobox',\n",
            " 'heading': 'Brett Kavanaugh',\n",
            " 'image': '/i/3fbed2ef.jpg',\n",
            " 'image_height': 270,\n",
            " 'image_is_logo': 0,\n",
            " 'image_width': 222,\n",
            " 'infobox': {'content': [{'data_type': 'string',\n",
            "                          'label': 'Born',\n",
            "                          'value': 'Brett Michael Kavanaugh, February 12, '\n",
            "                                   '1965, Washington, D.C, U.S.',\n",
            "                          'wiki_order': 0},\n",
            "                         {'data_type': 'string',\n",
            "                          'label': 'Children',\n",
            "                          'value': '2',\n",
            "                          'wiki_order': 1},\n",
            "                         {'data_type': 'string',\n",
            "                          'label': 'Education',\n",
            "                          'value': 'Yale University (BA, JD)',\n",
            "                          'wiki_order': 2},\n",
            "                         {'data_type': 'string',\n",
            "                          'label': 'Preceded by',\n",
            "                          'value': 'Anthony Kennedy',\n",
            "                          'wiki_order': 3},\n",
            "                         {'data_type': 'instance',\n",
            "                          'label': 'Instance of',\n",
            "                          'value': {'entity-type': 'item',\n",
            "                                    'id': 'Q5',\n",
            "                                    'numeric-id': 5},\n",
            "                          'wiki_order': '207'}],\n",
            "             'meta': [{'data_type': 'string',\n",
            "                       'label': 'article_title',\n",
            "                       'value': 'Brett Kavanaugh'},\n",
            "                      {'data_type': 'string',\n",
            "                       'label': 'template_name',\n",
            "                       'value': 'infobox'}]},\n",
            " 'meta': {'attribution': None,\n",
            "          'blockgroup': None,\n",
            "          'created_date': None,\n",
            "          'description': 'Wikipedia',\n",
            "          'designer': None,\n",
            "          'dev_date': None,\n",
            "          'dev_milestone': 'live',\n",
            "          'developer': [{'name': 'DDG Team',\n",
            "                         'type': 'ddg',\n",
            "                         'url': 'http://www.duckduckhack.com'}],\n",
            "          'example_query': 'nikola tesla',\n",
            "          'id': 'wikipedia_fathead',\n",
            "          'is_stackexchange': None,\n",
            "          'js_callback_name': 'wikipedia',\n",
            "          'live_date': None,\n",
            "          'maintainer': {'github': 'duckduckgo'},\n",
            "          'name': 'Wikipedia',\n",
            "          'perl_module': 'DDG::Fathead::Wikipedia',\n",
            "          'producer': None,\n",
            "          'production_state': 'online',\n",
            "          'repo': 'fathead',\n",
            "          'signal_from': 'wikipedia_fathead',\n",
            "          'src_domain': 'en.wikipedia.org',\n",
            "          'src_id': 1,\n",
            "          'src_name': 'Wikipedia',\n",
            "          'src_options': {'directory': '',\n",
            "                          'is_fanon': 0,\n",
            "                          'is_mediawiki': 1,\n",
            "                          'is_wikipedia': 1,\n",
            "                          'language': 'en',\n",
            "                          'min_abstract_length': '20',\n",
            "                          'skip_abstract': 0,\n",
            "                          'skip_abstract_paren': 0,\n",
            "                          'skip_end': '0',\n",
            "                          'skip_icon': 0,\n",
            "                          'skip_image_name': 0,\n",
            "                          'skip_qr': '',\n",
            "                          'source_skip': '',\n",
            "                          'src_info': ''},\n",
            "          'src_url': None,\n",
            "          'status': 'live',\n",
            "          'tab': 'About',\n",
            "          'topic': ['productivity'],\n",
            "          'unsafe': 0},\n",
            " 'redirect': '',\n",
            " 'related_topics': [{'first_url': 'https://duckduckgo.com/Donald_Trump_Supreme_Court_candidates',\n",
            "                     'icon': {'height': '', 'url': '', 'width': ''},\n",
            "                     'result': '<a '\n",
            "                               'href=\"https://duckduckgo.com/Donald_Trump_Supreme_Court_candidates\">Donald '\n",
            "                               'Trump Supreme Court candidates</a> - With the '\n",
            "                               'advice and consent of the United States '\n",
            "                               'Senate, the president of the United States '\n",
            "                               'appoints the members of the Supreme Court of '\n",
            "                               'the United States, which is the highest court '\n",
            "                               'of the federal judiciary of the United States.',\n",
            "                     'text': 'Donald Trump Supreme Court candidates - With the '\n",
            "                             'advice and consent of the United States Senate, '\n",
            "                             'the president of the United States appoints the '\n",
            "                             'members of the Supreme Court of the United '\n",
            "                             'States, which is the highest court of the '\n",
            "                             'federal judiciary of the United States.'},\n",
            "                    {'first_url': 'https://duckduckgo.com/Donald_Trump_judicial_appointment_controversies',\n",
            "                     'icon': {'height': '', 'url': '', 'width': ''},\n",
            "                     'result': '<a '\n",
            "                               'href=\"https://duckduckgo.com/Donald_Trump_judicial_appointment_controversies\">Donald '\n",
            "                               'Trump judicial appointment controversies</a> - '\n",
            "                               'President Donald Trump entered office with a '\n",
            "                               'significant number of judicial vacancies, '\n",
            "                               'including a Supreme Court vacancy due to the '\n",
            "                               'death of Antonin Scalia in February 2016.',\n",
            "                     'text': 'Donald Trump judicial appointment controversies '\n",
            "                             '- President Donald Trump entered office with a '\n",
            "                             'significant number of judicial vacancies, '\n",
            "                             'including a Supreme Court vacancy due to the '\n",
            "                             'death of Antonin Scalia in February 2016.'},\n",
            "                    {'first_url': 'https://duckduckgo.com/George_W._Bush_Supreme_Court_candidates',\n",
            "                     'icon': {'height': '', 'url': '', 'width': ''},\n",
            "                     'result': '<a '\n",
            "                               'href=\"https://duckduckgo.com/George_W._Bush_Supreme_Court_candidates\">George '\n",
            "                               'W. Bush Supreme Court candidates</a> - '\n",
            "                               'Speculation abounded over potential '\n",
            "                               'nominations to the Supreme Court of the United '\n",
            "                               'States by President George W. Bush since '\n",
            "                               'before his presidency. In the summer of 2005, '\n",
            "                               'this speculation became newsworthy due to the '\n",
            "                               'announcement of the retirement of Associate '\n",
            "                               \"Justice Sandra Day O'Connor on July 1.\",\n",
            "                     'text': 'George W. Bush Supreme Court candidates - '\n",
            "                             'Speculation abounded over potential nominations '\n",
            "                             'to the Supreme Court of the United States by '\n",
            "                             'President George W. Bush since before his '\n",
            "                             'presidency. In the summer of 2005, this '\n",
            "                             'speculation became newsworthy due to the '\n",
            "                             'announcement of the retirement of Associate '\n",
            "                             \"Justice Sandra Day O'Connor on July 1.\"},\n",
            "                    {'first_url': 'https://duckduckgo.com/c/United_States_court_of_appeals_judges_appointed_by_George_W._Bush',\n",
            "                     'icon': {'height': '', 'url': '', 'width': ''},\n",
            "                     'result': '<a '\n",
            "                               'href=\"https://duckduckgo.com/c/United_States_court_of_appeals_judges_appointed_by_George_W._Bush\">United '\n",
            "                               'States court of appeals judges appointed by '\n",
            "                               'George W. Bush</a>',\n",
            "                     'text': 'United States court of appeals judges appointed '\n",
            "                             'by George W. Bush'},\n",
            "                    {'first_url': 'https://duckduckgo.com/c/Judges_of_the_United_States_Court_of_Appeals_for_the_D.C._Circuit',\n",
            "                     'icon': {'height': '', 'url': '', 'width': ''},\n",
            "                     'result': '<a '\n",
            "                               'href=\"https://duckduckgo.com/c/Judges_of_the_United_States_Court_of_Appeals_for_the_D.C._Circuit\">Judges '\n",
            "                               'of the United States Court of Appeals for the '\n",
            "                               'D.C. Circuit</a>',\n",
            "                     'text': 'Judges of the United States Court of Appeals for '\n",
            "                             'the D.C. Circuit'},\n",
            "                    {'first_url': 'https://duckduckgo.com/c/Georgetown_University_Law_Center_faculty',\n",
            "                     'icon': {'height': '', 'url': '', 'width': ''},\n",
            "                     'result': '<a '\n",
            "                               'href=\"https://duckduckgo.com/c/Georgetown_University_Law_Center_faculty\">Georgetown '\n",
            "                               'University Law Center faculty</a>',\n",
            "                     'text': 'Georgetown University Law Center faculty'},\n",
            "                    {'first_url': 'https://duckduckgo.com/c/Yale_Law_School_faculty',\n",
            "                     'icon': {'height': '', 'url': '', 'width': ''},\n",
            "                     'result': '<a '\n",
            "                               'href=\"https://duckduckgo.com/c/Yale_Law_School_faculty\">Yale '\n",
            "                               'Law School faculty</a>',\n",
            "                     'text': 'Yale Law School faculty'},\n",
            "                    {'first_url': 'https://duckduckgo.com/c/United_States_Department_of_Justice_lawyers',\n",
            "                     'icon': {'height': '', 'url': '', 'width': ''},\n",
            "                     'result': '<a '\n",
            "                               'href=\"https://duckduckgo.com/c/United_States_Department_of_Justice_lawyers\">United '\n",
            "                               'States Department of Justice lawyers</a>',\n",
            "                     'text': 'United States Department of Justice lawyers'},\n",
            "                    {'first_url': 'https://duckduckgo.com/c/Harvard_Law_School_faculty',\n",
            "                     'icon': {'height': '', 'url': '', 'width': ''},\n",
            "                     'result': '<a '\n",
            "                               'href=\"https://duckduckgo.com/c/Harvard_Law_School_faculty\">Harvard '\n",
            "                               'Law School faculty</a>',\n",
            "                     'text': 'Harvard Law School faculty'},\n",
            "                    {'first_url': 'https://duckduckgo.com/c/Federalist_Society_members',\n",
            "                     'icon': {'height': '', 'url': '', 'width': ''},\n",
            "                     'result': '<a '\n",
            "                               'href=\"https://duckduckgo.com/c/Federalist_Society_members\">Federalist '\n",
            "                               'Society members</a>',\n",
            "                     'text': 'Federalist Society members'},\n",
            "                    {'first_url': 'https://duckduckgo.com/c/Maryland_Republicans',\n",
            "                     'icon': {'height': '', 'url': '', 'width': ''},\n",
            "                     'result': '<a '\n",
            "                               'href=\"https://duckduckgo.com/c/Maryland_Republicans\">Maryland '\n",
            "                               'Republicans</a>',\n",
            "                     'text': 'Maryland Republicans'},\n",
            "                    {'first_url': 'https://duckduckgo.com/c/Law_clerks_of_the_Supreme_Court_of_the_United_States',\n",
            "                     'icon': {'height': '', 'url': '', 'width': ''},\n",
            "                     'result': '<a '\n",
            "                               'href=\"https://duckduckgo.com/c/Law_clerks_of_the_Supreme_Court_of_the_United_States\">Law '\n",
            "                               'clerks of the Supreme Court of the United '\n",
            "                               'States</a>',\n",
            "                     'text': 'Law clerks of the Supreme Court of the United '\n",
            "                             'States'}],\n",
            " 'results': [],\n",
            " 'type': 'A'}\n"
          ],
          "name": "stdout"
        }
      ]
    },
    {
      "cell_type": "code",
      "metadata": {
        "colab": {
          "base_uri": "https://localhost:8080/",
          "height": 171
        },
        "id": "eStPV8GGev-f",
        "outputId": "c4ef57f1-e9d4-4504-ac55-8136ec159ca1"
      },
      "source": [
        "pprint.pprint(response.related_topics[0])"
      ],
      "execution_count": null,
      "outputs": [
        {
          "output_type": "error",
          "ename": "AttributeError",
          "evalue": "ignored",
          "traceback": [
            "\u001b[0;31m---------------------------------------------------------------------------\u001b[0m",
            "\u001b[0;31mAttributeError\u001b[0m                            Traceback (most recent call last)",
            "\u001b[0;32m<ipython-input-49-39be6deefd35>\u001b[0m in \u001b[0;36m<module>\u001b[0;34m()\u001b[0m\n\u001b[0;32m----> 1\u001b[0;31m \u001b[0mpprint\u001b[0m\u001b[0;34m.\u001b[0m\u001b[0mpprint\u001b[0m\u001b[0;34m(\u001b[0m\u001b[0mresponse\u001b[0m\u001b[0;34m.\u001b[0m\u001b[0mrelated_topics\u001b[0m\u001b[0;34m[\u001b[0m\u001b[0;36m0\u001b[0m\u001b[0;34m]\u001b[0m\u001b[0;34m)\u001b[0m\u001b[0;34m\u001b[0m\u001b[0;34m\u001b[0m\u001b[0m\n\u001b[0m",
            "\u001b[0;31mAttributeError\u001b[0m: 'dict' object has no attribute 'related_topics'"
          ]
        }
      ]
    },
    {
      "cell_type": "code",
      "metadata": {
        "id": "5xF_ycrhev73"
      },
      "source": [],
      "execution_count": null,
      "outputs": []
    },
    {
      "cell_type": "code",
      "metadata": {
        "id": "dNQmgJWWev4t"
      },
      "source": [],
      "execution_count": null,
      "outputs": []
    },
    {
      "cell_type": "code",
      "metadata": {
        "id": "WbXTzQabevyu"
      },
      "source": [],
      "execution_count": null,
      "outputs": []
    },
    {
      "cell_type": "code",
      "metadata": {
        "colab": {
          "base_uri": "https://localhost:8080/"
        },
        "id": "yGTJAoy3dzHi",
        "outputId": "4815c49f-647d-4c89-95c1-a19189e6009c"
      },
      "source": [
        "!pip install gsearch"
      ],
      "execution_count": null,
      "outputs": [
        {
          "output_type": "stream",
          "text": [
            "Collecting gsearch\n",
            "  Downloading https://files.pythonhosted.org/packages/26/d2/65a84b0b4f9bc7136551f24ed08628eb2aea1f713a7d4642500fe55d128d/gsearch-1.6.0-py2.py3-none-any.whl\n",
            "Installing collected packages: gsearch\n",
            "Successfully installed gsearch-1.6.0\n"
          ],
          "name": "stdout"
        }
      ]
    },
    {
      "cell_type": "code",
      "metadata": {
        "id": "loKCgnewdzE-"
      },
      "source": [],
      "execution_count": null,
      "outputs": []
    },
    {
      "cell_type": "code",
      "metadata": {
        "id": "ybd81xladzB6"
      },
      "source": [],
      "execution_count": null,
      "outputs": []
    },
    {
      "cell_type": "code",
      "metadata": {
        "id": "fOcaa7kNdy-5"
      },
      "source": [],
      "execution_count": null,
      "outputs": []
    },
    {
      "cell_type": "code",
      "metadata": {
        "id": "TOFFrtvYdy9H"
      },
      "source": [],
      "execution_count": null,
      "outputs": []
    },
    {
      "cell_type": "code",
      "metadata": {
        "id": "2fVRQ6zidy7m"
      },
      "source": [],
      "execution_count": null,
      "outputs": []
    },
    {
      "cell_type": "code",
      "metadata": {
        "id": "gZWUOfoxdy6I"
      },
      "source": [],
      "execution_count": null,
      "outputs": []
    },
    {
      "cell_type": "code",
      "metadata": {
        "id": "qnaoNqGQdy0X"
      },
      "source": [],
      "execution_count": null,
      "outputs": []
    },
    {
      "cell_type": "code",
      "metadata": {
        "id": "Zj5fKnQ5YsWn"
      },
      "source": [],
      "execution_count": null,
      "outputs": []
    },
    {
      "cell_type": "code",
      "metadata": {
        "colab": {
          "base_uri": "https://localhost:8080/"
        },
        "id": "-7aB3-vMXZSK",
        "outputId": "3a619d69-00b2-4333-b23f-0c51ec8ac57f"
      },
      "source": [
        "from newsfetch.google import google_search\n",
        ">>> google = google_search('Alcoholics Anonymous', 'https://timesofindia.indiatimes.com/')"
      ],
      "execution_count": null,
      "outputs": [
        {
          "output_type": "stream",
          "text": [
            "Cloning into 'news-fetch'...\n",
            "remote: Enumerating objects: 30, done.\u001b[K\n",
            "remote: Counting objects: 100% (30/30), done.\u001b[K\n",
            "remote: Compressing objects: 100% (30/30), done.\u001b[K\n",
            "remote: Total 95 (delta 16), reused 0 (delta 0), pack-reused 65\u001b[K\n",
            "Unpacking objects: 100% (95/95), done.\n"
          ],
          "name": "stdout"
        }
      ]
    },
    {
      "cell_type": "code",
      "metadata": {
        "colab": {
          "base_uri": "https://localhost:8080/"
        },
        "id": "loXnsh0fYE_W",
        "outputId": "3500c098-fb2b-45ae-9721-f5ffc32cccdd"
      },
      "source": [
        "!ls"
      ],
      "execution_count": null,
      "outputs": [
        {
          "output_type": "stream",
          "text": [
            "news-fetch  sample_data\n"
          ],
          "name": "stdout"
        }
      ]
    },
    {
      "cell_type": "code",
      "metadata": {
        "colab": {
          "base_uri": "https://localhost:8080/"
        },
        "id": "VImIFIptYE8d",
        "outputId": "1a1e5a78-fb29-4c8f-800a-a6bb8584a7f7"
      },
      "source": [
        "!ls news-fetch"
      ],
      "execution_count": null,
      "outputs": [
        {
          "output_type": "stream",
          "text": [
            "CODE_OF_CONDUCT.md  LICENSE    README.md\t setup.cfg\n",
            "_config.yml\t    newsfetch  requirements.txt  setup.py\n"
          ],
          "name": "stdout"
        }
      ]
    },
    {
      "cell_type": "code",
      "metadata": {
        "colab": {
          "base_uri": "https://localhost:8080/"
        },
        "id": "AKOfSDmJYSMB",
        "outputId": "dfb0a76e-8c75-4583-e937-21764e819194"
      },
      "source": [
        "%cd news-fetch"
      ],
      "execution_count": null,
      "outputs": [
        {
          "output_type": "stream",
          "text": [
            "/content/news-fetch\n"
          ],
          "name": "stdout"
        }
      ]
    },
    {
      "cell_type": "code",
      "metadata": {
        "colab": {
          "base_uri": "https://localhost:8080/"
        },
        "id": "F9R7N6kIYE6W",
        "outputId": "09b61ce8-5419-4ee3-fa8a-e0c243a8b1e9"
      },
      "source": [
        "!pip install -r requirements.txt"
      ],
      "execution_count": null,
      "outputs": [
        {
          "output_type": "stream",
          "text": [
            "Requirement already satisfied: beautifulsoup4 in /usr/local/lib/python3.6/dist-packages (from -r requirements.txt (line 1)) (4.6.3)\n",
            "Collecting selenium\n",
            "\u001b[?25l  Downloading https://files.pythonhosted.org/packages/80/d6/4294f0b4bce4de0abf13e17190289f9d0613b0a44e5dd6a7f5ca98459853/selenium-3.141.0-py2.py3-none-any.whl (904kB)\n",
            "\u001b[K     |████████████████████████████████| 911kB 5.2MB/s \n",
            "\u001b[?25hCollecting chromedriver-binary\n",
            "  Downloading https://files.pythonhosted.org/packages/34/fd/ed6face383a0b873bcf73eef06f213b5142f6550c9cfa6732a87f06c9952/chromedriver-binary-88.0.4324.27.1.tar.gz\n",
            "Requirement already satisfied: pandas in /usr/local/lib/python3.6/dist-packages (from -r requirements.txt (line 4)) (1.1.5)\n",
            "Collecting pattern\n",
            "\u001b[?25l  Downloading https://files.pythonhosted.org/packages/1e/07/b0e61b6c818ed4b6145fe01d1c341223aa6cfbc3928538ad1f2b890924a3/Pattern-3.6.0.tar.gz (22.2MB)\n",
            "\u001b[K     |████████████████████████████████| 22.3MB 1.5MB/s \n",
            "\u001b[?25hCollecting fake_useragent\n",
            "  Downloading https://files.pythonhosted.org/packages/d1/79/af647635d6968e2deb57a208d309f6069d31cb138066d7e821e575112a80/fake-useragent-0.1.11.tar.gz\n",
            "Requirement already satisfied: setuptools in /usr/local/lib/python3.6/dist-packages (from -r requirements.txt (line 7)) (50.3.2)\n",
            "Collecting twine\n",
            "  Downloading https://files.pythonhosted.org/packages/ad/db/b2c65078b783c6694bdfa0911bbbe0e2be7fcbc98ff23a99b8be544906b6/twine-3.2.0-py3-none-any.whl\n",
            "Collecting unidecode\n",
            "\u001b[?25l  Downloading https://files.pythonhosted.org/packages/d0/42/d9edfed04228bacea2d824904cae367ee9efd05e6cce7ceaaedd0b0ad964/Unidecode-1.1.1-py2.py3-none-any.whl (238kB)\n",
            "\u001b[K     |████████████████████████████████| 245kB 41.5MB/s \n",
            "\u001b[?25hRequirement already satisfied: urllib3 in /usr/local/lib/python3.6/dist-packages (from selenium->-r requirements.txt (line 2)) (1.24.3)\n",
            "Requirement already satisfied: python-dateutil>=2.7.3 in /usr/local/lib/python3.6/dist-packages (from pandas->-r requirements.txt (line 4)) (2.8.1)\n",
            "Requirement already satisfied: numpy>=1.15.4 in /usr/local/lib/python3.6/dist-packages (from pandas->-r requirements.txt (line 4)) (1.18.5)\n",
            "Requirement already satisfied: pytz>=2017.2 in /usr/local/lib/python3.6/dist-packages (from pandas->-r requirements.txt (line 4)) (2018.9)\n",
            "Requirement already satisfied: future in /usr/local/lib/python3.6/dist-packages (from pattern->-r requirements.txt (line 5)) (0.16.0)\n",
            "Collecting backports.csv\n",
            "  Downloading https://files.pythonhosted.org/packages/8e/26/a6bd68f13e0f38fbb643d6e497fc3462be83a0b6c4d43425c78bb51a7291/backports.csv-1.0.7-py2.py3-none-any.whl\n",
            "Collecting mysqlclient\n",
            "\u001b[?25l  Downloading https://files.pythonhosted.org/packages/0e/68/f79de0e0fcdb041783124b825771e0ba6a3d0893b7b4c4735f130e42af47/mysqlclient-2.0.2.tar.gz (88kB)\n",
            "\u001b[K     |████████████████████████████████| 92kB 9.4MB/s \n",
            "\u001b[31mERROR: Command errored out with exit status 1: python setup.py egg_info Check the logs for full command output.\u001b[0m\n",
            "\u001b[?25h"
          ],
          "name": "stdout"
        }
      ]
    },
    {
      "cell_type": "code",
      "metadata": {
        "colab": {
          "base_uri": "https://localhost:8080/",
          "height": 467
        },
        "id": "FBtjQeTyYbrr",
        "outputId": "c54c1c87-bd60-44f9-c10d-470edf8a822a"
      },
      "source": [
        "from newsfetch.google import google_search"
      ],
      "execution_count": null,
      "outputs": [
        {
          "output_type": "error",
          "ename": "ModuleNotFoundError",
          "evalue": "ignored",
          "traceback": [
            "\u001b[0;31m---------------------------------------------------------------------------\u001b[0m",
            "\u001b[0;31mModuleNotFoundError\u001b[0m                       Traceback (most recent call last)",
            "\u001b[0;32m<ipython-input-7-99038758192b>\u001b[0m in \u001b[0;36m<module>\u001b[0;34m()\u001b[0m\n\u001b[0;32m----> 1\u001b[0;31m \u001b[0;32mfrom\u001b[0m \u001b[0mnewsfetch\u001b[0m\u001b[0;34m.\u001b[0m\u001b[0mgoogle\u001b[0m \u001b[0;32mimport\u001b[0m \u001b[0mgoogle_search\u001b[0m\u001b[0;34m\u001b[0m\u001b[0;34m\u001b[0m\u001b[0m\n\u001b[0m",
            "\u001b[0;32m/content/news-fetch/newsfetch/google.py\u001b[0m in \u001b[0;36m<module>\u001b[0;34m()\u001b[0m\n\u001b[0;32m----> 1\u001b[0;31m from newsfetch.helpers import (get_chrome_web_driver, get_web_driver_options,\n\u001b[0m\u001b[1;32m      2\u001b[0m                                \u001b[0mset_automation_as_head_less\u001b[0m\u001b[0;34m,\u001b[0m\u001b[0;34m\u001b[0m\u001b[0;34m\u001b[0m\u001b[0m\n\u001b[1;32m      3\u001b[0m                                \u001b[0mset_browser_as_incognito\u001b[0m\u001b[0;34m,\u001b[0m\u001b[0;34m\u001b[0m\u001b[0;34m\u001b[0m\u001b[0m\n\u001b[1;32m      4\u001b[0m                                set_ignore_certificate_error)\n\u001b[1;32m      5\u001b[0m from newsfetch.utils import (BeautifulSoup, Options, UserAgent, get, re,\n",
            "\u001b[0;32m/content/news-fetch/newsfetch/helpers.py\u001b[0m in \u001b[0;36m<module>\u001b[0;34m()\u001b[0m\n\u001b[0;32m----> 1\u001b[0;31m \u001b[0;32mfrom\u001b[0m \u001b[0mnewsfetch\u001b[0m\u001b[0;34m.\u001b[0m\u001b[0mutils\u001b[0m \u001b[0;32mimport\u001b[0m \u001b[0mjson\u001b[0m\u001b[0;34m,\u001b[0m \u001b[0mpd\u001b[0m\u001b[0;34m,\u001b[0m \u001b[0munidecode\u001b[0m\u001b[0;34m\u001b[0m\u001b[0;34m\u001b[0m\u001b[0m\n\u001b[0m\u001b[1;32m      2\u001b[0m \u001b[0;34m\u001b[0m\u001b[0m\n\u001b[1;32m      3\u001b[0m \"\"\"\n\u001b[1;32m      4\u001b[0m \u001b[0mThe\u001b[0m \u001b[0mBelow\u001b[0m \u001b[0mfunctions\u001b[0m \u001b[0mcontains\u001b[0m \u001b[0merror\u001b[0m \u001b[0mhandling\u001b[0m\u001b[0;34m,\u001b[0m \u001b[0munidecode\u001b[0m\u001b[0;34m,\u001b[0m \u001b[0mdigits\u001b[0m \u001b[0mextraction\u001b[0m\u001b[0;34m,\u001b[0m \u001b[0mdataframe\u001b[0m \u001b[0mcleaning\u001b[0m\u001b[0;34m\u001b[0m\u001b[0;34m\u001b[0m\u001b[0m\n\u001b[1;32m      5\u001b[0m \"\"\"\n",
            "\u001b[0;32m/content/news-fetch/newsfetch/utils.py\u001b[0m in \u001b[0;36m<module>\u001b[0;34m()\u001b[0m\n\u001b[1;32m      4\u001b[0m \u001b[0;32mimport\u001b[0m \u001b[0mtime\u001b[0m\u001b[0;34m\u001b[0m\u001b[0;34m\u001b[0m\u001b[0m\n\u001b[1;32m      5\u001b[0m \u001b[0;34m\u001b[0m\u001b[0m\n\u001b[0;32m----> 6\u001b[0;31m \u001b[0;32mimport\u001b[0m \u001b[0mchromedriver_binary\u001b[0m\u001b[0;34m\u001b[0m\u001b[0;34m\u001b[0m\u001b[0m\n\u001b[0m\u001b[1;32m      7\u001b[0m \u001b[0;32mimport\u001b[0m \u001b[0mpandas\u001b[0m \u001b[0;32mas\u001b[0m \u001b[0mpd\u001b[0m\u001b[0;34m\u001b[0m\u001b[0;34m\u001b[0m\u001b[0m\n\u001b[1;32m      8\u001b[0m \u001b[0;32mimport\u001b[0m \u001b[0mrequests\u001b[0m\u001b[0;34m\u001b[0m\u001b[0;34m\u001b[0m\u001b[0m\n",
            "\u001b[0;31mModuleNotFoundError\u001b[0m: No module named 'chromedriver_binary'",
            "",
            "\u001b[0;31m---------------------------------------------------------------------------\u001b[0;32m\nNOTE: If your import is failing due to a missing package, you can\nmanually install dependencies using either !pip or !apt.\n\nTo view examples of installing some common dependencies, click the\n\"Open Examples\" button below.\n\u001b[0;31m---------------------------------------------------------------------------\u001b[0m\n"
          ]
        }
      ]
    },
    {
      "cell_type": "code",
      "metadata": {
        "id": "TD-EYHk3YE3e"
      },
      "source": [
        "from newsfetch.google import google_search\n",
        ">>> google = google_search('Alcoholics Anonymous', 'https://timesofindia.indiatimes.com/')"
      ],
      "execution_count": null,
      "outputs": []
    },
    {
      "cell_type": "code",
      "metadata": {
        "id": "i5n5KRY9YE0m"
      },
      "source": [],
      "execution_count": null,
      "outputs": []
    },
    {
      "cell_type": "code",
      "metadata": {
        "id": "9MEtA8e3XZJz"
      },
      "source": [],
      "execution_count": null,
      "outputs": []
    },
    {
      "cell_type": "code",
      "metadata": {
        "id": "VXoY-x0CR9Yo",
        "colab": {
          "base_uri": "https://localhost:8080/"
        },
        "outputId": "b0bb9e30-2e18-49bd-a933-1c63fa4ca927"
      },
      "source": [
        "!pip install newspaper3k"
      ],
      "execution_count": null,
      "outputs": [
        {
          "output_type": "stream",
          "text": [
            "Collecting newspaper3k\n",
            "\u001b[?25l  Downloading https://files.pythonhosted.org/packages/d7/b9/51afecb35bb61b188a4b44868001de348a0e8134b4dfa00ffc191567c4b9/newspaper3k-0.2.8-py3-none-any.whl (211kB)\n",
            "\r\u001b[K     |█▌                              | 10kB 19.5MB/s eta 0:00:01\r\u001b[K     |███                             | 20kB 26.3MB/s eta 0:00:01\r\u001b[K     |████▋                           | 30kB 17.9MB/s eta 0:00:01\r\u001b[K     |██████▏                         | 40kB 12.3MB/s eta 0:00:01\r\u001b[K     |███████▊                        | 51kB 6.7MB/s eta 0:00:01\r\u001b[K     |█████████▎                      | 61kB 7.1MB/s eta 0:00:01\r\u001b[K     |██████████▉                     | 71kB 7.6MB/s eta 0:00:01\r\u001b[K     |████████████▍                   | 81kB 8.0MB/s eta 0:00:01\r\u001b[K     |██████████████                  | 92kB 8.5MB/s eta 0:00:01\r\u001b[K     |███████████████▌                | 102kB 8.1MB/s eta 0:00:01\r\u001b[K     |█████████████████               | 112kB 8.1MB/s eta 0:00:01\r\u001b[K     |██████████████████▋             | 122kB 8.1MB/s eta 0:00:01\r\u001b[K     |████████████████████▏           | 133kB 8.1MB/s eta 0:00:01\r\u001b[K     |█████████████████████▊          | 143kB 8.1MB/s eta 0:00:01\r\u001b[K     |███████████████████████▎        | 153kB 8.1MB/s eta 0:00:01\r\u001b[K     |████████████████████████▉       | 163kB 8.1MB/s eta 0:00:01\r\u001b[K     |██████████████████████████▍     | 174kB 8.1MB/s eta 0:00:01\r\u001b[K     |████████████████████████████    | 184kB 8.1MB/s eta 0:00:01\r\u001b[K     |█████████████████████████████▌  | 194kB 8.1MB/s eta 0:00:01\r\u001b[K     |███████████████████████████████ | 204kB 8.1MB/s eta 0:00:01\r\u001b[K     |████████████████████████████████| 215kB 8.1MB/s \n",
            "\u001b[?25hCollecting tinysegmenter==0.3\n",
            "  Downloading https://files.pythonhosted.org/packages/17/82/86982e4b6d16e4febc79c2a1d68ee3b707e8a020c5d2bc4af8052d0f136a/tinysegmenter-0.3.tar.gz\n",
            "Collecting jieba3k>=0.35.1\n",
            "\u001b[?25l  Downloading https://files.pythonhosted.org/packages/a9/cb/2c8332bcdc14d33b0bedd18ae0a4981a069c3513e445120da3c3f23a8aaa/jieba3k-0.35.1.zip (7.4MB)\n",
            "\u001b[K     |████████████████████████████████| 7.4MB 9.3MB/s \n",
            "\u001b[?25hRequirement already satisfied: beautifulsoup4>=4.4.1 in /usr/local/lib/python3.6/dist-packages (from newspaper3k) (4.6.3)\n",
            "Requirement already satisfied: python-dateutil>=2.5.3 in /usr/local/lib/python3.6/dist-packages (from newspaper3k) (2.8.1)\n",
            "Requirement already satisfied: nltk>=3.2.1 in /usr/local/lib/python3.6/dist-packages (from newspaper3k) (3.2.5)\n",
            "Requirement already satisfied: requests>=2.10.0 in /usr/local/lib/python3.6/dist-packages (from newspaper3k) (2.23.0)\n",
            "Collecting feedfinder2>=0.0.4\n",
            "  Downloading https://files.pythonhosted.org/packages/35/82/1251fefec3bb4b03fd966c7e7f7a41c9fc2bb00d823a34c13f847fd61406/feedfinder2-0.0.4.tar.gz\n",
            "Requirement already satisfied: lxml>=3.6.0 in /usr/local/lib/python3.6/dist-packages (from newspaper3k) (4.2.6)\n",
            "Requirement already satisfied: PyYAML>=3.11 in /usr/local/lib/python3.6/dist-packages (from newspaper3k) (3.13)\n",
            "Requirement already satisfied: Pillow>=3.3.0 in /usr/local/lib/python3.6/dist-packages (from newspaper3k) (7.0.0)\n",
            "Collecting cssselect>=0.9.2\n",
            "  Downloading https://files.pythonhosted.org/packages/3b/d4/3b5c17f00cce85b9a1e6f91096e1cc8e8ede2e1be8e96b87ce1ed09e92c5/cssselect-1.1.0-py2.py3-none-any.whl\n",
            "Collecting tldextract>=2.0.1\n",
            "\u001b[?25l  Downloading https://files.pythonhosted.org/packages/7e/62/b6acd3129c5615b9860e670df07fd55b76175b63e6b7f68282c7cad38e9e/tldextract-3.1.0-py2.py3-none-any.whl (87kB)\n",
            "\u001b[K     |████████████████████████████████| 92kB 13.4MB/s \n",
            "\u001b[?25hCollecting feedparser>=5.2.1\n",
            "\u001b[?25l  Downloading https://files.pythonhosted.org/packages/1c/21/faf1bac028662cc8adb2b5ef7a6f3999a765baa2835331df365289b0ca56/feedparser-6.0.2-py3-none-any.whl (80kB)\n",
            "\u001b[K     |████████████████████████████████| 81kB 12.4MB/s \n",
            "\u001b[?25hRequirement already satisfied: six>=1.5 in /usr/local/lib/python3.6/dist-packages (from python-dateutil>=2.5.3->newspaper3k) (1.15.0)\n",
            "Requirement already satisfied: certifi>=2017.4.17 in /usr/local/lib/python3.6/dist-packages (from requests>=2.10.0->newspaper3k) (2020.12.5)\n",
            "Requirement already satisfied: idna<3,>=2.5 in /usr/local/lib/python3.6/dist-packages (from requests>=2.10.0->newspaper3k) (2.10)\n",
            "Requirement already satisfied: urllib3!=1.25.0,!=1.25.1,<1.26,>=1.21.1 in /usr/local/lib/python3.6/dist-packages (from requests>=2.10.0->newspaper3k) (1.24.3)\n",
            "Requirement already satisfied: chardet<4,>=3.0.2 in /usr/local/lib/python3.6/dist-packages (from requests>=2.10.0->newspaper3k) (3.0.4)\n",
            "Collecting requests-file>=1.4\n",
            "  Downloading https://files.pythonhosted.org/packages/77/86/cdb5e8eaed90796aa83a6d9f75cfbd37af553c47a291cd47bc410ef9bdb2/requests_file-1.5.1-py2.py3-none-any.whl\n",
            "Requirement already satisfied: filelock>=3.0.8 in /usr/local/lib/python3.6/dist-packages (from tldextract>=2.0.1->newspaper3k) (3.0.12)\n",
            "Collecting sgmllib3k\n",
            "  Downloading https://files.pythonhosted.org/packages/9e/bd/3704a8c3e0942d711c1299ebf7b9091930adae6675d7c8f476a7ce48653c/sgmllib3k-1.0.0.tar.gz\n",
            "Building wheels for collected packages: tinysegmenter, jieba3k, feedfinder2, sgmllib3k\n",
            "  Building wheel for tinysegmenter (setup.py) ... \u001b[?25l\u001b[?25hdone\n",
            "  Created wheel for tinysegmenter: filename=tinysegmenter-0.3-cp36-none-any.whl size=13538 sha256=bfd420877823f9e0471f714ff658e6b533d7a4778ad23b17c38a58e54e4300e5\n",
            "  Stored in directory: /root/.cache/pip/wheels/81/2b/43/a02ede72324dd40cdd7ca53aad718c7710628e91b8b0dc0f02\n",
            "  Building wheel for jieba3k (setup.py) ... \u001b[?25l\u001b[?25hdone\n",
            "  Created wheel for jieba3k: filename=jieba3k-0.35.1-cp36-none-any.whl size=7398405 sha256=0fb2a4b5de62fa95efde3323bfb6f3dca818e289579416dbc4a09bfa584493d1\n",
            "  Stored in directory: /root/.cache/pip/wheels/83/15/9c/a3f1f67e7f7181170ad37d32e503c35da20627c013f438ed34\n",
            "  Building wheel for feedfinder2 (setup.py) ... \u001b[?25l\u001b[?25hdone\n",
            "  Created wheel for feedfinder2: filename=feedfinder2-0.0.4-cp36-none-any.whl size=3356 sha256=092f6168644d7db6efa36216294b1fecdf7a53ea7592f7434034be93bd7fd2fa\n",
            "  Stored in directory: /root/.cache/pip/wheels/de/03/ca/778e3a7a627e3d98836cc890e7cb40c7575424cfd3340f40ed\n",
            "  Building wheel for sgmllib3k (setup.py) ... \u001b[?25l\u001b[?25hdone\n",
            "  Created wheel for sgmllib3k: filename=sgmllib3k-1.0.0-cp36-none-any.whl size=6067 sha256=4270d3d4782fcf61b0160d4d095154f1e1d5b621a941f3ceae60f3d3aa834e65\n",
            "  Stored in directory: /root/.cache/pip/wheels/f1/80/5a/444ba08a550cdd241bd9baf8bae44be750efe370adb944506a\n",
            "Successfully built tinysegmenter jieba3k feedfinder2 sgmllib3k\n",
            "Installing collected packages: tinysegmenter, jieba3k, feedfinder2, cssselect, requests-file, tldextract, sgmllib3k, feedparser, newspaper3k\n",
            "Successfully installed cssselect-1.1.0 feedfinder2-0.0.4 feedparser-6.0.2 jieba3k-0.35.1 newspaper3k-0.2.8 requests-file-1.5.1 sgmllib3k-1.0.0 tinysegmenter-0.3 tldextract-3.1.0\n"
          ],
          "name": "stdout"
        }
      ]
    },
    {
      "cell_type": "code",
      "metadata": {
        "id": "IvmbYCXKSNX-"
      },
      "source": [
        "from newspaper import Article\n",
        "\n",
        "url = 'http://fox13now.com/2013/12/30/new-year-new-laws-obamacare-pot-guns-and-drones/'\n",
        "article = Article(url)"
      ],
      "execution_count": null,
      "outputs": []
    },
    {
      "cell_type": "code",
      "metadata": {
        "id": "hApTBR51SNUm",
        "colab": {
          "base_uri": "https://localhost:8080/",
          "height": 126
        },
        "outputId": "07330f4f-0165-4767-d187-c8443082ecb1"
      },
      "source": [
        "article.download()\n",
        "article.html"
      ],
      "execution_count": null,
      "outputs": [
        {
          "output_type": "execute_result",
          "data": {
            "application/vnd.google.colaboratory.intrinsic+json": {
              "type": "string"
            },
            "text/plain": [
              "'<!DOCTYPE html>\\n<html class=\"Page-body ArticlePage\" lang=\"en\" itemscope itemtype=\"http://schema.org/WebPage\">\\n<head>\\n    <meta charset=\"UTF-8\">\\n\\n    <link rel=\"stylesheet\" href=\"https://ewscripps.brightspotcdn.com/resource/00000176-4e7c-d1e8-a3f7-eefe6ddf0000/styleguide/All.min.d947d3aa6bfaab6e7941349b2e19d4cf.gz.css\">\\n\\n    <style>.newsletter-opt{box-sizing: border-box; padding: 20px;box-shadow: 1px 0px 9px #e7e7e7;border: 1px solid #e7e7e7;border-top:4px solid #318CC7;border-radius: 4px;margin: 30px 0;}\\r\\n.newsletter-opt #email{width: 80%;padding: 10px;margin: 8px 0;margin-right: 1%;border: 1px solid #ccc;border-radius: 4px;box-sizing: border-box;font-size: 1em;}\\r\\n.newsletter-opt #newSub{width: 18%;background-color: #005687;color: white;padding: 10px;margin: 8px 0;border: 1px solid #005687;border-radius: 4px;cursor: pointer;font-size: 1em;-webkit-appearance: none;}\\r\\n.newsletter-opt #emailForm{margin-bottom: 0;}\\r\\n.newsletter-opt span{font-weight:bold;color:#005687;}\\r\\n.newsletter-opt #news-success{text-align: center;}\\r\\n.newsletter-opt  #news-success a{display: inline-block; margin: 10px 0; color: #fff; background: #005687; padding: 10px; font-size: 14px; border-radius: 4px;}\\r\\n\\r\\n@media screen and (max-width: 800px){\\r\\n  .newsletter-opt #email,  .newsletter-opt #newSub{width: 100%; display: block;}\\r\\n}</style>\\n<style>figcaption {display: none;}\\r\\n.ArticlePage figcaption{display:block;}</style>\\n<style>.Header-hat{margin: 20px; background: #A70808; padding: 15px; border-radius: 4px; text-align: center; color: #fff;}</style>\\n<style>.electionDisclaimer{border-radius: 4px;background: #e7e7e7;padding: 20px;text-align: center;margin-bottom: 20px;}\\r\\n.electionDisclaimer{display: none;}</style>\\n<style>.showcase-low-row + .showcase-low-row {\\r\\n    margin-top: 15px;\\r\\n}</style>\\n<style>.BigNews-Election.List .ad--container{display:none;}</style>\\n<style>.Page-below .QuickList.toc.flexIt{display:none;}</style>\\n\\n    <meta name=\"viewport\" content=\"width=device-width, initial-scale=1, maximum-scale=1\">\\n    <title>New Year, new laws: Obamacare, pot, guns and\\xa0drones</title>\\n    <meta name=\"description\" content=\"By Leigh Ann Caldwell CNN WASHINGTON (CNN) — Not everyone subscribes to a New Year’s resolution, but Americans will be required to follow new laws in 2014. Some 40,000 measures taking effect range from sweeping, national mandates under Obamacare to marijuana legalization in Colorado, drone prohibiti\">\\n    \\n    <link rel=\"canonical\" href=\"https://localtvkstu.wordpress.com/2013/12/30/new-year-new-laws-obamacare-pot-guns-and-drones/\">\\n    <meta name=\"brightspot.contentId\" content=\"0000016e-ff32-d2bb-af6f-ff7e27f30000\">\\n    \\n    <meta property=\"og:title\" content=\"New Year, new laws: Obamacare, pot, guns and\\xa0drones\">\\n\\n    <meta property=\"og:url\" content=\"https://www.fox13now.com/2013/12/30/new-year-new-laws-obamacare-pot-guns-and-drones\">\\n<meta property=\"og:image\" content=\"https://ewscripps.brightspotcdn.com/dims4/default/d49dab0/2147483647/strip/true/crop/400x210+0+8/resize/1200x630!/quality/90/?url=http%3A%2F%2Fmediaassets.fox13now.com%2Ftribune-network%2Ftribkstu-files-wordpress%2F2012%2F04%2Fnational-news-e1486938949489.jpg\">\\n\\n\\n<meta property=\"og:image:url\" content=\"https://ewscripps.brightspotcdn.com/dims4/default/d49dab0/2147483647/strip/true/crop/400x210+0+8/resize/1200x630!/quality/90/?url=http%3A%2F%2Fmediaassets.fox13now.com%2Ftribune-network%2Ftribkstu-files-wordpress%2F2012%2F04%2Fnational-news-e1486938949489.jpg\">\\n\\n    <meta property=\"og:image:secure_url\" content=\"https://ewscripps.brightspotcdn.com/dims4/default/d49dab0/2147483647/strip/true/crop/400x210+0+8/resize/1200x630!/quality/90/?url=http%3A%2F%2Fmediaassets.fox13now.com%2Ftribune-network%2Ftribkstu-files-wordpress%2F2012%2F04%2Fnational-news-e1486938949489.jpg\">\\n\\n<meta property=\"og:image:width\" content=\"1200\">\\n<meta property=\"og:image:height\" content=\"630\">\\n    <meta property=\"og:image:type\" content=\"image\">\\n\\n    <meta property=\"og:image:alt\" content=\"New Year, new laws: Obamacare, pot, guns and\\xa0drones\">\\n\\n    <meta property=\"og:description\" content=\"By Leigh Ann Caldwell CNN WASHINGTON (CNN) — Not everyone subscribes to a New Year’s resolution, but Americans will be required to follow new laws in 2014. Some 40,000 measures taking effect range from sweeping, national mandates under Obamacare to marijuana legalization in Colorado, drone prohibiti\">\\n\\n    <meta property=\"og:site_name\" content=\"KSTU\">\\n\\n\\n    <meta property=\"og:type\" content=\"article\">\\n\\n    <meta property=\"article:author\" content=\"\">\\n\\n    <meta property=\"article:published_time\" content=\"2013-12-30T21:42:01\">\\n\\n    <meta property=\"article:modified_time\" content=\"2013-12-30T21:42:01\">\\n\\n    <meta property=\"article:section\" content=\"News\">\\n\\n    <meta property=\"article:tag\" content=\"News\">\\n\\n<meta name=\"twitter:card\" content=\"summary_large_image\"/>\\n\\n\\n\\n\\n\\n    <meta name=\"twitter:description\" content=\"By Leigh Ann Caldwell CNN WASHINGTON (CNN) — Not everyone subscribes to a New Year’s resolution, but Americans will be required to follow new laws in 2014. Some 40,000 measures taking effect range from sweeping, national mandates under Obamacare to marijuana legalization in Colorado, drone prohibiti\"/>\\n\\n\\n\\n    \\n    <meta name=\"twitter:image\" content=\"https://ewscripps.brightspotcdn.com/dims4/default/d49dab0/2147483647/strip/true/crop/400x210+0+8/resize/1200x630!/quality/90/?url=http%3A%2F%2Fmediaassets.fox13now.com%2Ftribune-network%2Ftribkstu-files-wordpress%2F2012%2F04%2Fnational-news-e1486938949489.jpg\"/>\\n\\n\\n\\n    <meta name=\"twitter:image:alt\" content=\"New Year, new laws: Obamacare, pot, guns and\\xa0drones\"/>\\n\\n\\n\\n    <meta name=\"twitter:site\" content=\"@fox13\"/>\\n\\n\\n\\n\\n\\n    <meta name=\"twitter:title\" content=\"New Year, new laws: Obamacare, pot, guns and\\xa0drones\"/>\\n\\n\\n\\n    <meta property=\"fb:app_id\" content=\"765516083862087\">\\n\\n\\n    <link rel=\"apple-touch-icon\"sizes=\"180x180\"href=\"/apple-touch-icon.png\">\\n<link rel=\"icon\"type=\"image/png\"href=\"/favicon-32x32.png\">\\n<link rel=\"icon\"type=\"image/png\"href=\"/favicon-16x16.png\">\\n\\n\\n    \\n\\n    \\n    \\n    <script type=\"application/ld+json\">{\\n  \"@context\" : \"http://schema.org\",\\n  \"@type\" : \"Article\",\\n  \"datePublished\" : \"2:42 PM, Dec 30, 2013 \",\\n  \"headline\" : \"New Year, new laws: Obamacare, pot, guns and\\xa0drones\",\\n  \"image\" : {\\n    \"@context\" : \"http://schema.org\",\\n    \"@type\" : \"ImageObject\",\\n    \"url\" : \"http://mediaassets.fox13now.com/tribune-network/tribkstu-files-wordpress/2012/04/national-news-e1486938949489.jpg\"\\n  },\\n  \"mainEntityOfPage\" : {\\n    \"@type\" : \"WebPage\",\\n    \"@id\" : \"https://www.fox13now.com/2013/12/30/new-year-new-laws-obamacare-pot-guns-and-drones\"\\n  },\\n  \"author\" : [ {\\n    \"@context\" : \"http://schema.org\",\\n    \"@type\" : \"Person\",\\n    \"name\" : \"CNN Wire\"\\n  } ],\\n  \"publisher\" : {\\n    \"@type\" : \"Organization\",\\n    \"name\" : \"KSTU\",\\n    \"logo\" : {\\n      \"@context\" : \"http://schema.org\",\\n      \"@type\" : \"ImageObject\",\\n      \"url\" : \"http://mediaassets.fox13now.com/tribune-network/tribkstu-files-wordpress/2012/04/national-news-e1486938949489.jpg\"\\n    }\\n  }\\n}</script>\\n\\n    \\n    <link rel=\"amphtml\" href=\"https://www.fox13now.com/2013/12/30/new-year-new-laws-obamacare-pot-guns-and-drones?_amp=true\">\\n\\n    \\n    \\n<meta name=\"brightspot.cached\" content=\"true\">\\n\\n    <!-- Custom head embeds go here -->\\n    <script>\\r\\nif(navigator.userAgent.indexOf(\\'MSIE\\')!==-1\\r\\n|| navigator.appVersion.indexOf(\\'Trident/\\') > -1){\\r\\n   document.write(\\'<scr\\' + \\'ipt src=\"https://cdn.jsdelivr.net/npm/promise-polyfill@8/dist/polyfill.min.js\"></scr\\' + \\'ipt>\\')\\r\\n}\\r\\n</script>\\n<script>\\r\\n\\r\\nwindow.callLetters = \\'kstu\\';\\r\\n\\r\\nwindow.jsTags = \"News\";\\r\\nwindow.jsPublishDate = \\'2013-12-30T16:42:01.000-0500\\';\\r\\nwindow.jsUpdateDate = \\'2013-12-30T16:42:01.000-0500\\';\\r\\nwindow.jsIsBreaking = \\'false\\';\\r\\nwindow.jsIsAlert = \\'\\';\\r\\nwindow.jsAuthors = \\'CNN Wire\\';\\r\\nwindow.jsHasVideo = \\'false\\';\\r\\nwindow.jsSection = \"News\";\\r\\nwindow.jsPageType = \\'article\\';\\r\\nwindow.jsDisablePrerollAds = \\'false\\';\\r\\nwindow.jsDisableDisplayAds = \\'false\\';\\r\\nwindow.jsDisableInlineVideoAds = \\'false\\';\\r\\nwindow.jsFname = \\'new-year-new-laws-obamacare-pot-guns-and-drones\\';\\r\\n\\r\\nvar daysSincePublished = \"\";\\r\\nvar datePublished = \"\";\\r\\nvar publishedTime = document.querySelector(\\'meta[property=\"article:published_time\"]\\');\\r\\nif(publishedTime) {\\r\\n  publishedTime = new Date(publishedTime.getAttribute(\"content\"));\\r\\n  datePublished = publishedTime.getMonth() + publishedTime.getDate() + publishedTime.getFullYear();\\r\\n}\\r\\n\\r\\nvar modifiedTime = document.querySelector(\\'meta[property=\"article:modified_time\"]\\');\\r\\nif(modifiedTime) modifiedTime = new Date(modifiedTime.getAttribute(\"content\"));\\r\\n\\r\\n\\r\\n\\r\\nfunction getCookie(e){var n=\" \"+document.cookie,i=n.indexOf(\" \"+e+\"=\");if(-1==i)n=null;else{i=n.indexOf(\"=\",i)+1;var o=n.indexOf(\";\",i);-1==o&&(o=n.length),n=unescape(n.substring(i,o))}return n}\\r\\n\\r\\nvar gtmObj = {\\r\\n    \\'isGallery\\': (window.jsPageType == \\'gallery\\' ? \\'true\\' : \\'false\\'),\\r\\n    \\'isStory\\':  (window.jsPageType == \\'article\\' ? \\'true\\' : \\'false\\'),\\r\\n    \\'DatePublished\\': datePublished,\\r\\n    \\'Author\\': window.jsAuthors,\\r\\n    \\'Editor\\': \\'\\',\\r\\n    \\'Category\\': window.jsSection,\\r\\n    \\'SubCat\\': window.jsTags,\\r\\n    \\'IsPremium\\': \\'false\\',\\r\\n    \\'DaysSincePublished\\': daysSincePublished,\\r\\n    \\'LoggedIn\\': getCookie(\"uh_is_logged_in\")\\r\\n};\\r\\n\\r\\ndataLayer = [gtmObj];\\r\\n</script>\\r\\n\\r\\n<noscript><iframe src=\"//www.googletagmanager.com/ns.html?id=GTM-FSC5\"\\r\\nheight=\"0\" width=\"0\" style=\"display:none;visibility:hidden\"></iframe></noscript>\\r\\n<script>(function(w,d,s,l,i){w[l]=w[l]||[];w[l].push({\\'gtm.start\\':\\r\\nnew Date().getTime(),event:\\'gtm.js\\'});var\\r\\nf=d.getElementsByTagName(s)[0],\\r\\nj=d.createElement(s),dl=l!=\\'dataLayer\\'?\\'&l=\\'+l:\\'\\';j.async=true;j.src=\\r\\n\\'//www.googletagmanager.com/gtm.js?id=\\'+i+dl;f.parentNode.insertBefore(j,f);\\r\\n})(window,document,\\'script\\',\\'dataLayer\\',\\'GTM-5QBX3CF\\');\\r\\n</script>\\n<meta content=\"8BIpzzrOLGTVQFoZAR0MOqder-QbEpuwxW7Bh_vAFQQ\" name=\"google-site-verification\" />\\n<meta property=\"og:description\" content=\"By Leigh Ann Caldwell CNN WASHINGTON (CNN) — Not everyone subscribes to a New Year’s resolution, but Americans will be required to follow new laws in 2014. Some 40,000 measures taking effect range from sweeping, national mandates under Obamacare to marijuana legalization in Colorado, drone prohibiti\"><meta property=\"description\" content=\"By Leigh Ann Caldwell CNN WASHINGTON (CNN) — Not everyone subscribes to a New Year’s resolution, but Americans will be required to follow new laws in 2014. Some 40,000 measures taking effect range from sweeping, national mandates under Obamacare to marijuana legalization in Colorado, drone prohibiti\">\\n<script>\\r\\nvar _sf_async_config = _sf_async_config || {};\\r\\n_sf_async_config.uid = 15115;\\r\\n_sf_async_config.domain = \"www.fox13now.com\".replace(\"/\",\"\");\\r\\nvar _sf_startpt = (new Date()).getTime();\\r\\n</script>\\r\\n<script src=\"//static.chartbeat.com/js/chartbeat_mab.js\"></script>\\r\\n\\r\\n<script type=\"text/javascript\">\\r\\nvar _sf_async_config={};\\r\\n_sf_async_config.uid = 15115;\\r\\n_sf_async_config.domain = \"www.fox13now.com\".replace(\"/\",\"\"); \\r\\n_sf_async_config.sections = \"News\";\\r\\n\\r\\nif (!window._story_authors) {\\r\\n  window._story_authors = \"CNN Wire\";\\r\\n}\\r\\nif (_story_authors != \\'\\') {\\r\\n    _sf_async_config.authors = _story_authors; /* Set by the STORY template */\\r\\n} else {\\r\\n    _sf_async_config.authors = \\'Scripps Only Content \\' + new Date().getFullYear();\\r\\n}\\r\\n\\r\\n(function(){\\r\\nfunction loadChartbeat() { window._sf_endpt=(new Date()).getTime(); var e = document.createElement(\"script\"); e.setAttribute(\"language\", \"javascript\"); e.setAttribute(\"type\", \"text/javascript\"); e.setAttribute(\"src\", ((\"https:\" == document.location.protocol) ? \"https://a248.e.akamai.net/chartbeat.download.akamai.com/102508/\" : \"http://static.chartbeat.com/\") + \"js/chartbeat.js\"); document.body.appendChild(e); }\\r\\nvar oldonload = window.onload;\\r\\nwindow.onload = (typeof window.onload != \"function\") ?\\r\\nloadChartbeat : function() { oldonload(); loadChartbeat(); };\\r\\n\\r\\n})();\\r\\n</script>\\n<meta property=\"fb:pages\" content=\"75831650585\" />\\n<script id=\"ns_script_dc\" data-key=\"ff983cd0-6c28-474c-9cc4-7a5281d11e05\" data-e=\"5\" src=\"https://d25dfknw9ghxs6.cloudfront.net/scsp.js\" type=\"text/javascript\"></script>\\n\\n    <!-- ScrippsAdModules go here -->\\n    \\n    <script>\\n        window.adsOnPage = [];\\n        adsOnPage.push({\\n\"s\": \"728x90\",\\n\"p\": \"Above\",\\n\"d\": \"Desktop,Mobile,\",\\n\"i\": \"Append\",\\n\"is\": \"body:not(.no-adhesion)\",\\n\"ll\": false,\\n\"id\": \"MAD_INVIEW\",\\n\"other\" : \"zoneOverride:/inview-bottom|cssClasses:ad--inview|fallbackSizes:320x50\",\\n\"aType\" : \"Display Ad\",\\n\"custEnableOn\" : \"\",\\n\"custDisableOn\" : \"/brand-spotlight/*\",\\n\"isCompanion\" : \"false\",\\n\"dpb\": (\"true\" == \"false\")\\n});\\nadsOnPage.push({\\n\"s\": \"300x250\",\\n\"p\": \"Above\",\\n\"d\": \"Mobile,\",\\n\"i\": \"Append\",\\n\"is\": \".ArticlePage-main:not(.Longform) .RichTextArticleBody-body\",\\n\"ll\": true,\\n\"id\": \"MAD_INLINE\",\\n\"other\" : \"startOffset:1|insertInterval:4|validParagraphLength:60|indexesToSkip:2\",\\n\"aType\" : \"Inline Story\",\\n\"custEnableOn\" : \"\",\\n\"custDisableOn\" : \"\",\\n\"isCompanion\" : \"false\",\\n\"dpb\": (\"true\" == \"false\")\\n});\\nadsOnPage.push({\\n\"s\": \"994x30,728x90,970x90,970x250,10x1\",\\n\"p\": \"Above\",\\n\"d\": \"Desktop,\",\\n\"i\": \"Append\",\\n\"is\": \".ad-header\",\\n\"ll\": true,\\n\"id\": \"MAD_HEADER\",\\n\"other\" : \"\",\\n\"aType\" : \"Display Ad\",\\n\"custEnableOn\" : \"\",\\n\"custDisableOn\" : \"/\",\\n\"isCompanion\" : \"false\",\\n\"dpb\": (\"true\" == \"false\")\\n});\\nadsOnPage.push({\\n\"s\": \"320x50,320x100,300x50,300x100,10x1\",\\n\"p\": \"Above\",\\n\"d\": \"Mobile,\",\\n\"i\": \"Append\",\\n\"is\": \".ad-header\",\\n\"ll\": true,\\n\"id\": \"MAD_HEADER\",\\n\"other\" : \"\",\\n\"aType\" : \"Display Ad\",\\n\"custEnableOn\" : \"\",\\n\"custDisableOn\" : \"/\",\\n\"isCompanion\" : \"false\",\\n\"dpb\": (\"true\" == \"false\")\\n});\\nadsOnPage.push({\\n\"s\": \"300x600,300x250\",\\n\"p\": \"Above\",\\n\"d\": \"Desktop,\",\\n\"i\": \"Append\",\\n\"is\": \".article-right-column,.right-column\",\\n\"ll\": false,\\n\"id\": \"MAD_RIGHT_RAIL\",\\n\"other\" : \"respectSelfWidth:true\",\\n\"aType\" : \"Display Ad\",\\n\"custEnableOn\" : \"\",\\n\"custDisableOn\" : \"\",\\n\"isCompanion\" : \"true\",\\n\"dpb\": (\"true\" == \"false\")\\n});\\nadsOnPage.push({\\n\"s\": \"300x250\",\\n\"p\": \"Above\",\\n\"d\": \"Mobile,\",\\n\"i\": \"Append\",\\n\"is\": \".article-right-column,.right-column\",\\n\"ll\": true,\\n\"id\": \"MAD_RIGHT_RAIL\",\\n\"other\" : \"\",\\n\"aType\" : \"Display Ad\",\\n\"custEnableOn\" : \"\",\\n\"custDisableOn\" : \"\",\\n\"isCompanion\" : \"true\",\\n\"dpb\": (\"true\" == \"false\")\\n});\\nadsOnPage.push({\\n\"s\": \"728x90\",\\n\"p\": \"Inline\",\\n\"d\": \"Desktop,Mobile,\",\\n\"i\": \"Append\",\\n\"is\": \".Longform .ArticlePage-articleBody .story__content__body\",\\n\"ll\": true,\\n\"id\": \"MAD_INLINE\",\\n\"other\" : \"startOffset:1|insertInterval:8|validParagraphLength:60|indexesToSkip:2|fallbackSizes:300x250,320x50\",\\n\"aType\" : \"Inline Story\",\\n\"custEnableOn\" : \"\",\\n\"custDisableOn\" : \"\",\\n\"isCompanion\" : \"false\",\\n\"dpb\": (\"true\" == \"false\")\\n});\\nadsOnPage.push({\\n\"s\": \"300x250\",\\n\"p\": \"Above\",\\n\"d\": \"Desktop,\",\\n\"i\": \"Append\",\\n\"is\": \".ArticlePage-main:not(.Longform) .RichTextArticleBody-body\",\\n\"ll\": true,\\n\"id\": \"MAD_INLINE\",\\n\"other\" : \"startOffset:0|insertInterval:6|validParagraphLength:60\",\\n\"aType\" : \"Inline Story\",\\n\"custEnableOn\" : \"\",\\n\"custDisableOn\" : \"\",\\n\"isCompanion\" : \"false\",\\n\"dpb\": (\"true\" == \"false\")\\n});\\n\\n    </script>\\n\\n\\n    <script src=\"https://ewscripps.brightspotcdn.com/resource/00000176-4e7c-d1e8-a3f7-eefe6ddf0000/styleguide/All.min.bcc9977d5cc5d22619b805dc4719337d.gz.js\" async></script>\\n\\n    <link rel=\"stylesheet\" href=\"https://use.fontawesome.com/releases/v5.1.0/css/all.css\" integrity=\"sha384-lKuwvrZot6UHsBSfcMvOkWwlCMgc0TaWr+30HWe3a4ltaBwTZhyTEggF5tJv8tbt\" crossorigin=\"anonymous\">\\n    <script>window.ddls = {};/****/window.ddls[\"global_section_exempt_sites\"] =  \"SWFL\";/**\\n**/window.ddls[\"userhub_newsletterClosings\"] =  \"false\";/**\\n**/window.ddls[\"userhub_newsletterAlerts\"] =  \"true\";/**\\n**/window.ddls[\"userhub_newsletters\"] =  \"true\";/**\\n**/window.ddls[\"notification_token\"] =  \"Token 09de6f3130469f80b9916b0aa568c6e92587b70a\";/**\\n**/window.ddls[\"notification_push_endpoint\"] =  \"https://api.ewscloud.com/prod/notifications/v1/CALL_LETTERS/mobile/push\";/**\\n**/window.ddls[\"notification_segment_endpoint\"] =  \"https://api.ewscloud.com/prod/notifications/v1/CALL_LETTERS/segments\";/**\\n**/window.ddls[\"ua_deep_link_actions\"] =  \"Radar;app-CALL_LETTERS://feature/radar,Weather;app-CALL_LETTERS://feature/weather\";/**\\n**/window.ddls[\"all-videos-playlist-id\"] =  \"00000167-1379-d439-a7ef-93fd5b520002\";/**\\n**/window.ddls[\"live-videos-playlist-id\"] =  \"0000016f-d94e-d82e-a3ff-fb5eb65c0002\";/**\\n**/window.ddls[\"feedmachine_host\"] =  \"https://feedmachine.ewscloud.com\";/**\\n**/window.ddls[\"injection_values\"] =  \"2,4\";/**\\n**/window.ddls[\"feedmachine_token\"] =  \"f0273735057ef6af1208619d827c859b072ba9d6\";/**\\n**/window.ddls[\"gtm_id\"] =  \"GTM-5QBX3CF\";/**\\n**/window.ddls[\"wx_center_host\"] =  \"http://weathercenter.ewscloud.com\";/**\\n**/window.ddls[\"outstream_excludeCategories\"] =  \"brand spotlight\";/**\\n**/window.ddls[\"ews-auth\"] =  \"bc22df1e0efb4dcb53f2438a4b71da118f05788c\";/**\\n**/window.ddls[\"outstream_teadsId\"] =  \"-1\";/**\\n**/window.ddls[\"google_sv\"] =  \"8BIpzzrOLGTVQFoZAR0MOqder-QbEpuwxW7Bh_vAFQQ\";/**\\n**/window.ddls[\"section_number_of_list_items\"] =  \"42\";/**\\n**/window.ddls[\"ob_template\"] =  \"scrippstv\";/**\\n**/window.ddls[\"site_latitude\"] =  \"40.776486\";/**\\n**/window.ddls[\"site_longitude\"] =  \"-112.010239\";/**\\n**/window.ddls[\"scheduler-app-id\"] =  \"com.fox13now\";/**\\n**/window.ddls[\"copyright\"] =  \"Copyright ${year} Scripps Media, Inc. All rights reserved. This material may not be published, broadcast, rewritten, or redistributed.\";/**\\n**/window.ddls[\"enableMoatPrebidder\"] =  \"true\";/**\\n**/window.ddls[\"enableConsumablePrebidder\"] =  \"true\";/**\\n**/window.ddls[\"email-address\"] =  \"DL-Corp-Digital-Support@scripps.com\";/**\\n**/window.ddls[\"other_url\"] =  \"null\";/**\\n**/window.ddls[\"feedmachine_article_endpoint\"] =  \"/prod/brightspot/v1/article/\";/**\\n**/window.ddls[\"feedmachine_gallery_endpoint\"] =  \"/fm/api/v1/gallery\";/**\\n**/window.ddls[\"feedmachine_section_endpoint\"] =  \"/fm/api/v1/section\";/**\\n**/window.ddls[\"feedmachine_tag_endpoint\"] =  \"/fm/api/v1/tag\";/**\\n**/window.ddls[\"feedmachine_api_gateway\"] =  \"true\";/**\\n**/window.ddls[\"outstream_connatixId\"] =  \"0\";/**\\n**/window.ddls[\"userhub_isDev\"] =  \"false\";/**\\n**/window.ddls[\"fbia\"] =  \"75831650585\";/**\\n**/window.ddls[\"nl-rebound\"] =  \"0936625c-d01f-431f-8133-24f457b5e434\";/**\\n**/window.ddls[\"nl-election\"] =  \"0\";/**\\n**/window.ddls[\"nl-coronavirus\"] =  \"0\";/**\\n**/window.ddls[\"websocket_url\"] =  \"wss://nv0ikolx0e.execute-api.us-west-2.amazonaws.com/prod\";/**\\n**/window.ddls[\"feedmachine_slug_endpoint\"] =  \"/fm/api/v2/outfeed\";/**\\n**/window.ddls[\"feedmachine_outfeed_endpoint\"] =  \"/fm/api/v1/outfeed\";/**\\n**/window.ddls[\"enableInfiniteRefresh\"] =  \"false\";/**\\n**/window.ddls[\"weather_api_version_override\"] =  \"4\";/**\\n**/window.ddls[\"gabUrl\"] =  \"https://interland3.donorperfect.net/weblink/weblink.aspx?name=E191959&amp;id=56\";/**\\n**/window.ddls[\"use_brightspot_sharing\"] =  \"true\";/**\\n**/window.ddls[\"feedmachine_slug_host\"] =  \"https://yvbox36rm2.execute-api.us-east-1.amazonaws.com\";/**\\n**/window.ddls[\"feedmachine_ranking_endpoint\"] =  \"/prod/brightspot/v1/outfeed/\";/**\\n**/window.ddls[\"feedmachine_api_host\"] =  \"https://yvbox36rm2.execute-api.us-east-1.amazonaws.com\";/**\\n**/window.ddls[\"accessibility_phoneNumber\"] =  \"1-833-418-1465\";/**\\n**/window.ddls[\"outstream_tracking\"] =  \"false\";/**\\n**/window.ddls[\"accessibility_appName\"] =  \"KSTU FOX 13 Salt Lake City\";/**\\n}\\n        **/</script>\\n    \\n    <script>\\n        window.callLetters = \"kstu\";\\n    </script>\\n\\n\\n    <script>\\n    window.fbAsyncInit = function() {\\n    FB.init({\\n    \\n        appId : \\'765516083862087\\',\\n    \\n    xfbml : true,\\n    version : \\'v2.9\\'\\n    });\\n    };\\n    (function(d, s, id){\\n    var js, fjs = d.getElementsByTagName(s)[0];\\n    if (d.getElementById(id)) {return;}\\n    js = d.createElement(s); js.id = id;\\n    js.src = \"//connect.facebook.net/en_US/sdk.js\";\\n    fjs.parentNode.insertBefore(js, fjs);\\n    }(document, \\'script\\', \\'facebook-jssdk\\'));\\n</script>\\n<script>function ready(fn) {\\r\\n    if (document.attachEvent ? document.readyState === \"complete\" : document.readyState !== \"loading\"){\\r\\n      fn();\\r\\n    } else {\\r\\n      document.addEventListener(\\'DOMContentLoaded\\', fn);\\r\\n    }\\r\\n}</script>\\n<script>ready(function(){\\r\\nvar openSearch = document.getElementById(\\'engage-search\\');\\r\\nif(openSearch){\\r\\n    openSearch.addEventListener(\\'click\\', function () {\\r\\n       document.querySelector(\".Page-searchInput\").classList.toggle(\\'openSearch\\');\\r\\n       document.querySelector(\".header-right\").classList.toggle(\\'open-search\\');\\r\\n       document.querySelector(\".Page-searchInput\").focus();\\r\\n       document.querySelector(\".Header-logo\").classList.toggle(\\'open-search\\');\\r\\n       var pageActions = document.querySelector(\".Page-actions\");\\r\\n        if(pageActions != null){\\r\\n            pageActions.classList.toggle(\\'openSearch\\');\\r\\n        }\\r\\n    });\\r\\n}\\r\\n});\\r\\n    \\r\\n</script>\\n<script>ready(function(){window.contentType = \"isArticle\";});</script>\\n<script>function loadChartbeat() { window._sf_endpt=(new Date()).getTime(); \\r\\n\\tvar e = document.createElement(\"script\"); \\r\\n    var n = document.getElementsByTagName(\\'script\\')[0];\\r\\n    e.setAttribute(\"language\", \"javascript\");\\r\\n    e.setAttribute(\"type\", \"text/javascript\");\\r\\n    e.setAttribute(\"src\", ((\"https:\" == document.location.protocol) ? \"https://a248.e.akamai.net/chartbeat.download.akamai.com/102508/\" : \"http://static.chartbeat.com/\") + \"js/chartbeat.js\"); \\r\\n    n.parentNode.insertBefore(e, n);//document.body.appendChild(e); \\r\\n}\\r\\n//disabling duplicate script - 12/8/20\\r\\n//ready(loadChartbeat());</script>\\n<script>// 86acbd31cd7c09cf30acb66d2fbedc91daa48b86:1572970602.0952501 kstu\\r\\n!function(n,t,c,e,u){function r(n){try{f=n(u)}catch(n){return h=n,void i(p,n)}i(s,f)}function i(n,t){for(var c=0;c<n.length;c++)d(n[c],t);\\r\\n}function o(n,t){return n&&(f?d(n,f):s.push(n)),t&&(h?d(t,h):p.push(t)),l}function a(n){return o(!1,n)}function d(t,c){\\r\\nn.setTimeout(function(){t(c)},0)}var f,h,s=[],p=[],l={then:o,catch:a,_setup:r};n[e]=l;var v=t.createElement(\"script\");\\r\\nv.src=c,v.async=!0,v.id=\"_uasdk\",v.rel=e,t.head.appendChild(v)}(window,document,\\'https://aswpsdkus.com/notify/v1/ua-sdk.min.js\\',\\r\\n  \\'UA\\', {\\r\\n    vapidPublicKey: \\'BHI7SPayAa130Ak6qxpqYB-nKcqA1Lvf_JLnyyOQq9CRuEots2RlZYJRDKWZkpfG4ZmfKrRnJ2LndCl2Jgq-sZw=\\',\\r\\n    appKey: \\'9C3hQwa9Te2ktVdySIey2A\\',\\r\\n    token: \\'MTo5QzNoUXdhOVRlMmt0VmR5U0lleTJBOmhCNEY4N3ZqVzROX25wd1Y4ZGhldzRDa2lZLW1BYU03N1hINnUxaTNjTkU\\'\\r\\n  });</script>\\n\\n    <meta name=\"robots\" content=\"max-image-preview:[large]\">\\n</head>\\n\\n\\n<body class=\"Page-body ArticlePage-body\">\\n  <div class=\"nav-overlay\"></div>\\n  <div class=\"Header-wrap\">\\n    <header class=\"Header\" itemscope itemtype=\"http://schema.org/WPHeader\">\\n        <div id=\"scroll-follow\">\\n            <div class=\"scroll-left\">\\n                <div class=\"open-drawer\">\\n                    <div class=\"menuWrap\">\\n                        <div class=\"menu-line ketchup\"></div>\\n                        <div class=\"menu-line lettuce\"></div>\\n                        <div class=\"menu-line beef\"></div>\\n                    </div>\\n                </div>\\n                \\n                    <div class=\"Header-logo\"><a href=\"/\">\\n    <img class=\"PageLogo-image\" src=\"https://ewscripps.brightspotcdn.com/dims4/default/eead90a/2147483647/strip/true/crop/600x274+0+0/resize/400x183!/quality/90/?url=http%3A%2F%2Fewscripps-brightspot.s3.amazonaws.com%2F00%2F9e%2F66505c3f463b98e45a6637d3fcea%2Fkstu-main-logo.png\" alt=\"Fox 13 Salt Lake City\" width=\"400\" height=\"183\"/>\\n    </a>\\n</div>\\n                \\n            </div>\\n            <div class=\"live-counts\">\\n                <a class=\"wx-count hidden\" href=\"/weather/alerts\"><span class=\"wx-alert-count-number\">1</span><span class=\"wx-alert-count-text\"> weather alerts</span></a>\\n                <a class=\"closings-count hidden\" href=\"/weather/school-closings-delays\"><span class=\"closings-count-number\">1</span><span class=\"closings-count-text\"> closings/delays</span></a>\\n            </div>\\n        </div>\\n        <div class=\"live-counts\">\\n            <a class=\"wx-count hidden\" href=\"/weather/alerts\"><span class=\"wx-alert-count-number\">1</span><span class=\"wx-alert-count-text\"> weather alerts</span></a>\\n            <a class=\"closings-count hidden\" href=\"/weather/school-closings-delays\"><span class=\"closings-count-number\">1</span><span class=\"closings-count-text\"> closings/delays</span></a>\\n        </div>\\n        <div class=\"header-box\">\\n            <div class=\"header-top\">\\n                <div class=\"open-drawer header-button\">\\n                    <p class=\"menuText\">Menu</p>\\n                    <div class=\"menuWrap\">\\n                        <div class=\"menu-line ketchup\"></div>\\n                        <div class=\"menu-line lettuce\"></div>\\n                        <div class=\"menu-line beef\"></div>\\n                    </div>\\n                </div>\\n\\n\\n                  \\n                    <form class=\"Header-search Page-search\" action=\"https://www.fox13now.com/search\" novalidate=\"\" autocomplete=\"off\">\\n                      <div id=\"engage-search\" class=\"header-button\"><i class=\"fas fa-search\"></i></div>\\n\\n                        <input type=\"text\" class=\"Header-searchInput Page-searchInput\" name=\"q\" placeholder=\"Search\" autofocus>\\n\\n                    </form>\\n                  \\n\\n\\n                \\n                    <div class=\"Header-logo\"><a href=\"/\">\\n    <img class=\"PageLogo-image\" src=\"https://ewscripps.brightspotcdn.com/dims4/default/eead90a/2147483647/strip/true/crop/600x274+0+0/resize/400x183!/quality/90/?url=http%3A%2F%2Fewscripps-brightspot.s3.amazonaws.com%2F00%2F9e%2F66505c3f463b98e45a6637d3fcea%2Fkstu-main-logo.png\" alt=\"Fox 13 Salt Lake City\" width=\"400\" height=\"183\"/>\\n    </a>\\n</div>\\n                \\n                <div class=\"header-right\">\\n                    <div class=\"live-status header-button\">\\n                        <a id=\"live\" class=\"is-live\" href=\"/live\" style=\"display: none;\">Watch Live</a>\\n                        <a class=\"is-upcoming\" href=\"/videos\">Watch</a>\\n                    </div>\\n                    <div class=\"alert-count hidden header-button\">\\n                        <a href=\"/breaking-news-alerts\">Alerts <span class=\"alert-count-number\"></span></a>\\n                    </div>\\n                </div>\\n                <div class=\"header-right-mobile\" style=\"display:none;\">\\n                    <div class=\"header-mobile-button\">\\n                        <a id=\"live\" class=\"is-live mobile hidden\" href=\"/live\">Live</a>\\n                        <a class=\"is-upcoming hidden\" href=\"/videos\">Watch</a>\\n                        <a class=\"alert-count hidden header-button m\" href=\"/breaking-news-alerts\"><span class=\"alert-count-number m\">0</span></a>\\n                    </div>\\n                </div>\\n                \\n                \\n            \\n            \\n        <div class=\"Header-navigation siteNavigation Page-navigation\">\\n            <nav class=\"Navigation\" itemscope itemtype=\"http://schema.org/SiteNavigationElement\">\\n                <a class=\"button-close-subnav\"><span class=\"text\">Close</span> <span class=\"icon\">x</span></a>\\n                <div class=\"live-alert-m\" style=\"display:none;\">\\n                    <div class=\"live-status m\">\\n                        <a id=\"live\" class=\"is-live\" href=\"/live\" style=\"display: none;\">Live</a>\\n                        <a class=\"is-upcoming\" href=\"/videos\" >Watch</a>\\n                    </div>\\n                    <div class=\"alert-count m\">\\n                        <a href=\"/breaking-news-alerts\"><span class=\"alert-count-number m\"></span> Alerts</a>\\n                    </div>\\n                </div>\\n                <div class=\"mobileSearch\" style=\"display: none;\">\\n                        \\n                          <form class=\"Header-search Page-search\" action=\"https://www.fox13now.com/search\" novalidate=\"\" autocomplete=\"off\">\\n                            <div class=\"search-box\">\\n                                  <div id=\"engage-search\" class=\"header-button\"><i class=\"fas fa-search\"></i></div>\\n                                  <input type=\"text\" class=\"Header-searchInput Page-searchInput\" name=\"q\" placeholder=\"Search\" autofocus>\\n                                  <button type=\"submit\" class=\"Header-searchButton\">Go</button>\\n                            </div>\\n                          </form>\\n                        \\n                </div>\\n                <a class=\"show-subnav button-section-expand\"><span class=\"icon\"></span></a>\\n                \\n                    \\n        \\n            <ul class=\"Navigation-items\">\\n\\n            \\n              <li class=\"Navigation-items-item\" ><div class=\"NavigationItem\" >\\n    <!-- Link without subnavigation -->\\n    <div class=\"NavigationItem-text\">\\n        \\n            <a class=\"NavigationItem-text-link\" href=\"https://www.fox13now.com/news\">News</a><div class=\"collapse-nav-button\"></div>\\n        \\n    </div>\\n    <!-- Links within a subnav group -->\\n    \\n        <ul class=\"NavigationItem-items\">\\n            \\n    \\n        <li class=\"NavigationItem-items-item\" ><a class=\"NavigationLink\" href=\"https://www.fox13now.com/news/local-news\">Local News</a>\\n</li>\\n    \\n        <li class=\"NavigationItem-items-item\" ><a class=\"NavigationLink\" href=\"https://www.fox13now.com/news/national-news\">National News</a>\\n</li>\\n    \\n        <li class=\"NavigationItem-items-item\" ><a class=\"NavigationLink\" href=\"https://www.fox13now.com/brand-spotlight/census-2020\">Census 2020</a>\\n</li>\\n    \\n        <li class=\"NavigationItem-items-item\" ><a class=\"NavigationLink\" href=\"https://www.fox13now.com/news/3-questions\">3 Questions</a>\\n</li>\\n    \\n        <li class=\"NavigationItem-items-item\" ><a class=\"NavigationLink\" href=\"https://www.fox13now.com/news/booming-forward\">Booming Forward</a>\\n</li>\\n    \\n        <li class=\"NavigationItem-items-item\" ><a class=\"NavigationLink\" href=\"https://www.fox13now.com/news/car-critic\">Car Critic</a>\\n</li>\\n    \\n        <li class=\"NavigationItem-items-item\" ><a class=\"NavigationLink\" href=\"https://www.fox13now.com/news/health\">Health</a>\\n</li>\\n    \\n        <li class=\"NavigationItem-items-item\" ><a class=\"NavigationLink\" href=\"https://www.fox13now.com/sports/highlights-from-home\">Highlights from Home</a>\\n</li>\\n    \\n        <li class=\"NavigationItem-items-item\" ><a class=\"NavigationLink\" href=\"https://www.fox13now.com/podcasts\">Podcasts</a>\\n</li>\\n    \\n        <li class=\"NavigationItem-items-item\" ><a class=\"NavigationLink\" href=\"https://www.fox13now.com/news/politics\">Politics</a>\\n</li>\\n    \\n        <li class=\"NavigationItem-items-item\" ><a class=\"NavigationLink\" href=\"https://www.fox13now.com/sports\">Sports</a>\\n</li>\\n    \\n        <li class=\"NavigationItem-items-item\" ><a class=\"NavigationLink\" href=\"https://www.fox13now.com/news/technology\">Technology</a>\\n</li>\\n    \\n        <li class=\"NavigationItem-items-item\" ><a class=\"NavigationLink\" href=\"https://www.fox13now.com/news/uniquely-utah\">Uniquely Utah</a>\\n</li>\\n    \\n        <li class=\"NavigationItem-items-item\" ><a class=\"NavigationLink\" href=\"https://www.fox13now.com/news/whats-in-the-basement\">What&#x27;s in the Basement?</a>\\n</li>\\n    \\n\\n\\n        </ul>\\n    \\n</div></li>\\n            \\n              <li class=\"Navigation-items-item\" ><div class=\"NavigationItem\" >\\n    <!-- Link without subnavigation -->\\n    <div class=\"NavigationItem-text\">\\n        \\n            <a class=\"NavigationItem-text-link\" href=\"https://www.fox13now.com/weather#Utah Weather\">Weather</a>\\n        \\n    </div>\\n    <!-- Links within a subnav group -->\\n    \\n</div></li>\\n            \\n              <li class=\"Navigation-items-item\" ><div class=\"NavigationItem\" >\\n    <!-- Link without subnavigation -->\\n    <div class=\"NavigationItem-text\">\\n        \\n            <a class=\"NavigationItem-text-link\" href=\"https://www.fox13now.com/traffic#Utah Traffic\">Traffic</a>\\n        \\n    </div>\\n    <!-- Links within a subnav group -->\\n    \\n</div></li>\\n            \\n              <li class=\"Navigation-items-item\" ><div class=\"NavigationItem\" >\\n    <!-- Link without subnavigation -->\\n    <div class=\"NavigationItem-text\">\\n        \\n            <a class=\"NavigationItem-text-link\" href=\"https://www.fox13now.com/news/fox-13-investigates\">FOX 13 Investigates</a>\\n        \\n    </div>\\n    <!-- Links within a subnav group -->\\n    \\n</div></li>\\n            \\n              <li class=\"Navigation-items-item\" ><div class=\"NavigationItem\" >\\n    <!-- Link without subnavigation -->\\n    <div class=\"NavigationItem-text\">\\n        \\n            <a class=\"NavigationItem-text-link\" href=\"https://www.fox13now.com/news/local-news/360\">FOX 13 News 360</a>\\n        \\n    </div>\\n    <!-- Links within a subnav group -->\\n    \\n</div></li>\\n            \\n              <li class=\"Navigation-items-item\" ><div class=\"NavigationItem\" >\\n    <!-- Link without subnavigation -->\\n    <div class=\"NavigationItem-text\">\\n        \\n            <a class=\"NavigationItem-text-link\" href=\"https://www.fox13now.com/good-day-utah\">Good Day Utah</a>\\n        \\n    </div>\\n    <!-- Links within a subnav group -->\\n    \\n</div></li>\\n            \\n              <li class=\"Navigation-items-item\" ><div class=\"NavigationItem\" >\\n    <!-- Link without subnavigation -->\\n    <div class=\"NavigationItem-text\">\\n        \\n            <a class=\"NavigationItem-text-link\" href=\"https://www.fox13now.com/community\">Community</a><div class=\"collapse-nav-button\"></div>\\n        \\n    </div>\\n    <!-- Links within a subnav group -->\\n    \\n        <ul class=\"NavigationItem-items\">\\n            \\n    \\n        <li class=\"NavigationItem-items-item\" ><a class=\"NavigationLink\" href=\"https://www.fox13now.com/brand-spotlight/zero-hunger-hero\">Zero Hunger Hero</a>\\n</li>\\n    \\n        <li class=\"NavigationItem-items-item\" ><a class=\"NavigationLink\" href=\"https://www.fox13now.com/community/recipes\">Recipes</a>\\n</li>\\n    \\n        <li class=\"NavigationItem-items-item\" ><a class=\"NavigationLink\" href=\"https://www.fox13now.com/news/zero-fatalities\">Zero Fatalities</a>\\n</li>\\n    \\n        <li class=\"NavigationItem-items-item\" ><a class=\"NavigationLink\" href=\"https://www.fox13now.com/community/ucair\">UCAIR</a>\\n</li>\\n    \\n        <li class=\"NavigationItem-items-item\" ><a class=\"NavigationLink\" href=\"https://www.fox13now.com/community/seen-on-tv\">Seen on TV</a>\\n</li>\\n    \\n        <li class=\"NavigationItem-items-item\" ><a class=\"NavigationLink\" href=\"https://www.fox13now.com/giveabook\">Give a Child a Book</a>\\n</li>\\n    \\n\\n\\n        </ul>\\n    \\n</div></li>\\n            \\n              <li class=\"Navigation-items-item\" ><div class=\"NavigationItem\" >\\n    <!-- Link without subnavigation -->\\n    <div class=\"NavigationItem-text\">\\n        \\n            <a class=\"NavigationItem-text-link\" href=\"https://www.fox13now.com/the-place\">The Place</a><div class=\"collapse-nav-button\"></div>\\n        \\n    </div>\\n    <!-- Links within a subnav group -->\\n    \\n        <ul class=\"NavigationItem-items\">\\n            \\n    \\n        <li class=\"NavigationItem-items-item\" ><a class=\"NavigationLink\" href=\"https://www.fox13now.com/the-place/funding-your-future\">Funding Your Future</a>\\n</li>\\n    \\n        <li class=\"NavigationItem-items-item\" ><a class=\"NavigationLink\" href=\"https://www.fox13now.com/2015/06/23/be-a-guest-on-fox-13s-the-place\">Be a Guest on The PLACE</a>\\n</li>\\n    \\n        <li class=\"NavigationItem-items-item\" ><a class=\"NavigationLink\" href=\"https://www.fox13now.com/the-place/selecthealth\">SelectHealth</a>\\n</li>\\n    \\n\\n\\n        </ul>\\n    \\n</div></li>\\n            \\n              <li class=\"Navigation-items-item\" ><div class=\"NavigationItem\" >\\n    <!-- Link without subnavigation -->\\n    <div class=\"NavigationItem-text\">\\n        \\n            <a class=\"NavigationItem-text-link\" href=\"https://www.fox13now.com/contests\">Contests</a>\\n        \\n    </div>\\n    <!-- Links within a subnav group -->\\n    \\n</div></li>\\n            \\n              <li class=\"Navigation-items-item\" ><div class=\"NavigationItem\" >\\n    <!-- Link without subnavigation -->\\n    <div class=\"NavigationItem-text\">\\n        \\n            <a class=\"NavigationItem-text-link\" href=\"https://www.fox13now.com/brand-spotlight\">Brand Spotlight</a>\\n        \\n    </div>\\n    <!-- Links within a subnav group -->\\n    \\n</div></li>\\n            \\n              <li class=\"Navigation-items-item\" ><div class=\"NavigationItem\" >\\n    <!-- Link without subnavigation -->\\n    <div class=\"NavigationItem-text\">\\n        \\n            <a class=\"NavigationItem-text-link\" href=\"https://www.fox13now.com/brand-spotlight/dream-team\">Dream Team</a><div class=\"collapse-nav-button\"></div>\\n        \\n    </div>\\n    <!-- Links within a subnav group -->\\n    \\n        <ul class=\"NavigationItem-items\">\\n            \\n    \\n        <li class=\"NavigationItem-items-item\" ><a class=\"NavigationLink\" href=\"https://www.fox13now.com/contests/nominate-someone-for-a-fox-13-dream-team-surprise\">Nominate Someone for a FOX 13 Dream Team Surprise!</a>\\n</li>\\n    \\n\\n\\n        </ul>\\n    \\n</div></li>\\n            \\n              <li class=\"Navigation-items-item\" ><div class=\"NavigationItem\" >\\n    <!-- Link without subnavigation -->\\n    <div class=\"NavigationItem-text\">\\n        \\n            <a class=\"NavigationItem-text-link\" href=\"https://www.fox13now.com/entertainment/fox-13-tv-schedule\">TV Schedule</a>\\n        \\n    </div>\\n    <!-- Links within a subnav group -->\\n    \\n</div></li>\\n            \\n              <li class=\"Navigation-items-item\" ><div class=\"NavigationItem\" >\\n    <!-- Link without subnavigation -->\\n    <div class=\"NavigationItem-text\">\\n        \\n            <a class=\"NavigationItem-text-link\" href=\"https://scripps.wd5.myworkdayjobs.com/Scripps_Careers/3/refreshFacet/318c8bb6f553100021d223d9780d30be\">Careers</a>\\n        \\n    </div>\\n    <!-- Links within a subnav group -->\\n    \\n</div></li>\\n            \\n              <li class=\"Navigation-items-item\" ><div class=\"NavigationItem\" >\\n    <!-- Link without subnavigation -->\\n    <div class=\"NavigationItem-text\">\\n        \\n            <a class=\"NavigationItem-text-link\" href=\"https://www.fox13now.com/about-us\">About Us</a><div class=\"collapse-nav-button\"></div>\\n        \\n    </div>\\n    <!-- Links within a subnav group -->\\n    \\n        <ul class=\"NavigationItem-items\">\\n            \\n    \\n        <li class=\"NavigationItem-items-item\" ><a class=\"NavigationLink\" href=\"https://www.fox13now.com/about-us/people\">People</a>\\n</li>\\n    \\n\\n\\n        </ul>\\n    \\n</div></li>\\n            \\n              <li class=\"Navigation-items-item\" ><div class=\"NavigationItem\" >\\n    <!-- Link without subnavigation -->\\n    <div class=\"NavigationItem-text\">\\n        \\n            <a class=\"NavigationItem-text-link\" href=\"https://www.fox13now.com/brand-spotlight/healthier-together\">Healthier Together</a>\\n        \\n    </div>\\n    <!-- Links within a subnav group -->\\n    \\n</div></li>\\n            \\n              <li class=\"Navigation-items-item\" ><div class=\"NavigationItem\" >\\n    <!-- Link without subnavigation -->\\n    <div class=\"NavigationItem-text\">\\n        \\n            <a class=\"NavigationItem-text-link\" href=\"https://www.fox13now.com/about-us/advertise-with-fox-13\">Advertise with Us</a>\\n        \\n    </div>\\n    <!-- Links within a subnav group -->\\n    \\n</div></li>\\n            \\n\\n            <span class=\"divider\"></span>\\n            <li class=\"Show-LoggedOut Hide-LoggedIn Navigation-items-item\"><div class=\"NavigationItem\"><div class=\"NavigationItem-text\"><a class=\"NavigationItem-text-link\" href=\"/account/sign-in\">Sign In</a></div></div></li><li class=\"Show-LoggedOut Hide-LoggedIn Navigation-items-item\"><div class=\"NavigationItem\"><div class=\"NavigationItem-text\"><a class=\"NavigationItem-text-link\" href=\"/account/manage-email-preferences\">Newsletters</a></div></div></li>\\n\\n            <li class=\"Hide-LoggedOut Show-LoggedIn Navigation-items-item\"><div class=\"NavigationItem\"><div class=\"NavigationItem-text\"><a class=\"NavigationItem-text-link js-suh-logout\" href=\"/\">Sign Out</a></div></div></li><li class=\"Hide-LoggedOut Show-LoggedIn Navigation-items-item\"><div class=\"NavigationItem\"><div class=\"NavigationItem-text\"><a class=\"NavigationItem-text-link\" href=\"/account/manage-email-preferences\">Manage Emails</a></div></div></li>\\n\\n            <li class=\"Apps Navigation-items-item\"><div class=\"NavigationItem\"><div class=\"NavigationItem-text\"><a class=\"NavigationItem-text-link\" href=\"/apps\">Apps</a></div></div></li>\\n            <li class=\"Careers Navigation-items-item\"><div class=\"NavigationItem\"><div class=\"NavigationItem-text\"><a class=\"NavigationItem-text-link\" href=\"https://scripps.wd5.myworkdayjobs.com/Scripps_Careers\" target=\"_blank\">Careers</a></div></div></li>\\n\\n            </ul>\\n        \\n\\n                \\n            </nav>\\n        </div>\\n        \\n    </div>\\n    \\n        <div class=\"header-bottom\">\\n            <div class=\"Header-sectionNavigation\">\\n                <nav class=\"SectionNavigation Navigation\" itemscope itemtype=\"http://schema.org/SiteNavigationElement\">\\n    \\n    \\n        <ul class=\"SectionNavigation-items\">\\n            \\n                <li class=\"SectionNavigation-items-item\" ><div class=\"NavigationItem\" >\\n    <!-- Link without subnavigation -->\\n    <div class=\"NavigationItem-text\">\\n        \\n            <a class=\"NavigationItem-text-link\" href=\"https://www.fox13now.com/news/local-news\">Local News</a>\\n        \\n    </div>\\n    <!-- Links within a subnav group -->\\n    \\n</div></li>\\n            \\n                <li class=\"SectionNavigation-items-item\" ><div class=\"NavigationItem\" >\\n    <!-- Link without subnavigation -->\\n    <div class=\"NavigationItem-text\">\\n        \\n            <a class=\"NavigationItem-text-link\" href=\"https://www.fox13now.com/news/election-2020\">Election 2020</a>\\n        \\n    </div>\\n    <!-- Links within a subnav group -->\\n    \\n</div></li>\\n            \\n                <li class=\"SectionNavigation-items-item\" ><div class=\"NavigationItem\" >\\n    <!-- Link without subnavigation -->\\n    <div class=\"NavigationItem-text\">\\n        \\n            <a class=\"NavigationItem-text-link\" href=\"https://www.fox13now.com/news/fox-13-investigates\">FOX 13 Investigates</a>\\n        \\n    </div>\\n    <!-- Links within a subnav group -->\\n    \\n</div></li>\\n            \\n                <li class=\"SectionNavigation-items-item\" ><div class=\"NavigationItem\" >\\n    <!-- Link without subnavigation -->\\n    <div class=\"NavigationItem-text\">\\n        \\n            <a class=\"NavigationItem-text-link\" href=\"https://www.fox13now.com/the-place\">The PLACE</a>\\n        \\n    </div>\\n    <!-- Links within a subnav group -->\\n    \\n</div></li>\\n            \\n                <li class=\"SectionNavigation-items-item\" ><div class=\"NavigationItem\" >\\n    <!-- Link without subnavigation -->\\n    <div class=\"NavigationItem-text\">\\n        \\n            <a class=\"NavigationItem-text-link\" href=\"https://www.fox13now.com/weather\">Weather</a>\\n        \\n    </div>\\n    <!-- Links within a subnav group -->\\n    \\n</div></li>\\n            \\n                <li class=\"SectionNavigation-items-item\" ><div class=\"NavigationItem\" >\\n    <!-- Link without subnavigation -->\\n    <div class=\"NavigationItem-text\">\\n        \\n            <a class=\"NavigationItem-text-link\" href=\"https://www.fox13now.com/videos\">Video</a>\\n        \\n    </div>\\n    <!-- Links within a subnav group -->\\n    \\n</div></li>\\n            \\n                <li class=\"SectionNavigation-items-item\" ><div class=\"NavigationItem\" >\\n    <!-- Link without subnavigation -->\\n    <div class=\"NavigationItem-text\">\\n        \\n            <a class=\"NavigationItem-text-link\" href=\"https://www.fox13now.com/contests\">Contests</a>\\n        \\n    </div>\\n    <!-- Links within a subnav group -->\\n    \\n</div></li>\\n            \\n                <li class=\"SectionNavigation-items-item\" ><div class=\"NavigationItem\" >\\n    <!-- Link without subnavigation -->\\n    <div class=\"NavigationItem-text\">\\n        \\n            <a class=\"NavigationItem-text-link\" href=\"https://www.fox13now.com/news/coronavirus\">Coronavirus</a>\\n        \\n    </div>\\n    <!-- Links within a subnav group -->\\n    \\n</div></li>\\n            \\n                <li class=\"SectionNavigation-items-item\" ><div class=\"NavigationItem\" >\\n    <!-- Link without subnavigation -->\\n    <div class=\"NavigationItem-text\">\\n        \\n            <a class=\"NavigationItem-text-link\" href=\"https://www.fox13now.com/rebound\">The Rebound</a>\\n        \\n    </div>\\n    <!-- Links within a subnav group -->\\n    \\n</div></li>\\n            \\n                <li class=\"SectionNavigation-items-item\" ><div class=\"NavigationItem\" >\\n    <!-- Link without subnavigation -->\\n    <div class=\"NavigationItem-text\">\\n        \\n            <a class=\"NavigationItem-text-link\" href=\"https://www.fox13now.com/news/local-news/360\">FOX 13 News 360</a>\\n        \\n    </div>\\n    <!-- Links within a subnav group -->\\n    \\n</div></li>\\n            \\n                <li class=\"SectionNavigation-items-item\" ><div class=\"NavigationItem\" >\\n    <!-- Link without subnavigation -->\\n    <div class=\"NavigationItem-text\">\\n        \\n            <a class=\"NavigationItem-text-link\" href=\"https://www.fox13now.com/open\">We&#x27;re Open Utah</a>\\n        \\n    </div>\\n    <!-- Links within a subnav group -->\\n    \\n</div></li>\\n            \\n                <li class=\"SectionNavigation-items-item\" ><div class=\"NavigationItem\" >\\n    <!-- Link without subnavigation -->\\n    <div class=\"NavigationItem-text\">\\n        \\n            <a class=\"NavigationItem-text-link\" href=\"https://www.fox13now.com/brand-spotlight/dream-team\">Dream Team</a>\\n        \\n    </div>\\n    <!-- Links within a subnav group -->\\n    \\n</div></li>\\n            \\n                <li class=\"SectionNavigation-items-item\" ><div class=\"NavigationItem\" >\\n    <!-- Link without subnavigation -->\\n    <div class=\"NavigationItem-text\">\\n        \\n            <a class=\"NavigationItem-text-link\" href=\"https://www.fox13now.com/homepros\">Home Pros</a>\\n        \\n    </div>\\n    <!-- Links within a subnav group -->\\n    \\n</div></li>\\n            \\n        </ul>\\n    \\n</nav>\\n \\n <select onchange=\"window.open(this.options[this.selectedIndex].value,\\'_top\\')\">\\n    <option class=\"\" value=\"\">Quick links...</option>\\n    \\n        <option value=\"https://www.fox13now.com/news/local-news\">Local News</option>\\n    \\n        <option value=\"https://www.fox13now.com/news/election-2020\">Election 2020</option>\\n    \\n        <option value=\"https://www.fox13now.com/news/fox-13-investigates\">FOX 13 Investigates</option>\\n    \\n        <option value=\"https://www.fox13now.com/the-place\">The PLACE</option>\\n    \\n        <option value=\"https://www.fox13now.com/weather\">Weather</option>\\n    \\n        <option value=\"https://www.fox13now.com/videos\">Video</option>\\n    \\n        <option value=\"https://www.fox13now.com/contests\">Contests</option>\\n    \\n        <option value=\"https://www.fox13now.com/news/coronavirus\">Coronavirus</option>\\n    \\n        <option value=\"https://www.fox13now.com/rebound\">The Rebound</option>\\n    \\n        <option value=\"https://www.fox13now.com/news/local-news/360\">FOX 13 News 360</option>\\n    \\n        <option value=\"https://www.fox13now.com/open\">We&#x27;re Open Utah</option>\\n    \\n        <option value=\"https://www.fox13now.com/brand-spotlight/dream-team\">Dream Team</option>\\n    \\n        <option value=\"https://www.fox13now.com/homepros\">Home Pros</option>\\n    \\n  </select>\\n  \\n            </div>\\n            <div class=\"mobile-alerts hidden\">\\n                <div class=\"live-counts\">\\n                    <a class=\"wx-count hidden\" href=\"/weather/alerts\"><span class=\"wx-alert-count-number\">1</span><span class=\"wx-alert-count-text\"> weather alerts</span></a>\\n                    <a class=\"closings-count hidden\" href=\"/weather/school-closings-delays\"><span class=\"closings-count-number\">1</span><span class=\"closings-count-text\"> closings/delays</span></a>\\n                </div>\\n            </div>\\n        </div>\\n    \\n</div>\\n</header>\\n\\n    <div class=\"Header-banner\"></div>\\n\\n\\n</div>\\n\\n<div class=\"ad-header\"></div>\\n\\n  <div class=\"Page-wrap\">\\n    <main class=\"Page-body ArticlePage-main Page-main\">\\n      <article class=\"scrippsArticle Page-body ArticlePage-mainContent mainContent-bordered\" itemprop=\"mainEntity\" itemscope itemtype=\"http://schema.org/Article\">\\n        <div class=\"article-top-contain\">\\n          \\n            \\n              <div class=\"Page-body ArticlePage-breadcrumbs\"><a class=\"Link\" href=\"https://www.fox13now.com/news\">News</a></div>\\n            \\n          \\n          <div class=\"article-action\">\\n              <div class=\"Page-body ArticlePage-actions\">\\n                <h2 class=\"Page-body ArticlePage-actions-heading\">Actions</h2>\\n                <div class=\"Page-body ArticlePage-actions-body\"><div class=\"ActionBar\">\\n    \\n        <ul class=\"ActionBar-items\">\\n            \\n                <li class=\"ActionBar-items-item\"><a class=\"FacebookShareButton\"\\n    href=\"https://www.facebook.com/dialog/share?app_id=765516083862087&display=popup&href=https://www.fox13now.com/2013/12/30/new-year-new-laws-obamacare-pot-guns-and-drones\"\\n    target=\"_blank\"\\n>\\nFacebook\\n</a>\\n</li>\\n            \\n                <li class=\"ActionBar-items-item\"><a class=\"TwitterTweetButton\" href=\"https://twitter.com/intent/tweet?url=https://www.fox13now.com/2013/12/30/new-year-new-laws-obamacare-pot-guns-and-drones&text=New%20Year%2C%20new%20laws%3A%20Obamacare%2C%20pot%2C%20guns%20and%C2%A0drones\"\\n    target=\"_blank\"\\n>\\nTweet\\n</a>\\n</li>\\n            \\n                <li class=\"ActionBar-items-item\"><a class=\"MailToLink\" href=\"mailto:?body=New%20Year%2C%20new%20laws%3A%20Obamacare%2C%20pot%2C%20guns%20and%C2%A0drones%0A%0Ahttps%3A%2F%2Fwww.fox13now.com%2F2013%2F12%2F30%2Fnew-year-new-laws-obamacare-pot-guns-and-drones%0A%0ABy%20Leigh%20Ann%20Caldwell%20CNN%20WASHINGTON%20%28CNN%29%20%E2%80%94%20Not%20everyone%20subscribes%20to%20a%20New%20Year%E2%80%99s%20resolution%2C%20but%20Americans%20will%20be%20required%20to%20follow%20new%20laws%20in%202014.%20Some%2040%2C000%20measures%20taking%20effect%20range%20from%20sweeping%2C%20national%20mandates%20under%20Obamacare%20to%20marijuana%20legalization%20in%20Colorado%2C%20drone%20prohibiti\">Email</a>\\n</li>\\n            \\n        </ul>\\n    \\n</div>\\n</div>\\n              </div>\\n            </div>\\n          <div class=\"headline-wrap\">\\n            \\n              <h1 class=\"Page-body ArticlePage-headline\" itemprop=\"headline\">New Year, new laws: Obamacare, pot, guns and\\xa0drones</h1>\\n            \\n            \\n          </div></div>\\n  <div class=\"left-column\">\\n    \\n      <div class=\"Page-body ArticlePage-lead\"><div class=\"Wheel wheel-one-item\">\\n  <div class=\"carousel-container\">\\n    <span class=\"arrow arrow-left main-arrow-left disabled\"> <i class=\"fa fa-chevron-left\"></i> </span>\\n    <div class=\"carousel--main-content\">\\n      <div class=\"carousel--ratio-div\"></div>\\n      <div class=\"carousel--content-wrapper\">\\n        \\n        <img class=\"Image\" alt=\"items.[0].image.alt\" src=\"https://ewscripps.brightspotcdn.com/dims4/default/d84b2b4/2147483647/strip/true/crop/400x225+0+0/resize/1280x720!/quality/90/?url=http%3A%2F%2Fmediaassets.fox13now.com%2Ftribune-network%2Ftribkstu-files-wordpress%2F2012%2F04%2Fnational-news-e1486938949489.jpg\" />\\n        \\n      </div>\\n    </div>\\n    <span class=\"arrow arrow-right main-arrow-right\"> <i class=\"fa fa-chevron-right\"></i> </span>\\n  </div>\\n  <div class=\"carousel-container\">\\n    <div class=\"carousel-caption-container\">\\n      <div class=\"copyright\"></div>\\n      <div class=\"credit\"></div>\\n      <div class=\"caption\">#GFX\\n</div>\\n      <div class=\"caption-button\"></div>\\n    </div>\\n  </div>\\n\\n  \\n  <div class=\"ItemSliderOverflow\">\\n    <span class=\"arrow arrow-left slider-arrow-left disabled\"> <i class=\"fa fa-chevron-left\"></i> </span>\\n    <div class=\"ScrippsWheelItemSlider\">\\n      \\n      <div class=\"ScrippsWheelItemThumb WheelItem-wheelItems\"><img class=\"Image\" alt=\"New Year, new laws: Obamacare, pot, guns and\\xa0drones\" src=\"https://ewscripps.brightspotcdn.com/dims4/default/d84b2b4/2147483647/strip/true/crop/400x225+0+0/resize/1280x720!/quality/90/?url=http%3A%2F%2Fmediaassets.fox13now.com%2Ftribune-network%2Ftribkstu-files-wordpress%2F2012%2F04%2Fnational-news-e1486938949489.jpg\" width=\"1280\" height=\"720\" data-caption=\"#GFX\\n\"/>\\n</div>\\n      \\n    </div>\\n    <span class=\"arrow arrow-right slider-arrow-right\"> <i class=\"fa fa-chevron-right\"></i> </span>\\n  </div>\\n  \\n  \\n</div></div>\\n    \\n    \\n      <div class=\"Page-body ArticlePage-byline\" itemprop=\"author\" itemscope itemtype=\"http://schema.org/Person\">\\n        \\n          <div class=\"Page-body ArticlePage-authorTexts\">\\n            \\n            \\n              <div class=\"Page-body Longform ArticlePage-authorName\" itemprop=\"name\"><span class=\"accent\">By:</span>\\n                CNN Wire\\n                \\n              </div>\\n            \\n          </div>\\n        \\n      </div>\\n    \\n\\n    \\n      <div class=\"published\"><span class=\"accent\">Posted at</span> 2:42 PM, Dec 30, 2013 </div>\\n    \\n    \\n      <div class=\"last-updated\"><span class=\"accent\">and last updated</span> <span class=\"last-updated-date\">2013-12-30 16:42:01-05</span></div>\\n    \\n    \\n      <div class=\"Page-body ArticlePage-articleBody\" itemprop=\"articleBody\"><div class=\"RichTextArticleBody\">\\n    \\n        <div class=\"RichTextArticleBody-body\"><div>By Leigh Ann Caldwell</div>\\n<div id=\"pnlByline\">\\n<p>CNN</p>\\n</div>\\n<div>\\n<p>WASHINGTON (CNN) — Not everyone subscribes to a New Year’s resolution, but Americans will be required to follow new laws in 2014.</p>\\n<p>Some 40,000 measures taking effect range from sweeping, national mandates under Obamacare to marijuana legalization in Colorado, drone prohibition in Illinois and transgender protections in California.</p>\\n<p>Although many new laws are controversial, they made it through legislatures, public referendum or city councils and represent the shifting composition of American beliefs.</p>\\n<p><strong>Federal: Health care, of course, and vending machines</strong></p>\\n<p>The biggest and most politically charged change comes at the federal level with the imposition of a new fee for those adults without health insurance.</p>\\n<p>For 2014, the penalty is either $95 per adult or 1% of family income, whichever results in a larger fine.</p>\\n<p>The Obamacare, of Affordable Care Act, mandate also requires that insurers cover immunizations and some preventive care.</p>\\n<p>Additionally, millions of poor Americans will receive Medicaid benefits starting January 1.</p>\\n<p>Thousands of companies will have to provide calorie counts for products sold in vending machines.</p>\\n<p><strong>Local: Guns, family leave and shark fins</strong></p>\\n<p>Connecticut: While no national legislation was approved to tighten gun laws a year after the Newtown school shooting, Connecticut is implementing a final round of changes to its books: All assault weapons and large capacity magazines must be registered.</p>\\n<p>Oregon: Family leave in Oregon has been expanded to allow eligible employees two weeks of paid leave to handle the death of a family member.</p>\\n<p>California: Homeless youth are eligible to receive food stamps. The previous law had a minimum wage requirement.</p>\\n<p>Delaware: Delaware is the latest in a growing number of states where residents can no longer possess, sell or distribute shark fins, which is considered a delicacy in some East Asian cuisine.</p>\\n<p><strong>Illinois and drones</strong></p>\\n<p>Illinois: passed two laws limiting the use of drones. One prohibits them from interfering with hunters and fisherman. The measure passed after the group People for the Ethical Treatment of Animals said it would use drones to monitor hunters. PETA said it aims through its “air angels” effort to protect against “cruel” and “illegal” hunting.</p>\\n<p>Also in Illinois, another law prohibits the use of drones for law enforcement without a warrant.</p>\\n<p><strong>Gender and voting identity</strong></p>\\n<p>California: Students can use bathrooms and join school athletic teams “consistent with their gender identity,” even if it’s different than their gender at birth.</p>\\n<p>Arkansas: The state becomes the latest state requiring voters show a picture ID at the voting booth.</p>\\n<p><strong>Minimum wage and former felon employment</strong></p>\\n<p>Workers in 13 states and four cities will see increases to the minimum wage.</p>\\n<p>While most amount to less than 15 cents per hour, workers in places like New Jersey, and Connecticut.</p>\\n<p>New Jersey residents voted to raise the state’s minimum wage by $1 to $8.25 per hour. And in Connecticut, lawmakers voted to raise it between 25 and 75 cents to $8.70. The wage would go up to $8 in Rhode Island and New York.</p>\\n<p>California is also raising its minimum wage to $9 per hour, but workers must wait until July to see the addition.</p>\\n<p>Rhode Island: It is the latest state to prohibit employers from requiring job applicants to signify if they have a criminal record on a job application.</p>\\n<p><strong>Social media and pot</strong></p>\\n<p>Oregon: Employers and schools can’t require a job or student applicant to provide passwords to social media accounts.</p>\\n<p>Colorado: Marijuana becomes legal in the state for buyers over 21 at a licensed retail dispensary.</p>\\n<p>(Sourcing: much of this list was obtained from the National Conference of State Legislatures).</p>\\n</div>\\n<div id=\"pnlContributors\">\\n<p>CNN’s Christine Romans and Emily Jane Fox contributed to this report</p>\\n</div>\\n<p>The-CNN-Wire<br>\\n™ &amp; © 2013 Cable News Network, Inc., a Time Warner Company. All rights reserved.</p>\\n</div>\\n    \\n</div>\\n</div>\\n    \\n    \\n    <div class=\"copyright\">Copyright 2020 Scripps Media, Inc. All rights reserved. This material may not be published, broadcast, rewritten, or redistributed.</div>\\n\\n\\n    \\n    <div class=\"Page-below\"><div class=\"newsletter-opt\">\\r\\n\\r\\n  <div id=\"news-sign\">\\r\\n    <h3>Sign up for the <span>Breaking News Newsletter</span> and receive up to date information.</h3>\\r\\n    <form id=\"emailForm\">\\r\\n      <input type=\"email\" id=\"email\" name=\"email\" placeholder=\"E-mail\" required>\\r\\n      <input type=\"submit\" value=\"Submit\" id=\"newSub\">\\r\\n    </form>\\r\\n  </div>\\r\\n\\r\\n  <div id=\"news-success\" class=\"hidden\">\\r\\n    <h3 style=\"margin-bottom: 0;\"><span id=\"email-set\"></span> now signed up to receive the <span>Breaking NewsNewsletter.</span></h3>\\r\\n    <a href=\"/account/manage-email-preferences\">Click here to manage all Newsletters</a>\\r\\n  </div>\\r\\n\\r\\n  </div>\\r\\n\\r\\n  <script type=\"text/javascript\">\\r\\n  document.getElementById(\"emailForm\").addEventListener(\\'submit\\', function(event){\\r\\n    event.preventDefault();\\r\\n    let ns = document.getElementById(\"news-sign\");\\r\\n    let nsu = document.getElementById(\"news-success\");\\r\\n    let em = document.getElementById(\"email\").value;\\r\\n    let opts = {email: em , contactlist: \\'10845db7-aed6-42ae-9a19-7e772df8f6bd\\'};\\r\\n\\r\\n    fetch(\\'https://api.ewscloud.com/prod/notifications/v1/kstu/contactlists/subscribe/\\', {\\r\\n        method: \\'post\\',\\r\\n        headers: {\\r\\n          \\'Content-Type\\': \\'application/json\\',\\r\\n          \\'Authorization\\': \\'Token 09de6f3130469f80b9916b0aa568c6e92587b70a\\'\\r\\n        },\\r\\n        body: JSON.stringify(opts)\\r\\n      }).then(function(response) {\\r\\n        return response.json();\\r\\n      }).then(function(data) {\\r\\n        console.log(\\'got data:\\', data.result);\\r\\n      });\\r\\n\\r\\n      ns.classList.toggle(\\'hidden\\');\\r\\n      nsu.classList.toggle(\\'hidden\\');\\r\\n      document.getElementById(\"email-set\").innerHTML = em;\\r\\n\\r\\n\\r\\n  });\\r\\n  </script>\\n<div class=\"OUTBRAIN\" data-src=\"PAGE~url\" data-widget-id=\"AR_11\" data-ob-template=\"scrippstv\"></div> <script type=\"text/javascript\" async=\"async\" src=\"https://widgets.outbrain.com/outbrain.js\"></script>\\n<script async src=\"//s.skimresources.com/js/.skimlinks.js\"></script>\\n</div>\\n\\n\\n  </div>\\n  \\n    <div class=\"right-column\">\\n        <a href=\"https://www.fox13now.com/rebound/state-of-education?utm_source=website&utm_medium=local-promo-right-rail&utm_campaign=keeping-you-safe\" class=\"AsidePromo TrackedSidebarPromo \">\\n    \\n    <div class=\"AsidePromo-media\">\\n        <img class=\"Image\" alt=\"Safely Back to School\" src=\"https://ewscripps.brightspotcdn.com/dims4/default/ea6ec0f/2147483647/strip/true/crop/960x720+160+0/resize/480x360!/quality/90/?url=http%3A%2F%2Fewscripps-brightspot.s3.amazonaws.com%2F15%2Ff5%2Ffc4e0f3144bf95b76cbb5cfca5ce%2Fda43772-doc-stas-safely-back-to-school-default-image-1280x720-2.png\" width=\"480\" height=\"360\"/>\\n\\n    </div>\\n\\n\\n    \\n      <div class=\"AsidePromo-info\">\\n          \\n          \\n              <h3 class=\"AsidePromo-title\">State of Education</h3>\\n          \\n      </div>\\n    \\n</a>\\n    </div>\\n\\n\\n\\n  </article>\\n  </main>\\n  </div>\\n  <div class=\"Footer-wrap\">\\n    <footer class=\"Footer\" itemscope itemtype=\"https://schema.org/WPFooter\">\\n        \\n            <div class=\"Footer-footerContent\"><div class=\"FooterNavigation Navigation\" itemscope itemtype=\"http://schema.org/SiteNavigationElement\">\\n    \\n    \\n        <ul class=\"FooterNavigation-items\">\\n            \\n                <li class=\"FooterNavigation-items-item\" ><div class=\"NavigationItem\" >\\n    <!-- Link without subnavigation -->\\n    <div class=\"NavigationItem-text\">\\n        \\n            <a class=\"NavigationItem-text-link\" href=\"https://www.fox13now.com/news\">News</a>\\n        \\n    </div>\\n    <!-- Links within a subnav group -->\\n    \\n</div></li>\\n            \\n                <li class=\"FooterNavigation-items-item\" ><div class=\"NavigationItem\" >\\n    <!-- Link without subnavigation -->\\n    <div class=\"NavigationItem-text\">\\n        \\n            <a class=\"NavigationItem-text-link\" href=\"https://www.fox13now.com/traffic\">Traffic</a>\\n        \\n    </div>\\n    <!-- Links within a subnav group -->\\n    \\n</div></li>\\n            \\n                <li class=\"FooterNavigation-items-item\" ><div class=\"NavigationItem\" >\\n    <!-- Link without subnavigation -->\\n    <div class=\"NavigationItem-text\">\\n        \\n            <a class=\"NavigationItem-text-link\" href=\"https://www.fox13now.com/weather\">Weather</a>\\n        \\n    </div>\\n    <!-- Links within a subnav group -->\\n    \\n</div></li>\\n            \\n                <li class=\"FooterNavigation-items-item\" ><div class=\"NavigationItem\" >\\n    <!-- Link without subnavigation -->\\n    <div class=\"NavigationItem-text\">\\n        \\n            <a class=\"NavigationItem-text-link\" href=\"https://www.fox13now.com/community\">Community</a>\\n        \\n    </div>\\n    <!-- Links within a subnav group -->\\n    \\n</div></li>\\n            \\n                <li class=\"FooterNavigation-items-item\" ><div class=\"NavigationItem\" >\\n    <!-- Link without subnavigation -->\\n    <div class=\"NavigationItem-text\">\\n        \\n            <a class=\"NavigationItem-text-link\" href=\"http://support.fox13now.com\" target=\"_blank\">Support</a>\\n        \\n    </div>\\n    <!-- Links within a subnav group -->\\n    \\n</div></li>\\n            \\n        </ul>\\n    \\n</div><div class=\"FooterNavigation Navigation\" itemscope itemtype=\"http://schema.org/SiteNavigationElement\">\\n    \\n    \\n        <ul class=\"FooterNavigation-items\">\\n            \\n                <li class=\"FooterNavigation-items-item\" ><div class=\"NavigationItem\" >\\n    <!-- Link without subnavigation -->\\n    <div class=\"NavigationItem-text\">\\n        \\n            <a class=\"NavigationItem-text-link\" href=\"/sitemap\">Site Map</a>\\n        \\n    </div>\\n    <!-- Links within a subnav group -->\\n    \\n</div></li>\\n            \\n                <li class=\"FooterNavigation-items-item\" ><div class=\"NavigationItem\" >\\n    <!-- Link without subnavigation -->\\n    <div class=\"NavigationItem-text\">\\n        \\n            <a class=\"NavigationItem-text-link\" href=\"https://www.fox13now.com/about-us/advertise-with-fox-13\">Advertise with Us</a>\\n        \\n    </div>\\n    <!-- Links within a subnav group -->\\n    \\n</div></li>\\n            \\n                <li class=\"FooterNavigation-items-item\" ><div class=\"NavigationItem\" >\\n    <!-- Link without subnavigation -->\\n    <div class=\"NavigationItem-text\">\\n        \\n            <a class=\"NavigationItem-text-link\" href=\"/do-not-sell-my-info\">Do Not Sell My Info</a>\\n        \\n    </div>\\n    <!-- Links within a subnav group -->\\n    \\n</div></li>\\n            \\n                <li class=\"FooterNavigation-items-item\" ><div class=\"NavigationItem\" >\\n    <!-- Link without subnavigation -->\\n    <div class=\"NavigationItem-text\">\\n        \\n            <a class=\"NavigationItem-text-link\" href=\"https://www.fox13now.com/privacy-policy\">Privacy Policy</a>\\n        \\n    </div>\\n    <!-- Links within a subnav group -->\\n    \\n</div></li>\\n            \\n                <li class=\"FooterNavigation-items-item\" ><div class=\"NavigationItem\" >\\n    <!-- Link without subnavigation -->\\n    <div class=\"NavigationItem-text\">\\n        \\n            <a class=\"NavigationItem-text-link\" href=\"https://www.fox13now.com/terms-of-use\">Terms of Use</a>\\n        \\n    </div>\\n    <!-- Links within a subnav group -->\\n    \\n</div></li>\\n            \\n                <li class=\"FooterNavigation-items-item\" ><div class=\"NavigationItem\" >\\n    <!-- Link without subnavigation -->\\n    <div class=\"NavigationItem-text\">\\n        \\n            <a class=\"NavigationItem-text-link\" href=\"https://www.fox13now.com/eeo\">EEO</a>\\n        \\n    </div>\\n    <!-- Links within a subnav group -->\\n    \\n</div></li>\\n            \\n                <li class=\"FooterNavigation-items-item\" ><div class=\"NavigationItem\" >\\n    <!-- Link without subnavigation -->\\n    <div class=\"NavigationItem-text\">\\n        \\n            <a class=\"NavigationItem-text-link\" href=\"https://publicfiles.fcc.gov/tv-profile/kstu\" target=\"_blank\">FCC Public Files</a>\\n        \\n    </div>\\n    <!-- Links within a subnav group -->\\n    \\n</div></li>\\n            \\n                <li class=\"FooterNavigation-items-item\" ><div class=\"NavigationItem\" >\\n    <!-- Link without subnavigation -->\\n    <div class=\"NavigationItem-text\">\\n        \\n            <a class=\"NavigationItem-text-link\" href=\"https://www.fox13now.com/fcc-application\">FCC Application</a>\\n        \\n    </div>\\n    <!-- Links within a subnav group -->\\n    \\n</div></li>\\n            \\n                <li class=\"FooterNavigation-items-item\" ><div class=\"NavigationItem\" >\\n    <!-- Link without subnavigation -->\\n    <div class=\"NavigationItem-text\">\\n        \\n            <a class=\"NavigationItem-text-link\" href=\"https://www.fox13now.com/public-file-contact-us\">Public File Contact</a>\\n        \\n    </div>\\n    <!-- Links within a subnav group -->\\n    \\n</div></li>\\n            \\n                <li class=\"FooterNavigation-items-item\" ><div class=\"NavigationItem\" >\\n    <!-- Link without subnavigation -->\\n    <div class=\"NavigationItem-text\">\\n        \\n            <a class=\"NavigationItem-text-link\" href=\"https://www.fox13now.com/accessibility-statement\">Accessibility Statement</a>\\n        \\n    </div>\\n    <!-- Links within a subnav group -->\\n    \\n</div></li>\\n            \\n                <li class=\"FooterNavigation-items-item\" ><div class=\"NavigationItem\" >\\n    <!-- Link without subnavigation -->\\n    <div class=\"NavigationItem-text\">\\n        \\n            <a class=\"NavigationItem-text-link\" href=\"/closed-captioning-contact\">Closed Captioning Contact</a>\\n        \\n    </div>\\n    <!-- Links within a subnav group -->\\n    \\n</div></li>\\n            \\n                <li class=\"FooterNavigation-items-item\" ><div class=\"NavigationItem\" >\\n    <!-- Link without subnavigation -->\\n    <div class=\"NavigationItem-text\">\\n        \\n            <a class=\"NavigationItem-text-link\" href=\"https://scripps.wd5.myworkdayjobs.com/Scripps_Careers/3/refreshFacet/318c8bb6f553100021d223d9780d30be\">Careers</a>\\n        \\n    </div>\\n    <!-- Links within a subnav group -->\\n    \\n</div></li>\\n            \\n        </ul>\\n    \\n</div></div>\\n        \\n        <div class=\"disclaimer-logo\">\\n            \\n                <div class=\"Footer-social\"><div class=\"SocialBar\">\\n    <h2 class=\"SocialBar-heading\">Social</h2>\\n    \\n        <ul class=\"SocialBar-items\">\\n            \\n                <li class=\"SocialBar-items-item\"><a class=\"SocialLink\" href=\"https://www.facebook.com/fox13newsutah\" target=\"_blank\" data-social-service=\"facebook\">fox13newsutah</a>\\n</li>\\n            \\n                <li class=\"SocialBar-items-item\"><a class=\"SocialLink\" href=\"https://www.instagram.com/fox13now/\" target=\"_blank\" data-social-service=\"instagram\">fox13now</a>\\n</li>\\n            \\n                <li class=\"SocialBar-items-item\"><a class=\"SocialLink\" href=\"https://twitter.com/fox13\" target=\"_blank\" data-social-service=\"twitter\">fox13</a>\\n</li>\\n            \\n        </ul>\\n    \\n</div>\\n</div>\\n            \\n            <img class=\"Footer-logo\" src=\"https://assets.scrippsdigital.com/cms/images/logo-scripps.png\">\\n            \\n                <div class=\"Footer-disclaimer\"><a class=\"Link\" href=\"https://scripps.com/our-brands/local-media/\">Scripps Local Media</a><br>© 2020 Scripps Media, Inc</div>\\n            \\n        </div>\\n    </footer>\\n</div>\\n\\n\\n  \\n</body>\\n\\n</html>'"
            ]
          },
          "metadata": {
            "tags": []
          },
          "execution_count": 3
        }
      ]
    },
    {
      "cell_type": "code",
      "metadata": {
        "id": "GgfljTqCSNRx"
      },
      "source": [
        "article.parse()"
      ],
      "execution_count": null,
      "outputs": []
    },
    {
      "cell_type": "code",
      "metadata": {
        "id": "Z1HQAn2qSNO5",
        "colab": {
          "base_uri": "https://localhost:8080/"
        },
        "outputId": "2daa2f67-5b32-4ee1-e314-d0480daa7da7"
      },
      "source": [
        "article.authors"
      ],
      "execution_count": null,
      "outputs": [
        {
          "output_type": "execute_result",
          "data": {
            "text/plain": [
              "[]"
            ]
          },
          "metadata": {
            "tags": []
          },
          "execution_count": 5
        }
      ]
    },
    {
      "cell_type": "code",
      "metadata": {
        "id": "IFUyeS13SNME",
        "colab": {
          "base_uri": "https://localhost:8080/"
        },
        "outputId": "7b684cc9-f0a6-4e00-dfaf-0b0051e1f276"
      },
      "source": [
        "article.publish_date"
      ],
      "execution_count": null,
      "outputs": [
        {
          "output_type": "execute_result",
          "data": {
            "text/plain": [
              "datetime.datetime(2013, 12, 30, 0, 0)"
            ]
          },
          "metadata": {
            "tags": []
          },
          "execution_count": 6
        }
      ]
    },
    {
      "cell_type": "code",
      "metadata": {
        "id": "nOw0bKuLSNJX",
        "colab": {
          "base_uri": "https://localhost:8080/",
          "height": 126
        },
        "outputId": "055b06e7-a500-4714-d94c-0e442ac7e0a3"
      },
      "source": [
        "article.text"
      ],
      "execution_count": null,
      "outputs": [
        {
          "output_type": "execute_result",
          "data": {
            "application/vnd.google.colaboratory.intrinsic+json": {
              "type": "string"
            },
            "text/plain": [
              "'By Leigh Ann Caldwell\\n\\nWASHINGTON (CNN) — Not everyone subscribes to a New Year’s resolution, but Americans will be required to follow new laws in 2014.\\n\\nSome 40,000 measures taking effect range from sweeping, national mandates under Obamacare to marijuana legalization in Colorado, drone prohibition in Illinois and transgender protections in California.\\n\\nAlthough many new laws are controversial, they made it through legislatures, public referendum or city councils and represent the shifting composition of American beliefs.\\n\\nFederal: Health care, of course, and vending machines\\n\\nThe biggest and most politically charged change comes at the federal level with the imposition of a new fee for those adults without health insurance.\\n\\nFor 2014, the penalty is either $95 per adult or 1% of family income, whichever results in a larger fine.\\n\\nThe Obamacare, of Affordable Care Act, mandate also requires that insurers cover immunizations and some preventive care.\\n\\nAdditionally, millions of poor Americans will receive Medicaid benefits starting January 1.\\n\\nThousands of companies will have to provide calorie counts for products sold in vending machines.\\n\\nLocal: Guns, family leave and shark fins\\n\\nConnecticut: While no national legislation was approved to tighten gun laws a year after the Newtown school shooting, Connecticut is implementing a final round of changes to its books: All assault weapons and large capacity magazines must be registered.\\n\\nOregon: Family leave in Oregon has been expanded to allow eligible employees two weeks of paid leave to handle the death of a family member.\\n\\nCalifornia: Homeless youth are eligible to receive food stamps. The previous law had a minimum wage requirement.\\n\\nDelaware: Delaware is the latest in a growing number of states where residents can no longer possess, sell or distribute shark fins, which is considered a delicacy in some East Asian cuisine.\\n\\nIllinois and drones\\n\\nIllinois: passed two laws limiting the use of drones. One prohibits them from interfering with hunters and fisherman. The measure passed after the group People for the Ethical Treatment of Animals said it would use drones to monitor hunters. PETA said it aims through its “air angels” effort to protect against “cruel” and “illegal” hunting.\\n\\nAlso in Illinois, another law prohibits the use of drones for law enforcement without a warrant.\\n\\nGender and voting identity\\n\\nCalifornia: Students can use bathrooms and join school athletic teams “consistent with their gender identity,” even if it’s different than their gender at birth.\\n\\nArkansas: The state becomes the latest state requiring voters show a picture ID at the voting booth.\\n\\nMinimum wage and former felon employment\\n\\nWorkers in 13 states and four cities will see increases to the minimum wage.\\n\\nWhile most amount to less than 15 cents per hour, workers in places like New Jersey, and Connecticut.\\n\\nNew Jersey residents voted to raise the state’s minimum wage by $1 to $8.25 per hour. And in Connecticut, lawmakers voted to raise it between 25 and 75 cents to $8.70. The wage would go up to $8 in Rhode Island and New York.\\n\\nCalifornia is also raising its minimum wage to $9 per hour, but workers must wait until July to see the addition.\\n\\nRhode Island: It is the latest state to prohibit employers from requiring job applicants to signify if they have a criminal record on a job application.\\n\\nSocial media and pot\\n\\nOregon: Employers and schools can’t require a job or student applicant to provide passwords to social media accounts.\\n\\nColorado: Marijuana becomes legal in the state for buyers over 21 at a licensed retail dispensary.\\n\\n(Sourcing: much of this list was obtained from the National Conference of State Legislatures).'"
            ]
          },
          "metadata": {
            "tags": []
          },
          "execution_count": 7
        }
      ]
    },
    {
      "cell_type": "code",
      "metadata": {
        "id": "UEnm_4WrSNGd",
        "colab": {
          "base_uri": "https://localhost:8080/",
          "height": 54
        },
        "outputId": "1f35d837-d961-4f49-894e-d89fdc3f57f6"
      },
      "source": [
        "article.top_image"
      ],
      "execution_count": null,
      "outputs": [
        {
          "output_type": "execute_result",
          "data": {
            "application/vnd.google.colaboratory.intrinsic+json": {
              "type": "string"
            },
            "text/plain": [
              "'https://ewscripps.brightspotcdn.com/dims4/default/d49dab0/2147483647/strip/true/crop/400x210+0+8/resize/1200x630!/quality/90/?url=http%3A%2F%2Fmediaassets.fox13now.com%2Ftribune-network%2Ftribkstu-files-wordpress%2F2012%2F04%2Fnational-news-e1486938949489.jpg'"
            ]
          },
          "metadata": {
            "tags": []
          },
          "execution_count": 8
        }
      ]
    },
    {
      "cell_type": "code",
      "metadata": {
        "id": "3ub9ZEH8SnRf",
        "colab": {
          "base_uri": "https://localhost:8080/"
        },
        "outputId": "1afdca08-c5db-4479-a013-447cc7f8bce5"
      },
      "source": [
        "article.movies"
      ],
      "execution_count": null,
      "outputs": [
        {
          "output_type": "execute_result",
          "data": {
            "text/plain": [
              "[]"
            ]
          },
          "metadata": {
            "tags": []
          },
          "execution_count": 9
        }
      ]
    },
    {
      "cell_type": "code",
      "metadata": {
        "id": "pq4ZmGOvStvE",
        "colab": {
          "base_uri": "https://localhost:8080/"
        },
        "outputId": "be9da9ac-aaff-4a3e-9535-b1686a7cb4fc"
      },
      "source": [
        "import nltk\n",
        "nltk.download('punkt')"
      ],
      "execution_count": null,
      "outputs": [
        {
          "output_type": "stream",
          "text": [
            "[nltk_data] Downloading package punkt to /root/nltk_data...\n",
            "[nltk_data]   Unzipping tokenizers/punkt.zip.\n"
          ],
          "name": "stdout"
        },
        {
          "output_type": "execute_result",
          "data": {
            "text/plain": [
              "True"
            ]
          },
          "metadata": {
            "tags": []
          },
          "execution_count": 10
        }
      ]
    },
    {
      "cell_type": "code",
      "metadata": {
        "id": "XXc94mvjSpQt"
      },
      "source": [
        "article.nlp()"
      ],
      "execution_count": null,
      "outputs": []
    },
    {
      "cell_type": "code",
      "metadata": {
        "id": "Z1vNfCpDSrNC",
        "colab": {
          "base_uri": "https://localhost:8080/"
        },
        "outputId": "38ce43c6-132b-46cc-f544-5a7fd138ae4c"
      },
      "source": [
        "article.keywords"
      ],
      "execution_count": null,
      "outputs": [
        {
          "output_type": "execute_result",
          "data": {
            "text/plain": [
              "['minimum',\n",
              " 'states',\n",
              " 'drones',\n",
              " 'family',\n",
              " 'wage',\n",
              " 'obamacare',\n",
              " 'latest',\n",
              " 'law',\n",
              " 'guns',\n",
              " 'leave',\n",
              " 'state',\n",
              " 'pot',\n",
              " 'laws',\n",
              " 'national']"
            ]
          },
          "metadata": {
            "tags": []
          },
          "execution_count": 12
        }
      ]
    },
    {
      "cell_type": "code",
      "metadata": {
        "id": "7D1Yjo90Sx8q",
        "colab": {
          "base_uri": "https://localhost:8080/",
          "height": 90
        },
        "outputId": "a81dcd33-81e1-4766-83e2-1d5711e1f461"
      },
      "source": [
        "article.summary"
      ],
      "execution_count": null,
      "outputs": [
        {
          "output_type": "execute_result",
          "data": {
            "application/vnd.google.colaboratory.intrinsic+json": {
              "type": "string"
            },
            "text/plain": [
              "'Oregon: Family leave in Oregon has been expanded to allow eligible employees two weeks of paid leave to handle the death of a family member.\\nArkansas: The state becomes the latest state requiring voters show a picture ID at the voting booth.\\nMinimum wage and former felon employmentWorkers in 13 states and four cities will see increases to the minimum wage.\\nNew Jersey residents voted to raise the state’s minimum wage by $1 to $8.25 per hour.\\nCalifornia is also raising its minimum wage to $9 per hour, but workers must wait until July to see the addition.'"
            ]
          },
          "metadata": {
            "tags": []
          },
          "execution_count": 13
        }
      ]
    },
    {
      "cell_type": "markdown",
      "metadata": {
        "id": "RBKoVtqES1kQ"
      },
      "source": [
        "## **Scrape CNN News**"
      ]
    },
    {
      "cell_type": "code",
      "metadata": {
        "id": "PMzBUxkXS9k0"
      },
      "source": [
        "import newspaper"
      ],
      "execution_count": null,
      "outputs": []
    },
    {
      "cell_type": "code",
      "metadata": {
        "id": "4TzXstuMSyqi"
      },
      "source": [
        "cnn_paper = newspaper.build('http://cnn.com')"
      ],
      "execution_count": null,
      "outputs": []
    },
    {
      "cell_type": "code",
      "metadata": {
        "id": "jSwH08DvS4cP",
        "colab": {
          "base_uri": "https://localhost:8080/"
        },
        "outputId": "48b10444-1f09-4b76-aac4-3ac15437247c"
      },
      "source": [
        "for article in cnn_paper.articles:\n",
        "  print(article.url)"
      ],
      "execution_count": null,
      "outputs": [
        {
          "output_type": "stream",
          "text": [
            "http://cnn.com/business/media\n",
            "http://cnn.com/travel/news\n",
            "http://cnn.com/2020/12/13/asia/peter-humphrey-china-prisoners-intl-hnk/index.html\n",
            "http://cnn.com/2020/12/04/economy/china-digital-yuan-currency-intl-hnk/index.html\n",
            "http://cnn.com/2020/12/07/china/south-china-sea-bases-military-intl-hnk/index.html\n",
            "http://cnn.com/2020/12/03/tech/autox-robotaxi-china-intl-hnk/index.html\n",
            "http://cnn.com/2020/12/03/asia/hong-kong-democracy-arrests-protest-intl-hnk/index.html\n",
            "http://www.cnn.com/interactive/2016/12/specials/vanishing/\n",
            "http://cnn.com/2016/12/11/world/vanishing-mckenzie-botswana-elephants/index.html\n",
            "http://cnn.com/2016/12/08/world/sutter-giraffe-extinction/index.html\n",
            "http://cnn.com/2016/12/11/world/vanishing-sutter-amphibian-extinction/index.html\n",
            "http://www.cnn.com/interactive/2016/12/world/midway-plastic-island/\n",
            "http://cnn.com/2016/12/11/world/vanishing-sutter-coral-madagascar/index.html\n",
            "http://cnn.com/2016/12/11/us/vanishing-sutter-franklins-bumblebee/index.html\n",
            "http://cnn.com/2016/10/27/opinions/sutter-wwf-sixth-extinction/index.html\n",
            "http://cnn.com/2016/12/12/world/sutter-vanishing-help/index.html\n",
            "http://cnn.com/2018/08/23/us/cnnheroes-florence-phillips-esl-in-home-program-of-northern-nevada/index.html\n",
            "http://cnn.com/2018/08/16/us/cnnheroes-ellen-stackable-poetic-justice/index.html\n",
            "http://cnn.com/2018/05/17/us/cnnheroes-paul-steklenski-flying-fur-animal-rescue/index.html\n",
            "http://cnn.com/2018/07/19/health/cnnheroes-maria-rose-belding-means/index.html\n",
            "http://cnn.com/2018/06/28/us/cnnheroes-luke-mickelson-sleep-in-heavenly-peace/index.html\n",
            "http://cnn.com/2018/04/12/health/cnnheroes-amanda-boxtel-bridging-bionics/index.html\n",
            "http://www.cnn.com/interactive/2017/02/health/nursing-home-aide-rape-charges/\n",
            "http://www.cnn.com/interactive/2017/02/health/nursing-home-sex-abuse-investigation/\n",
            "http://cnn.com/2017/02/22/opinions/nursing-home-rape-essay/index.html\n",
            "http://cnn.com/2017/08/20/health/nursing-home-aide-rape-trial-guilty/index.html\n",
            "http://cnn.com/style/article/joris-laarman-smithsonian-digital-design/index.html\n",
            "http://cnn.com/style/article/tattoos-in-japanese-prints/index.html\n",
            "http://cnn.com/2017/03/31/health/hfr-paulette-leaphart-naked-truth/index.html\n",
            "http://cnn.com/2017/07/05/health/claire-wineland-cystic-fibrosis-eprise/index.html\n",
            "http://cnn.com/2016/10/14/health/conjoined-twins-separation-surgery/index.html\n",
            "http://cnn.com/2017/07/19/health/rishikesh-new-york-yoga-day/index.html\n",
            "http://cnn.com/2017/04/04/health/texas-wrongful-birth-dortha-lesli/index.html\n",
            "http://cnn.com/2017/05/05/health/opioid-detox-during-pregnancy/index.html\n",
            "http://cnn.com/2017/01/24/health/nebraska-trump-obamacare-aca-eprise/index.html\n",
            "http://cnn.com/2017/06/02/us/who-commits-hate-crimes/index.html\n",
            "http://cnn.com/2017/06/04/us/understanding-the-h-1b-visa/index.html\n",
            "http://cnn.com/2017/04/28/world/indian-immigrant-nra-convention/index.html\n",
            "http://cnn.com/2017/02/21/us/travel-ban-somali-refugees-separated/index.html\n",
            "http://www.cnn.com/interactive/2017/04/health/dreams-of-baby-noor/\n",
            "http://cnn.com/2017/01/22/world/mh370-husband-speaks-out/index.html\n",
            "http://cnn.com/2017/08/18/us/ordinary-white-supremacists/index.html\n",
            "http://cnn.com/2017/08/10/us/naacp-remade-travel-advisory/index.html\n",
            "http://www.cnn.com/interactive/2017/02/us/first-time-i-realized-i-was-black/\n",
            "http://cnn.com/2017/08/04/health/exorcism-doctor/index.html\n",
            "http://cnn.com/2017/04/30/us/winston-salem-welcoming-city-immigration/index.html\n",
            "http://www.cnn.com/interactive/2015/10/us/other-gun-lobby/\n",
            "http://cnn.com/2013/09/01/world/gallery/iconic-images/index.html\n",
            "http://cnn.com/2015/03/31/world/cnnphotos-huaorani-rainforest-ecuador/index.html\n",
            "http://cnn.com/2015/03/17/living/cnnphotos-british-show-animals/index.html\n",
            "http://cnn.com/2015/03/22/world/cnnphotos-rainbow-gathering/index.html\n",
            "http://cnn.com/2015/03/12/world/cnnphotos-female-peshmerga-fighters/index.html\n",
            "http://cnn.com/2015/03/26/us/cnnphotos-girls-behind-bars/index.html\n",
            "http://cnn.com/2015/03/15/living/cnnphotos-female-fight-club/index.html\n",
            "http://cnn.com/2015/03/19/world/cnnphotos-india-polio/index.html\n",
            "http://cnn.com/2015/03/24/world/cnnphotos-sudan-refugees-portraits/index.html\n",
            "http://cnn.com/2016/01/21/us/disabled-work-program-investigation-update/index.html\n",
            "http://cnn.com/2015/11/02/us/fraternity-hazing-deaths/index.html\n",
            "http://cnn.com/2015/10/19/politics/planned-parenthood-videos/index.html\n",
            "http://cnn.com/2015/07/27/us/disabled-work-program-investigation/index.html\n",
            "http://cnn.com/2015/07/07/us/illinois-athletics-allegations/index.html\n",
            "http://cnn.com/2015/05/19/us/scam-charity-investigation/index.html\n",
            "http://cnn.com/2015/04/13/us/airport-luggage-theft/index.html\n",
            "http://cnn.com/2015/09/10/us/virgin-islands-pesticide-investigation/index.html\n",
            "http://cnn.com/2015/03/13/us/va-investigation-los-angeles/index.html\n",
            "http://cnn.com/2015/03/13/us/irs-scam/index.html\n",
            "http://cnn.com/2014/11/17/us/south-dakota-indian-school-fundraising-investigation/index.html\n",
            "http://cnn.com/2014/10/29/politics/politicians-play-lobbyists-pay/index.html\n",
            "http://cnn.com/2016/09/22/us/immigration-attitudes-cnn-kff-poll/index.html\n",
            "http://cnn.com/2016/09/25/politics/white-working-class-overview-kff-poll/index.html\n",
            "http://cnn.com/2016/09/20/politics/2016-election-white-working-class-voters/index.html\n",
            "http://cnn.com/2016/09/24/politics/white-working-class-evangelicals/index.html\n",
            "http://cnn.com/2016/09/23/opinions/shell-shocked-white-working-class-opinion-coontz/index.html\n",
            "http://cnn.com/2016/09/20/politics/election-2016-white-working-class-donald-trump-kaiser-family-foundation/index.html\n",
            "http://cnn.com/2016/09/20/politics/white-working-class-americans-have-split-on-muslim-immigrants-trump-clinton/index.html\n",
            "http://money.cnn.com/2016/09/21/news/economy/white-working-class-government/index.html?iid=hp-toplead-dom\n",
            "http://www.cnn.com/2016/09/19/politics/trump-supporters-working-class-white-kaiser-family-foundation-infographic/index.html\n",
            "http://money.cnn.com/2016/09/23/news/economy/white-working-class-economy/index.html\n",
            "http://cnn.com/2017/08/15/world/iyw-aid-sierra-leone-mudslide-victims/index.html\n",
            "http://cnn.com/2017/03/16/world/iyw-how-to-help-east-africa/index.html\n",
            "http://cnn.com/2016/10/19/middleeast/iyw-mosul-iraq-how-to-help/index.html\n",
            "http://cnn.com/2016/05/10/health/iyw-prescription-drug-abuse-how-to-help-health/index.html\n",
            "http://cnn.com/2017/08/07/world/iyw-impact-of-youssif/index.html\n",
            "http://cnn.com/2016/10/28/us/iyw-girl-friendship-trnd/index.html\n",
            "http://cnn.com/2016/09/28/world/iyw-girl-up-michelle-obama-girls-education-how-to-help/index.html\n",
            "http://cnn.com/2015/01/06/world/iyw-syria-resource-list/index.html\n",
            "http://cnn.com/2017/06/28/world/elle-snow-trafficking/index.html\n",
            "http://cnn.com/2017/05/30/world/ciw-fair-food-program-freedom-project/index.html\n",
            "http://cnn.com/2017/06/02/world/tonys-chocolonely-slavery-free-chocolate/index.html\n",
            "http://cnn.com/2017/04/26/americas/brazil-amazon-slavery-freedom-project/index.html\n",
            "http://cnn.com/2017/07/26/asia/cambodia-brick-kiln/index.html\n",
            "http://cnn.com/2017/07/24/asia/return-to-cambodia-sex-trafficking/index.html\n",
            "http://www.cnn.com/interactive/2014/05/specials/city-of-tomorrow/index.html\n",
            "http://www.cnn.com/interactive/2014/09/health/cnn10-healthiest-cities/\n",
            "https://cnn.com/travel/article/italy-one-euro-homes-castropignano-molise/index.html\n",
            "https://cnn.com/travel/article/saudi-arabia-fun-tourists/index.html\n",
            "https://cnn.com/travel/article/hungary-iceland-covid-immunity-passport-scn/index.html\n",
            "https://cnn.com/travel/article/tiktok-hotel-room-chef/index.html\n",
            "https://cnn.com/travel/article/pompeii-new-excavations-looting/index.html\n",
            "http://cnn.com/travel/article/eysturoy-tunnel-roundabout-faroe-islands/index.html\n",
            "http://cnn.com/travel/article/autobahn-germany-history/index.html\n",
            "http://cnn.com/travel/article/sharaan-resort-jean-nouvel-saudi-arabia/index.html\n",
            "http://cnn.com/travel/article/taiwan-turkey-rice-rou-bo/index.html\n",
            "http://cnn.com/travel/article/best-travel-food-podcasts-2020/index.html\n",
            "http://cnn.com/travel/article/what-is-american-food-history/index.html\n",
            "http://cnn.com/travel/article/ski-verbier-megeve-france-switzerland/index.html\n",
            "http://cnn.com/travel/article/new-superyacht-shaped-like-a-shark/index.html\n",
            "http://cnn.com/travel/article/thailand-the-sanctuary-koh-phangan/index.html\n",
            "http://cnn.com/audio/podcasts/don-lemon-silence-is-not-an-option\n",
            "http://cnn.com/audio/podcasts/state-of-the-union-with-jake-tapper\n",
            "http://cnn.com/audio/podcasts/the-situation-room-with-wolf-blitzer\n",
            "http://cnn.com/audio/podcasts/the-human-code-with-laurie-segall\n",
            "http://cnn.com/audio/podcasts/lisa-sandra-and-kristen-go-to-the-movies\n",
            "http://cnn.com/audio/podcasts/election-2000-over-time\n",
            "http://cnn.com/audio/podcasts/el-chapo-dos-rostros-de-un-capo\n",
            "http://cnn.com/audio/podcasts/coronavirus-realidad-vs-ficcion-con-dr-elmer-huerta\n",
            "http://us.cnn.com/business/media\n",
            "http://us.cnn.com/travel/news\n",
            "http://cnn.com/2020/12/14/europe/russia-navalny-agents-bellingcat-ward/index.html\n",
            "http://cnn.com/travel/article/cell-phone-calls-airplanes/index.html\n",
            "http://cnn.com/travel/article/starlux-airlines-taiwan/index.html\n",
            "http://cnn.com/travel/article/metro-cityring-copenhagen-denmark/index.html\n",
            "http://cnn.com/travel/article/mystery-hotel-budapest/index.html\n",
            "http://cnn.com/travel/article/luxury-bars-budapest/index.html\n",
            "http://cnn.com/travel/article/fine-dining-budapest/index.html\n",
            "http://cnn.com/travel/article/fairmont-baku-flame-towers-azerbaijan/index.html\n",
            "http://cnn.com/travel/article/long-life-lerik-azerbaijan-wellness/index.html\n",
            "http://cnn.com/travel/article/yanar-dag-azerbaijan-land-of-fire/index.html\n",
            "http://cnn.com/2020/12/14/investing/premarket-stocks-trading/index.html\n",
            "http://cnn.com/2020/12/14/tech/google-youtube-gmail-down/index.html\n",
            "http://cnn.com/2020/12/11/business/pfizer-vaccine-covid-moderna-revenue/index.html\n",
            "http://cnn.com/2020/12/12/business/thermo-king-coronavirus-vaccine-freezer/index.html\n",
            "http://cnn.com/2020/12/14/investing/ea-codemasters/index.html\n",
            "http://cnn.com/2020/12/09/business/coal-country-pain/index.html\n",
            "http://cnn.com/2020/12/14/business/popeyes-beignets-trnd/index.html\n",
            "http://cnn.com/2020/12/13/tech/gaming-recession-proof/index.html\n",
            "http://cnn.com/2020/12/13/tech/cyberpunk-2077-nudity-twitch/index.html\n",
            "http://cnn.com/2020/12/13/media/streaming-price-disney-netflix/index.html\n",
            "http://cnn.com/2020/12/12/business/retailers-restaurants-bankrupt-2020/index.html\n",
            "http://cnn.com/2020/12/13/media/se-cupp-fan-fiction-reliable/index.html\n",
            "http://cnn.com/2020/12/14/investing/burger-king-india-ipo-shares-intl-hnk/index.html\n",
            "http://cnn.com/2020/12/13/tech/silicon-valley-moving-to-austin-miami/index.html\n",
            "http://cnn.com/2020/12/14/perspectives/serena-williams-black-women-entrepreneurs-venture-capital/index.html\n",
            "http://cnn.com/2020/12/13/tech/apple-most-expensive-products/index.html\n",
            "http://cnn.com/2020/12/10/investing/ipos-doordash-airbnb-tech/index.html\n",
            "http://cnn.com/2020/12/11/investing/premarket-stocks-trading/index.html\n",
            "http://cnn.com/2020/12/09/tech/doordash-ipo/index.html\n",
            "http://cnn.com/2020/12/08/investing/hong-kong-ipo-jd-health-intl-hnk/index.html\n",
            "http://cnn.com/2020/12/09/business/nba-chris-paul-michele-roberts-adam-silver-risk-takers/index.html\n",
            "http://cnn.com/2020/12/09/business/orangetheory-fitness-gym-covid/index.html\n",
            "http://cnn.com/2020/12/08/tech/fitness-apple-release-peloton-stock/index.html\n",
            "http://cnn.com/2020/08/19/business/crossfit-ceo-eric-roza/index.html\n",
            "http://cnn.com/2020/09/17/tech/tonal-at-home-fitness-funding/index.html\n",
            "http://cnn.com/videos/business/2020/12/07/diy-decorations-cheap-christmas-holiday-yir-orig-jk-mh.cnnbusiness\n",
            "https://www.fool.com/mms/mark/e-sa-5-stocks-under-50-henry?utm_source=cnnmoney&utm_medium=contentmarketing&utm_campaign=5stocksunder50-henry-july2020&paid=9394&waid=9394&aid=9394&psource=esacnnwdg0210060&source=esacnnwdg0210060&wsource=esacnnwdg0210060\n",
            "http://cnn.com/videos/health/2020/12/14/new-york-coronavirus-vaccine-vpx.cnn/video/playlists/top-news-videos/\n",
            "http://cnn.com/videos/health/2020/12/14/albert-bourla-pfizer-ceo-vaccine-rollout-covid-newday-vpx.cnn/video/playlists/top-news-videos/\n",
            "http://cnn.com/videos/us/2020/12/14/unboxing-vaccine-pfizer-us-sara-murray-nr-liveshot-vpx.cnn/video/playlists/top-news-videos/\n",
            "http://cnn.com/videos/tv/2020/12/13/blm-patrick-hutchinson-most-inspiring-moment-cnnheroes.cnn/video/playlists/top-news-videos/\n",
            "http://cnn.com/videos/politics/2020/12/13/us-agencies-investigating-hacking-data-breach-nr-vpx.cnn/video/playlists/top-news-videos/\n",
            "http://cnn.com/videos/health/2020/12/12/redfield-cdc-coronavirus-pfizer-biontech-vaccine-vote-gupta-nr-vpx.cnn/video/playlists/top-news-videos/\n",
            "http://cnn.com/videos/health/2020/12/13/coronavirus-vaccine-distribution-pfizer-michigan-facility-vpx.cnn/video/playlists/top-news-videos/\n",
            "http://cnn.com/videos/us/2020/12/13/nyc-church-shooting-christmas-concert-sot-vpx.wpix/video/playlists/top-news-videos/\n",
            "http://cnn.com/videos/business/2020/12/13/bill-gates-coronavirus-vaccine-presidential-transition-sotu-tapper-intv-vpx.cnn/video/playlists/top-news-videos/\n",
            "http://cnn.com/videos/business/2020/12/13/fedex-coronavirus-vaccine-tracking-richard-smith-nr-sot-vpx.cnn/video/playlists/top-news-videos/\n",
            "http://cnn.com/videos/politics/2020/12/13/tapper-ender-thank-you-message-trump-democracy-sotu-vpx.cnn/video/playlists/top-news-videos/\n",
            "http://cnn.com/videos/us/2020/12/13/carol-sutton-actress-movie-roles-steel-magnolias-orig-kj.cnn/video/playlists/top-news-videos/\n",
            "http://cnn.com/videos/business/2020/12/13/bill-gates-coronavirus-pandemic-us-response-sotu-tapper-intv-vpx.cnn/video/playlists/top-news-videos/\n",
            "http://cnn.com/videos/health/2020/12/13/coronavirus-vaccine-fda-commissioner-stephen-hahn-sotu-tapper-vpx.cnn/video/playlists/top-news-videos/\n",
            "http://cnn.com/videos/politics/2020/12/13/trump-election-barr-white-house-ndwknd-westwood-vpx.cnn/video/playlists/top-news-videos/\n",
            "http://cnn.com/videos/us/2020/12/12/charley-pride-obit-vpx.cnn/video/playlists/top-news-videos/\n",
            "http://cnn.com/videos/tv/2018/03/06/american-dynasties-the-kennedys-trailer.cnn-digital-marketing\n",
            "http://cnn.com/videos/tv/2018/03/01/cnngo-pope-most-powerful-man-in-history-trailer-new.cnn-creative-marketing\n",
            "http://cnn.com/videos/cnnmoney/2018/06/12/louboutin-trademark-red-shoe-soles-van-haren-court-ruling-cnnmoney-orig.cnnmoney\n",
            "http://cnn.com/videos/cnnmoney/2018/06/11/netflix-att-disney-market-value-orig.cnnmoney\n",
            "https://money.cnn.com/business/media\n",
            "https://money.cnn.com/2020/12/14/investing/premarket-stocks-trading/index.html\n",
            "https://money.cnn.com/2020/12/14/tech/google-youtube-gmail-down/index.html\n",
            "https://money.cnn.com/2020/12/11/business/pfizer-vaccine-covid-moderna-revenue/index.html\n",
            "https://money.cnn.com/2020/12/12/business/thermo-king-coronavirus-vaccine-freezer/index.html\n",
            "https://money.cnn.com/2020/12/14/investing/ea-codemasters/index.html\n",
            "https://money.cnn.com/2020/12/09/business/coal-country-pain/index.html\n",
            "https://money.cnn.com/2020/12/14/business/popeyes-beignets-trnd/index.html\n",
            "https://money.cnn.com/2020/12/13/tech/gaming-recession-proof/index.html\n",
            "https://money.cnn.com/2020/12/13/tech/cyberpunk-2077-nudity-twitch/index.html\n",
            "https://money.cnn.com/2020/12/13/media/streaming-price-disney-netflix/index.html\n",
            "https://money.cnn.com/2020/12/12/business/retailers-restaurants-bankrupt-2020/index.html\n",
            "https://money.cnn.com/2020/12/13/media/se-cupp-fan-fiction-reliable/index.html\n",
            "https://money.cnn.com/2020/12/14/investing/burger-king-india-ipo-shares-intl-hnk/index.html\n",
            "https://money.cnn.com/2020/12/13/tech/silicon-valley-moving-to-austin-miami/index.html\n",
            "https://money.cnn.com/2020/12/14/perspectives/serena-williams-black-women-entrepreneurs-venture-capital/index.html\n",
            "https://money.cnn.com/2020/12/13/tech/apple-most-expensive-products/index.html\n",
            "https://money.cnn.com/2020/12/10/investing/ipos-doordash-airbnb-tech/index.html\n",
            "https://money.cnn.com/2020/12/11/investing/premarket-stocks-trading/index.html\n",
            "https://money.cnn.com/2020/12/09/tech/doordash-ipo/index.html\n",
            "https://money.cnn.com/2020/12/08/investing/hong-kong-ipo-jd-health-intl-hnk/index.html\n",
            "https://money.cnn.com/2020/12/09/business/nba-chris-paul-michele-roberts-adam-silver-risk-takers/index.html\n",
            "https://money.cnn.com/2020/12/09/business/orangetheory-fitness-gym-covid/index.html\n",
            "https://money.cnn.com/2020/12/08/tech/fitness-apple-release-peloton-stock/index.html\n",
            "https://money.cnn.com/2020/08/19/business/crossfit-ceo-eric-roza/index.html\n",
            "https://money.cnn.com/2020/09/17/tech/tonal-at-home-fitness-funding/index.html\n",
            "https://money.cnn.com/videos/business/2020/12/07/diy-decorations-cheap-christmas-holiday-yir-orig-jk-mh.cnnbusiness\n",
            "https://money.cnn.com/travel/news\n",
            "https://cnnespanol.cnn.com/2020/12/14/analisis-el-colegio-electoral-esta-listo-para-sellar-el-destino-de-trump-una-vez-mas/\n",
            "https://cnnespanol.cnn.com/2020/12/13/director-de-los-cdc-acepta-recomendacion-y-la-vacuna-contra-el-covid-19-ya-puede-administrarse-en-ee-uu/\n",
            "https://cnnespanol.cnn.com/2020/12/14/la-lluvia-anual-de-meteoros-de-las-geminidas-alcanza-su-punto-maximo-esta-noche-y-el-lunes-hay-eclipse-total-de-sol/\n",
            "https://edition.cnn.com/audio/podcasts/coronavirus-realidad-vs-ficcion-con-dr-elmer-huerta\n",
            "https://cnnespanol.cnn.com/2020/12/12/analisis-el-mensaje-claro-de-la-corte-suprema-al-presidente-trump-detengase/\n",
            "https://cnnespanol.cnn.com/2020/12/14/que-son-los-electores-infieles-y-por-que-no-importaran-este-ano/\n",
            "https://cnnespanol.cnn.com/2020/12/14/el-despliegue-de-la-vacuna-contra-el-coronavirus-sera-complicado-la-gente-tendra-que-lidiar-con-eso/\n",
            "https://cnnespanol.cnn.com/2020/12/14/si-llego-a-ee-uu-la-primera-vacuna-contra-el-covid-19-pero-esto-es-lo-que-no-debes-hacer/\n",
            "https://cnnespanol.cnn.com/2020/12/14/una-guia-paso-a-paso-de-la-votacion-del-colegio-electoral-de-este-lunes/\n",
            "https://cnnespanol.cnn.com/2020/12/14/arqueologos-descubren-mas-de-100-craneos-en-sitio-azteca-en-ciudad-de-mexico/\n",
            "https://cnnespanol.cnn.com/2020/12/14/estados-unidos-se-prepara-para-aplicar-las-primeras-vacunas-contra-el-covid-19-a-medida-que-el-pais-se-acerca-a-las-300-000-muertes/\n",
            "https://cnnespanol.cnn.com/2020/12/14/sorteo-liga-de-campeones-cuando-es-donde-verlo-los-equipos-involucrados-y-todo-lo-que-debes-saber/\n",
            "https://cnnespanol.cnn.com/video/primera-vacunacion-contra-el-covid-19-en-ee-uu/\n",
            "https://cnnespanol.cnn.com/2020/12/14/vacunacion-contra-el-covid-19-en-espana-iniciaria-el-4-de-enero-estima-el-gobierno/\n",
            "https://cnnespanol.cnn.com/2020/12/14/que-novedades-trae-la-aprobacion-de-la-vacuna-de-pfizer-por-los-cdc/\n",
            "https://cnnespanol.cnn.com/2020/12/14/reportan-caida-de-servicios-gmail-youtube-y-google/\n",
            "https://cnnespanol.cnn.com/video/vacuna-seguridad-efectos-cosas-que-debes-saber-sobre-vacunas-contra-covid-19-pkg-orig-explica-cnn-dinero/\n",
            "https://cnnespanol.cnn.com/video/venezuela-consulta-popular-oposicion-juan-guaido-elecciones-parlamentarias-live-osmary-hernandez-mirador/\n",
            "https://cnnespanol.cnn.com/video/comienza-la-distribucion-de-la-vacuna-de-pfizer-y-biontech-en-estados-unidos/\n",
            "https://cnnespanol.cnn.com/video/peliculas-fin-de-semana-films-mejores-2020-perspectivas-buenos-aires/\n",
            "https://cnnespanol.cnn.com/video/visitas-santa-claus-centros-comerciales-navidad-pandemia-pkg-digital-original/\n",
            "https://cnnespanol.cnn.com/video/virgen-guadalupe-basilica-catolicismo-religion-simbolo-jorge-traslosheros-perspectivas-mexico-cnne/\n",
            "https://cnnespanol.cnn.com/video/eclipse-sol-nasa-sudamerica-fenomeno-astronomia-tierra-perspectivas-mexico-cnne-universo-ultimo-ano-cnne/\n",
            "https://cnnespanol.cnn.com/video/airbnb-brian-chesky-acciones-precio-bolsa-pkg-digital-original/\n",
            "https://cnnespanol.cnn.com/video/coronavirus-nevada-reno-unidad-cuidados-intensivos-estacinamiento-pkg-sara-sidner-cafe-cnne/\n",
            "https://cnnespanol.cnn.com/cnne-underscored/2020/12/13/consigue-buena-senal-wi-fi-en-toda-la-casa-con-esta-oferta-en-eero/?iid=cnneunderscoredDTHP\n",
            "https://cnnespanol.cnn.com/cnne-underscored/2020/12/11/las-ofertas-que-no-debes-perderte-hoy-ring-braun-bose-y-mas/?iid=cnneunderscoredDTHP\n",
            "https://cnnespanol.cnn.com/cnne-underscored/2020/12/10/un-cargador-pequeno-pero-muy-potente/?iid=cnneunderscoredDTHP\n",
            "https://cnnespanol.cnn.com/cnne-underscored/2020/12/09/sonos-one-sl-una-bocina-inteligente-que-tambien-es-segura-y-por-us-140/?iid=cnneunderscoredDTHP\n",
            "https://cnnespanol.cnn.com/2020/12/14/algunos-estadounidenses-comenzaran-a-recibir-la-primera-vacuna-contra-el-covid-19-pero-pasaran-meses-antes-de-que-la-gente-comun-la-obtenga/\n",
            "https://cnnespanol.cnn.com/video/vacuna-covid-19-coronavirus-estados-unidos-pfizer-biontech-primeros-dosis-cnn-primera/\n",
            "https://cnnespanol.cnn.com/2020/12/14/personal-de-la-casa-blanca-recibira-la-vacuna-contra-el-covid-19-antes-que-el-publico-en-general/\n",
            "https://cnnespanol.cnn.com/2020/12/14/varias-personas-apunaladas-y-33-arrestadas-en-medio-de-protestas-postelectorales-en-washington/\n",
            "https://cnnespanol.cnn.com/video/estados-unidos-cdc-director-robert-redfield-vacuna-covid-19-coronavirus-pfizer-biontech-autorizacion-uso-emergencia-gustavo-valdes-rafael-romo-mirador-mundial-cnne/\n",
            "https://cnnespanol.cnn.com/video/coronavirus-aumento-muertes-vacuna-covid19-pandemia-live-rafael-romo-joseph-varon-mirador/\n",
            "https://cnnespanol.cnn.com/2020/12/13/ee-uu-espera-empezar-a-vacunar-este-lunes-luego-de-que-los-cdc-aprobaran-la-vacuna-de-pfizer-y-biontech/\n",
            "https://cnnespanol.cnn.com/video/graban-hombre-subido-ala-avion-las-vegas-pkg-digital-original/\n",
            "https://cnnespanol.cnn.com/2020/12/13/detienen-a-un-hombre-despues-de-que-se-subio-al-ala-de-un-avion-que-estaba-por-despegar/\n",
            "https://cnnespanol.cnn.com/2020/12/13/comisionado-de-la-fda-confia-en-que-habra-dosis-de-la-vacuna-para-20-millones-de-estadounidenses-antes-de-fin-de-ano/\n",
            "https://cnnespanol.cnn.com/2020/12/13/vacunas-de-pfizer-ya-van-en-camino-a-los-50-estados/\n",
            "https://cnnespanol.cnn.com/2020/12/12/muere-charley-pride-leyenda-de-la-musica-country-a-los-86-anos-por-complicaciones-de-covid-19/\n",
            "https://cnnespanol.cnn.com/video/guaido-califica-de-tragedia-la-muerte-de-venezolanos/\n",
            "https://cnnespanol.cnn.com/video/escrutinio-consulta-popular-venezuela-juan-guaido-nicolas-maduro-oposicion-cnn-primera/\n",
            "https://cnnespanol.cnn.com/video/eclipse-total-de-sol-argentina-piedra-del-aguila-con-primera-manana/\n",
            "https://cnnespanol.cnn.com/2020/12/13/mueren-al-menos-14-venezolanos-que-habrian-intentado-llegar-a-trinidad-y-tobago/\n",
            "https://cnnespanol.cnn.com/video/mexico-personal-medico-vacuna-covid19-coronavirus-pandemia-pkg-belen-zapata/\n",
            "https://cnnespanol.cnn.com/video/venezuela-pandemia-covid19-coronavirus-extrema-pobreza-hambre-pkg-isa-soares-mirador/\n",
            "https://cnnespanol.cnn.com/video/ecuador-abuso-sexual-paola-guzman-disculpa-publica-gobierno-18-anos-lenin-moreno-pkg-ana-maria-canizares-mirador/\n",
            "https://cnnespanol.cnn.com/2020/12/13/panama-anuncia-suspension-de-vuelos-desde-venezuela/\n",
            "https://cnnespanol.cnn.com/2020/12/13/presidente-arce-viaja-a-brasil-para-revision-medica-y-realiza-primera-transmision-de-mando-al-vicepresidente/\n",
            "https://cnnespanol.cnn.com/2020/12/13/gobierno-de-puerto-rico-espera-unas-205-000-dosis-de-la-vacuna-contra-el-covid-19-en-los-proximos-dias/\n",
            "https://cnnespanol.cnn.com/2020/12/14/las-5-cosas-que-debes-saber-este-14-de-diciembre-hoy-es-la-votacion-oficial-del-colegio-electoral/\n",
            "https://cnnespanol.cnn.com/2020/12/14/estados-unidos-remueve-a-sudan-de-la-lista-de-estados-patrocinadores-del-terrorismo/\n",
            "https://cnnespanol.cnn.com/video/panama-aeronautica-civil-cancelacion-vuelos-venezuela-rafael-romo-mirador-mundial-cnne/\n",
            "https://cnnespanol.cnn.com/video/donald-trump-presidente-estados-unidos-merito-vacuna-covid-19-coronavirus-entrevista-fox-news-resultado-elecciones-presidenciales-joe-biden-rafael-romo-mirador-mundial-cnne/\n",
            "https://cnnespanol.cnn.com/2020/12/13/alemania-entrara-en-bloqueo-nacional-durante-navidad-para-detener-el-aumento-de-casos-de-covid-19/\n",
            "https://cnnespanol.cnn.com/2020/12/13/el-reino-unido-y-la-ue-acuerdan-seguir-negociaciones-pero-advierten-que-es-probable-un-brexit-sin-acuerdo/\n",
            "https://cnnespanol.cnn.com/video/peru-suspension-vacuna-covid-19-coronavirus-pandemia-sinopharm-ministerio-de-salud-seguridad-rafael-romo-mirador-mundial-cnne/\n",
            "https://cnnespanol.cnn.com/video/oposicion-venezuela-consulta-popular-juan-guaido-asamblea-nacional-elecciones-parlamentarias-nicolas-maduro-osmary-hernandez-rafael-romo-mirador-mundial-cnne/\n",
            "https://cnnespanol.cnn.com/video/vacuna-pfizer-biontech-aprobacion-final-cdc-centros-control-prevencion-enfermedades-robert-redfield-michael-roa-romo-rafael-mirador-mundial-cnne/\n",
            "https://cnnespanol.cnn.com/video/comunidad-lgbtq-peliculas-navidad-2020-pkg-digital-original/\n",
            "https://cnnespanol.cnn.com/video/wisin-muerte-hija-familia-dios-artista-regueton-camilo-cnne/\n",
            "https://cnnespanol.cnn.com/video/wisin-regueton-sexismo-machismo-no-denigrar-mi-nina-camilo-cnne/\n",
            "https://cnnespanol.cnn.com/video/wisin-regueton-musica-pablo-milanes-camilo-cnne/\n",
            "https://cnnespanol.cnn.com/video/disney-plus-nuevas-series-peliculas-disney-star-wars-obi-wan-marvel-pixar-pkg-cnn-dinero/\n",
            "https://cnnespanol.cnn.com/video/taylor-swift-evermore-nuevo-album-folklore-productividad-pkg-cnn-dinero/\n",
            "https://cnnespanol.cnn.com/video/disney-plus-aumenta-precio-suscriptores-millones-pkg-cnn-dinero/\n",
            "https://cnnespanol.cnn.com/video/desempleo-solicitudes-subsidio-eeuu-nivel-mas-alto-pkg-cnn-dinero/\n",
            "https://cnnespanol.cnn.com/2020/12/14/el-equipo-de-beisbol-de-cleveland-en-las-grandes-ligas-eliminara-indians-de-su-nombre/\n",
            "https://cnnespanol.cnn.com/2020/12/14/leon-vence-a-pumas-y-es-campeon-del-futbol-mexicano/\n",
            "https://cnnespanol.cnn.com/video/cristiano-ronaldo-juventus-goles-100-partidos-record-pele-romario-cr7-serie-a-italia-futbol-deportes-cnn-pkg/\n",
            "https://cnnespanol.cnn.com/video/formula-1-f1-automovilismo-hamilton-verstappen-checo-perez-gp-abu-dhabi-temporada-2020-deportes-cnn-pkg/\n",
            "https://cnnespanol.cnn.com/video/michael-phelps-critica-antidopaje-juegos-olimpicos-nadador-oro-tokio-2021-deportes-cnn-nat-pkg/\n",
            "https://cnnespanol.cnn.com/video/alejandro-sabella-fallecio-lionel-messi-futbol-argentino-tributos-homenajes-deporte-cnn-pkg/\n",
            "https://cnnespanol.cnn.com/video/real-madrid-atletico-de-madrid-laliga-futbol-espana-deportes-cnn-pkg/\n",
            "https://cnnespanol.cnn.com/video/pumas-unam-leon-liga-mx-guardianes-2020-futbol-mexico-deportes-cnn-pkg/\n",
            "https://cnnespanol.cnn.com/video/marcelo-bielsa-jurgen-klopp-hansi-flick-the-best-entrenador-liverpool-bayern-fifa-leeds-entrenador-futbol-deportes-cnn-pkg/\n",
            "https://cnnespanol.cnn.com/video/gabriel-chaillou-nadador-argentina-fina-salon-de-la-fama-triunfadores-cnn-pkg/\n",
            "https://cnnespanol.cnn.com/2020/12/14/lo-que-sabemos-de-la-vacuna-de-covid-19-de-pfizer-tras-avances-para-estar-disponible-incluido-quienes-la-recibirian-primero/\n",
            "https://cnnespanol.cnn.com/2020/12/12/asesores-de-vacunas-de-los-cdc-votan-para-recomendar-la-vacuna-de-pfizer-y-biontech/\n",
            "https://cnnespanol.cnn.com/2020/12/11/aun-despues-de-una-vacuna-contra-el-covid-19-deberas-usar-mascara-advierte-experto-en-enfermedades-infecciosas/\n",
            "https://cnnespanol.cnn.com/2020/12/11/leopardo-de-las-nieves-da-positivo-por-covid-19-es-la-sexta-especie-animal-confirmada-que-se-infecta/\n",
            "https://cnnespanol.cnn.com/2020/12/14/mujer-muere-al-intentar-tomar-una-foto-al-borde-de-un-acantilado-de-80-metros/\n",
            "https://cnnespanol.cnn.com/video/volaris-covid19-pandemia-medidas-vuelos-aerolineas-entrevista-gabriela-frias-enrique-beltranena-redaccion-mexico/\n",
            "https://cnnespanol.cnn.com/video/verbier-suiza-turismo-alpes-italia-francia-austria-alemania-covid-19-nuestro-mundo-cnne/\n",
            "https://cnnespanol.cnn.com/video/pueblos-pequenos-italia-descanso-turismo-covid-ana-maria-luengo-romero-nuestro-mundo-cnne/\n",
            "https://cnnespanol.cnn.com/gallery/fotos-macarrones-uno-de-los-grandes-placeres-gourmet/\n",
            "https://cnnespanol.cnn.com/2020/12/08/opinion-tentaciones-deliciosas-puedes-decir-no-a-un-macarron/\n",
            "https://cnnespanol.cnn.com/2020/11/13/opinion-el-poderoso-traje-pantalon-blanco-de-kamala-cuando-nuestra-imagen-habla-por-nosotras/\n",
            "https://cnnespanol.cnn.com/2020/11/09/el-traje-blanco-con-el-que-kamala-harris-dio-el-discurso-de-victoria-dice-mucho/\n",
            "https://cnnespanol.cnn.com/2020/12/14/opinion-cuando-viajo-busco-caminar-sobre-la-historia/\n",
            "https://cnnespanol.cnn.com/2020/12/11/opinion-trump-es-la-expresion-de-los-nuevos-tiempos-que-llegaron-para-quedarse-en-la-politica/\n",
            "https://cnnespanol.cnn.com/2020/12/10/opinion-ninasnoesposas-hay-que-poner-fin-al-matrimonio-infantil-en-republica-dominicana/\n",
            "https://cnnespanol.cnn.com/2020/12/10/opinion-en-contra-del-aborto-ninguno-de-nosotros-es-material-de-descarte/\n",
            "https://cnnespanol.cnn.com/2020/12/10/opinion-a-favor-del-aborto-es-un-derecho-humano-fundamental-decidir-sobre-nuestro-propio-cuerpo/\n",
            "https://cnnespanol.cnn.com/2020/12/08/opinion-una-lupa-sobre-las-elecciones-en-venezuela/\n",
            "https://cnnespanol.cnn.com/2020/12/04/opinion-biden-cometeria-un-error-si-regresa-al-acuerdo-nuclear-con-iran/\n",
            "https://cnnespanol.cnn.com/2020/12/03/opinion-el-brilla-brilla-esta-de-moda-y-que-buena-noticia/\n",
            "https://cnnespanol.cnn.com/2020/12/03/opinion-tomas-sanchez-un-pintor-del-tropico-mas-mistico-y-bello/\n",
            "https://cnnespanol.cnn.com/2020/12/02/opinion-maradona-es-pueblo/\n",
            "https://cnnespanol.cnn.com/gallery/fotos-asi-se-aplicaron-en-gran-bretana-las-primeras-vacunas-de-pfizer-contra-el-covid-19/\n",
            "https://cnnespanol.cnn.com/gallery/fotos-el-piloto-mexicano-sergio-perez-gana-el-gran-premio-de-sakhir/\n",
            "https://cnnespanol.cnn.com/gallery/famosos-muertos-2020/\n",
            "https://cnnespanol.cnn.com/gallery/fotos-estos-inventos-de-ciencia-ficcion-se-hicieron-realidad/\n",
            "https://cnnespanol.cnn.com/video/emilo-estafan-premio-produ-2020-yo-no-soy-diferente-sot/\n",
            "https://cnnespanol.cnn.com/video/musica-premio-inclusion-emilio-estefan-serhumano-jennifer-montoya-cafe-cnn/\n",
            "https://cnnespanol.cnn.com/video/yo-no-soy-diferente-proyecto-ser-humano-gian-marco-emilio-estefan-cnnee-showbiz-vo/\n",
            "https://cnnespanol.cnn.com/2020/11/13/lewis-hamilton-siente-mas-orgullo-de-su-lucha-por-justicia-social-que-por-una-nueva-marca-en-la-formula-1/\n",
            "https://cnnespanol.cnn.com/2020/08/21/presidente-de-los-raptors-agente-me-empujo-por-ser-negro/\n",
            "https://cnnespanol.cnn.com/video/nba-raptors-masai-ujiri-altercado0-alguacil-video-deportes-cnnee/\n",
            "https://cnnespanol.cnn.com/video/george-floyd-no-puedo-respirar-alitas-pollo-polemica-proyecto-ser-humano-pkg-jose-manuel-rodriguez/\n",
            "https://cnnespanol.cnn.com/2020/06/26/la-afrolatinidad-en-la-musica-y-la-superacion-de-los-estereotipos/\n",
            "https://cnnespanol.cnn.com/video/corte-suprema-fallo-en-favor-de-trabajadores-gay-lgbtqi-vo-portafolio-global-cnnee/\n",
            "https://cnnespanol.cnn.com/video/argentina-futbol-discriminacion-comunidad-judia-actos-agraviantes-deportes-cnn-pkg/\n",
            "http://cnn.com/2020/12/13/health/covid-19-vaccines-can-begin-cdc-recommendation/index.html\n",
            "http://cnn.com/2020/12/12/health/cdc-vaccine-committee-pfizer-vaccine-vote/index.html\n",
            "http://cnn.com/2020/12/12/health/covid-vaccine-fda-cut-corners/index.html\n",
            "http://cnn.com/2020/12/11/health/covid-vaccine-fda-eua/index.html\n",
            "http://cnn.com/2020/12/11/health/pfizer-vaccine-what-we-know/index.html\n",
            "http://cnn.com/2020/12/09/health/covid-vaccine-allergies-health-workers-uk-intl-gbr/index.html\n",
            "https://www.fool.com/mms/mark/e-sa-5-stocks-under-50-henry?utm_source=cnn&utm_medium=contentmarketing&utm_campaign=5stocksunder50-henry-july2020&paid=9394&waid=9394&aid=9394&psource=esaccnwdg0210094&source=esaccnwdg0210094&wsource=esaccnwdg0210094\n",
            "http://cnn.com/2020/08/18/middleeast/rafik-hariri-verdict-killing-lebanon-intl/index.html\n",
            "http://arabic.cnn.com/health/video/2020/12/14/v99063-albert-bourla-pfizer-ceo-vaccine-rollout-covid\n",
            "http://arabic.cnn.com/middle-east/article/2020/12/14/saudi-arabia-announces-ship-attacked\n",
            "http://arabic.cnn.com/business/article/2020/12/14/google-massive-outage-youtube-gmail\n",
            "http://arabic.cnn.com/middle-east/article/2020/12/14/us-removes-sudan-state-sponsors-terrorism-list\n",
            "http://arabic.cnn.com/travel/article/2020/12/14/tawi-ateer-sinkhole-oman\n",
            "http://arabic.cnn.com/travel/article/2020/12/14/north-atlantic-right-whale-newborns-scn-trnd\n",
            "http://arabic.cnn.com/health/video/2020/12/14/v99059-3-ways-improve-communication-masks\n",
            "http://arabic.cnn.com/travel/article/2020/12/14/australia-selfie-woman-death-intl-hnk-scli\n",
            "http://arabic.cnn.com/travel/article/2020/12/14/new-zealand-australia-cook-islands-travel-bubble-intl-hnk\n",
            "http://arabic.cnn.com/style/article/2020/12/14/lockdown-garden-archaeology-trnd\n",
            "http://arabic.cnn.com/health/video/2020/12/14/v99055-team-halo-project-coronavirus-vaccine\n",
            "http://arabic.cnn.com/middle-east/article/2020/12/14/egypt-bridge-building-amr-adeeb\n",
            "http://arabic.cnn.com/business/video/2020/12/14/v99069-hubble-telescope-images-released-nasa-30-years\n",
            "http://arabic.cnn.com/middle-east/article/2020/12/14/kuwait-new-government\n",
            "http://arabic.cnn.com/world/video/2020/12/13/v99010-man-climbs-wing-plane-takeoff\n",
            "http://arabic.cnn.com/business/article/2020/12/14/emirates-fly-dubai-resume-turkey-flights\n",
            "http://arabic.cnn.com/business/video/2020/12/14/v99057-tech-seconds-satellites\n",
            "http://arabic.cnn.com/travel/article/2020/12/11/china-civil-aviation-administration-coronavirus-guidance-intl-hnk\n",
            "http://arabic.cnn.com/travel/article/2020/12/12/underwater-traffic-circle-faroe-islands\n",
            "http://arabic.cnn.com/travel/article/2020/12/09/el-camaleon-golf-course-mexico\n",
            "http://arabic.cnn.com/sport/article/2020/12/13/saudi-arabia-hands-over-a-bid-host-2027-afc-asian-cup-finals\n",
            "http://arabic.cnn.com/sport/video/2020/12/13/v98996-michael-phelps-olympics-2021-tokyo-doping\n",
            "http://arabic.cnn.com/sport/article/2020/12/13/mido-attacks-mansour-son\n",
            "http://arabic.cnn.com/sport/video/2020/12/14/v99030-richard-colon-crazy-legs-breakdancing-olympics-2024\n",
            "http://arabic.cnn.com/world/video/2020/12/13/v99006-probe-controversial-bbc-interview-princess-diana\n",
            "http://arabic.cnn.com/entertainment/video/2020/12/10/v98871-new-whale-species-discovered\n",
            "http://arabic.cnn.com/sport/video/2020/12/09/v98841-mavericks-surfing-california-waves-jr-orig\n",
            "http://arabic.cnn.com/style/video/2020/12/09/v98833-china-giant-snow-art\n",
            "http://cnn.com/2020/12/14/entertainment/cma-charley-pride-covid/index.html\n",
            "http://cnn.com/2020/12/14/entertainment/national-film-registry-trnd/index.html\n",
            "http://cnn.com/2020/12/13/entertainment/blue-ivy-grammy-nomination-trnd/index.html\n",
            "http://cnn.com/2020/12/13/entertainment/ashanti-keyshia-cole-verzuz-canceled-trnd/index.html\n",
            "http://cnn.com/2020/12/11/entertainment/taylor-swift-evermore-reaction-scli-intl/index.html\n",
            "http://cnn.com/2020/12/10/entertainment/trans-celebs-elliot-page-diversity-plc/index.html\n",
            "http://cnn.com/2020/12/11/entertainment/pose-indya-moore-trans-santa-trnd/index.html\n",
            "http://cnn.com/2020/12/11/entertainment/dolly-parton-saves-costar-trnd/index.html\n",
            "http://cnn.com/2020/12/11/entertainment/chris-evans-buzz-lightyear-trnd/index.html\n",
            "http://cnn.com/2020/12/11/entertainment/lin-manuel-miranda-encanto-music/index.html\n",
            "http://cnn.com/2020/12/10/entertainment/black-panther-chadwick-boseman/index.html\n",
            "http://cnn.com/2020/12/11/entertainment/indiana-jones-scli-intl/index.html\n",
            "http://cnn.com/2020/12/11/entertainment/the-stand-in-review/index.html\n",
            "http://cnn.com/2020/12/11/entertainment/bee-gees-documentary-review/index.html\n",
            "http://cnn.com/2020/12/10/entertainment/loki-disney-marvel/index.html\n",
            "http://cnn.com/2020/12/11/entertainment/britney-spears-matches-backstreet-boys-song/index.html\n",
            "http://cnn.com/2020/12/10/entertainment/star-wars-live-action-shows/index.html\n",
            "http://cnn.com/2020/12/11/entertainment/sister-act-3-announced-scli-intl/index.html\n",
            "http://cnn.com/2020/12/10/entertainment/kardashians-hulu/index.html\n",
            "http://cnn.com/2020/12/10/entertainment/the-prom-review/index.html\n",
            "http://cnn.com/2020/12/11/entertainment/thomas-lister-jr-death-trnd/index.html\n",
            "http://cnn.com/2020/12/10/entertainment/ratatouille-tiktok-musical-broadway-benefit-trnd/index.html\n",
            "http://cnn.com/2020/12/10/entertainment/ellen-degeneres-covid/index.html\n",
            "http://cnn.com/2020/12/10/entertainment/carrie-ann-inaba/index.html\n",
            "http://cnn.com/2020/12/11/entertainment/safety-review/index.html\n",
            "http://cnn.com/2020/11/30/entertainment/gallery/new-december-streaming-2020/index.html\n",
            "http://cnn.com/2020/12/10/entertainment/let-them-all-talk-review/index.html\n",
            "http://cnn.com/2020/11/19/entertainment/between-the-world-and-me-review/index.html\n",
            "http://cnn.com/2020/11/25/entertainment/the-flight-attendant-review/index.html\n",
            "http://cnn.com/2020/11/20/entertainment/ma-raineys-black-botton-review/index.html\n",
            "http://cnn.com/2020/12/03/entertainment/the-godfather-coda/index.html\n",
            "http://edition.cnn.com/business/media\n",
            "http://edition.cnn.com/travel/news\n",
            "http://cnn.com/TRANSCRIPTS/2020.12.05.html\n",
            "http://cnn.com/TRANSCRIPTS/2020.12.06.html\n",
            "http://cnn.com/TRANSCRIPTS/2020.12.07.html\n",
            "http://cnn.com/TRANSCRIPTS/2020.12.08.html\n",
            "http://cnn.com/TRANSCRIPTS/2020.12.09.html\n",
            "http://cnn.com/TRANSCRIPTS/2020.12.10.html\n",
            "http://cnn.com/TRANSCRIPTS/2020.12.11.html\n",
            "http://cnn.com/TRANSCRIPTS/2020.12.12.html\n",
            "http://cnn.com/TRANSCRIPTS/2020.12.13.html\n",
            "http://cnn.com/TRANSCRIPTS/2020.12.14.html\n",
            "http://cnn.com/2017/03/04/vr/how-to-watch-vr\n",
            "http://cnn.com/2019/07/17/vr/apollo-moon-vr/index.html\n",
            "http://cnn.com/2019/06/24/vr/chernobyl-tourism-vr/index.html\n",
            "http://cnn.com/2019/06/06/vr/d-day-75th-anniversary-vr/index.html\n",
            "http://cnn.com/2019/05/29/vr/disney-star-wars-land-vr/index.html\n",
            "http://cnn.com/2019/01/15/vr/skiing-soelden-vr/index.html\n",
            "http://cnn.com/2018/11/09/vr/wwi-anniversary-planes-vr/index.html\n",
            "http://cnn.com/2018/11/01/vr/hogwarts-express-steam-train-vr/index.html\n",
            "http://cnn.com/2018/09/04/vr/redwoods-dna-vr/index.html\n",
            "http://cnn.com/2020/12/11/asia/whanganui-river-new-zealand-intl-hnk-dst/index.html\n",
            "http://cnn.com/2019/08/26/health/intermittent-fasting-jared-sklar-wellness-live-longer/index.html\n",
            "http://cnn.com/2019/08/09/health/plant-based-diet-heart-disease-study/index.html\n",
            "http://cnn.com/2019/02/01/health/boxing-grannies-live-longer/index.html\n",
            "http://cnn.com/travel/article/hanoi-food-best-dishes/index.html\n",
            "http://cnn.com/travel/article/hanoi-ta-hien-street/index.html\n",
            "http://cnn.com/travel/article/hanoi-boutique-hotels/index.html\n",
            "http://cnn.com/travel/article/japan-top-experiences/index.html\n",
            "http://cnn.com/travel/article/wakayama-rafting/index.html\n",
            "http://cnn.com/travel/article/top-travel-experiences-tohoku-japan/index.html\n",
            "http://www.cnn.com/style/article/bamboo-scaffolding-artisans-macao/index.html\n",
            "http://cnn.com/style/article/artisans-macao-typography-signs/index.html\n",
            "http://cnn.com/travel/article/egg-tarts-margarets-cafe-e-nata-macao/index.html\n",
            "http://cnn.com/style/article/bamboo-scaffolding-artisans-macao/index.html\n",
            "http://cnn.com/style/article/shipbuilding-macao-artisans/index.html\n",
            "http://cnn.com/travel/article/tokyo-2020-olympics-rugby-world-cup-tourists/index.html\n",
            "http://cnn.com/travel/article/shibuya-crossing-tokyo-japan/index.html\n",
            "http://cnn.com/travel/article/hoshinoya-tokyo-luxury-ryokan/index.html\n",
            "http://cnn.com/travel/article/crazy-house-dalat-vietnam/index.html\n",
            "http://cnn.com/travel/article/hoi-an-vietnam/index.html\n",
            "http://cnn.com/travel/article/vietnam-most-beautiful-places/index.html\n",
            "http://cnn.it/business/media\n",
            "http://cnn.it/travel/news\n",
            "http://cnn.com/travel/article/new-zealand-australia-cook-islands-travel-bubble-intl-hnk/index.html\n",
            "http://cnn.com/2020/12/09/business/africa-coal-energy-goldman-prize-dst-hnk-intl/index.html\n",
            "http://cnn.com/style/article/new-nigeria-studios-end-sars-protest-photo-exhibit/index.html\n",
            "http://cnn.com/2020/12/08/africa/ethiopia-tigray-refugees-sudan-border-intl/index.html\n",
            "http://cnn.com/2020/11/22/africa/witness-massacre-refugees-ethiopia-intl/index.html\n",
            "http://cnn.com/2020/11/23/africa/ugandan-protest-death-toll-intl/index.html\n",
            "http://cnn.com/2020/11/18/africa/ethiopia-federal-troops-tigray-capital-intl/index.html\n",
            "http://cnn.com/2020/11/20/africa/hyenas-kill-man-scli-intl/index.html\n",
            "http://cnn.com/2020/11/19/africa/ethiopia-tigray-bombing-intl/index.html\n",
            "http://cnn.com/2020/11/22/world/ethiopia-tigray-72-hour-deadline-intl/index.html\n",
            "http://cnn.com/2020/11/19/africa/death-toll-uganda-bobi-wine-intl/index.html\n",
            "http://cnn.com/2020/11/18/africa/bobi-wine-arrest-nov-18-intl/index.html\n",
            "http://cnn.com/2020/11/23/football/anele-ngcongca-football-spt-intl/index.html\n",
            "http://cnn.com/2020/11/17/africa/white-giraffe-kenya-tracking-intl-scli/index.html\n",
            "http://cnn.com/2020/11/17/africa/un-humanitarian-crisis-ethiopia-intl/index.html\n",
            "http://cnn.com/2020/11/16/africa/ethiopia-seized-town-tigray-embroils-eritrea-intl/index.html\n",
            "http://cnn.com/2020/11/15/africa/eritrea-tigray-bombing-intl/index.html\n",
            "http://cnn.com/2020/11/14/africa/ethiopia-airport-tigray-intl/index.html\n",
            "http://cnn.com/2020/11/13/africa/african-union-chief-sacks-security-head-ethiopia-intl/index.html\n",
            "http://cnn.com/2020/11/13/football/mo-salah-tests-positive-covid-19-egypt-spt-intl/index.html\n",
            "https://cnn.com/interactive/2020/04/sport/liverpoolpremierleaguetitle/\n",
            "https://cnn.com/2019/08/19/football/mo-salah-amr-warda-egypt-spt-intl/index.html\n",
            "http://cnn.com/2020/10/30/africa/africa-second-covid-wave-intl/index.html\n",
            "http://cnn.com/2020/10/23/africa/ethiopia-mask-jail-intl/index.html\n",
            "http://cnn.com/2020/10/03/africa/nigeria-cheaper-covid-19-test-kits-intl/index.html\n",
            "http://cnn.com/2020/10/10/africa/mental-health-religious-treatment-nigeria/index.html\n",
            "http://cnn.com/2020/10/08/business/wto-director-general-trade/index.html\n",
            "http://cnn.com/2020/09/29/africa/blasphemy-trial-nigeria/index.html\n",
            "http://cnn.com/2020/09/16/africa/blasphemy-nigeria-boy-sentenced-intl/index.html\n",
            "http://cnn.com/travel/article/marketplace-africa-maasai-mara-safari-pivot-spc-intl/index.html\n",
            "http://cnn.com/2020/09/07/africa/africa-engineering-prize-intl/index.html\n",
            "http://cnn.com/2020/09/25/africa/hauwa-ojeifo-mental-health-nigeria/index.html\n",
            "http://cnn.com/2020/07/12/us/ray-hushpuppi-alleged-money-laundering-trnd/index.html\n",
            "http://cnn.com/2020/08/26/africa/gambia-migration-intl/index.html\n",
            "http://cnn.com/style/article/bubu-ogisi-iamisigo-wcs/index.html\n",
            "http://cnn.com/style/article/saqqara-sarcophagi-egypt/index.html\n",
            "http://cnn.com/travel/article/my-octopus-teacher-craig-foster/index.html\n",
            "http://cnn.com/travel/article/akon-city-senegal-wakanda-intl/index.html\n",
            "http://cnn.com/2020/07/20/africa/nigeria-fashion-tiffany-amber-coronavirus-ppe-spc-intl/index.html\n",
            "http://cnn.com/style/article/shingai-new-album-too-bold/index.html\n",
            "http://cnn.com/style/article/congo-style-sapeurs-sapeuses-africa-avant-garde/index.html\n",
            "http://cnn.com/travel/article/kenya-things-to-do/index.html\n",
            "http://cnn.com/travel/article/rare-elephant-pictures-kenya/index.html\n",
            "http://cnn.com/travel/article/kenyan-food-dishes/index.html\n",
            "http://cnn.com/2019/08/26/business/mami-wata-surfing-intl/index.html\n",
            "http://cnn.com/2019/07/25/business/gourmet-grubb-insect-ice-cream-intl/index.html\n",
            "http://cnn.com/videos/business/2019/05/31/bos-iced-tea-itm-south-africa-lon-orig.cnn-business\n",
            "http://cnn.com/style/article/tracey-emin-interview/index.html\n",
            "http://cnn.com/style/article/lego-military-sets-intl-hnk-dst/index.html\n",
            "http://cnn.com/style/article/mank-movie-costume-design/index.html\n",
            "http://cnn.com/style/article/ethical-holiday-gift-guide-2020/index.html\n",
            "http://cnn.com/style/article/2020-biggest-beauty-trends/index.html\n",
            "http://cnn.com/style/article/pantone-color-of-the-year-2021/index.html\n",
            "http://cnn.com/style/article/brutish-museums-benin-bronzes/index.html\n",
            "http://cnn.com/style/article/saint-basils-cathedral-history-test-of-time/index.html\n",
            "http://cnn.com/style/article/accidentally-wes-anderson-wally-koval/index.html\n",
            "http://cnn.com/style/article/luke-gilford-photography-queer-rodeo/index.html\n",
            "http://cnn.com/style/article/min-hyunwoo-summer-photography/index.html\n",
            "http://cnn.com/style/article/antwaun-sargent-just-pictures/index.html\n",
            "http://cnn.com/style/article/pantheon-history-test-of-time/index.html\n",
            "http://cnn.com/style/article/moschino-milan-fashion-week-puppets-spring-summer-2021/index.html\n",
            "http://cnn.com/style/article/tia-adeola-fashion-designer-wcs/index.html\n",
            "http://cnn.com/style/article/beirut-explosion-cultural-impact/index.html\n",
            "http://cnn.com/style/article/remember-when-dolly-parton/index.html\n",
            "http://cnn.com/style/article/red-lipstick-history-beauty/index.html\n",
            "http://cnn.com/style/article/how-salvador-dal-has-influenced-your-wardrobe/index.html\n",
            "http://cnn.com/style/article/antimicrobial-fashion-coronavirus/index.html\n",
            "http://cnn.com/style/article/laxmii-bollywood-film-transgender/index.html\n",
            "http://cnn.com/style/article/moko-facial-tattoo-nanaia-mahuta/index.html\n",
            "http://cnn.com/style/article/dyeing-pollution-fashion-intl-hnk-dst-sept/index.html\n",
            "http://cnn.com/style/article/the-weaponization-of-a-first-ladys-image/index.html\n",
            "http://cnn.com/style/article/jonathan-anderson-fashion/index.html\n",
            "http://cnn.com/style/article/vegan-leather-alternatives-fungi-biofabric-scn/index.html\n",
            "http://cnn.com/style/article/hohenzollern-prince-georg-prussia/index.html\n",
            "http://cnn.com/style/article/fox-eye-trend-asian-cultural-appropriation-trnd/index.html\n",
            "http://cnn.com/style/article/china-three-gorges-dam-intl-hnk-dst/index.html\n",
            "http://cnn.com/style/article/hong-kong-protests-political-art-intl-hnk/index.html\n",
            "http://cnn.com/style/article/yulia-tsvetkova-pornography-gay-propaganda-law-lgbtq-activism-russia/index.html\n",
            "http://cnn.com/style/article/kalki-subramaniam-opinion/index.html\n",
            "http://cnn.com/style/article/north-korea-song-dance/index.html\n",
            "http://cnn.com/style/article/natural-history-museum-whitewashing-monuments-statues-trnd/index.html\n",
            "http://cnn.com/style/article/hong-kong-tunnels-climate-crisis-intl-hnk-dst/index.html\n",
            "http://cnn.com/style/article/cities-design-coronavirus/index.html\n",
            "http://cnn.com/style/article/lgbtq-lavender-symbolism-pride/index.html\n",
            "http://cnn.com/style/article/india-bollywood-brownface-hnk-intl/index.html\n",
            "http://cnn.com/style/article/hair-dye-evolution/index.html\n",
            "http://cnn.com/style/article/why-women-feel-pressured-to-shave/index.html\n",
            "http://cnn.com/style/article/china-masculinity-intl-hnk/index.html\n",
            "http://cnn.com/style/article/anticipated-buildings-2020/index.html\n",
            "http://cnn.com/style/article/seoul-drag-queens/index.html\n",
            "http://cnn.com/style/article/menswear-uniforms-fashion/index.html\n",
            "http://cnn.com/style/article/brazil-fashion-diversity/index.html\n",
            "http://cnn.com/style/article/north-korea-luxury-vehicles-intl-hnk/index.html\n",
            "http://cnn.com/style/article/ryugyong-hotel-architecture-origins/index.html\n",
            "http://cnn.com/style/article/alex-rotter-christies-auction/index.html\n",
            "http://cnn.com/style/article/fashion-gaffes-industry-diversity-problem/index.html\n",
            "http://cnn.com/style/article/malaysia-1mdb-najib-zunar-fahmi-reza-intl/index.html\n",
            "http://cnn.com/style/article/lingerie-designers-inclusivity/index.html\n",
            "http://cnn.com/style/article/india-election-party-symbols/index.html\n",
            "http://cnn.com/style/article/ruth-bader-ginsburg-collars/index.html\n",
            "http://cnn.com/style/article/serpentine-pavilion-beijing-jiakun-architects/index.html\n",
            "http://cnn.com/style/article/north-korea-art-dealer-pier-luigi-cecioni/index.html\n",
            "http://cnn.com/style/article/david-hockney-at-80-interview-los-angeles/index.html\n",
            "http://cnn.com/style/article/shenzhen-effect-china-model-city-intl-hnk/index.html\n",
            "http://cnn.com/style/article/shakespeare-first-folio-auction/index.html\n",
            "http://cnn.com/style/article/tiananmen-square-massacre-graphic-novel-comics-journalism-intl-hnk/index.html\n",
            "http://cnn.com/style/article/senegal-roger-dasilva/index.html\n",
            "http://cnn.com/style/article/tetris-video-game-history/index.html\n",
            "http://cnn.com/style/article/jackie-kennedy-inauguration-pillbox-hat-remember-when/index.html\n",
            "http://cnn.com/style/article/ancient-egypt-beauty-ritual-artsy/index.html\n",
            "http://cnn.com/2020/12/14/opinions/jill-biden-doctor-wall-street-journal-alaimo/index.html\n",
            "https://www.wsj.com/articles/is-there-a-doctor-in-the-white-house-not-if-you-need-an-m-d-11607727380\n",
            "https://thehill.com/homenews/media/530017-northwestern-university-rejects-wall-street-journal-op-ed-penned-by-former\n",
            "http://cnn.com/2020/12/13/opinions/capital-punishment-death-penalty-williams/index.html\n",
            "http://cnn.com/2020/12/13/opinions/126-republicans-cynical-unpatriotic-hypocrisy-avlon/index.html\n",
            "http://cnn.com/2020/12/13/opinions/electoral-college-change-popular-vote-honig/index.html\n",
            "http://cnn.com/2020/12/13/opinions/snl-trump-election-crazy-logic-newsmax-obeidallah/index.html\n",
            "https://www.cnn.com/2020/12/10/politics/read-house-republicans-texas-supreme-court/index.html\n",
            "https://thehill.com/regulation/court-battles/529614-18-states-join-texas-case-seeing-to-overturn-biden-win\n",
            "https://www.cnn.com/2020/12/11/politics/supreme-court-texas-trump-biden/index.html\n",
            "https://www.cnn.com/2020/10/10/us/electoral-college-slavery-links-trnd/index.html\n",
            "http://cnn.com/2020/12/12/opinions/biden-inauguration-covid-zelizer/index.html\n",
            "http://cnn.com/2020/12/12/opinions/covid-hospital-visitation-policies-piscitello/index.html\n",
            "http://cnn.com/2020/12/11/perspectives/entrepreneurs-jobs-stimulus-biden/index.html\n",
            "http://cnn.com/2020/12/11/opinions/indian-farmer-protests-simran-singh-gunisha-kaur/index.html\n",
            "http://cnn.com/2020/12/10/opinions/dominican-republic-child-marriages-clayton-kershaw/index.html\n",
            "http://cnn.com/2020/12/09/opinions/biden-north-korea-covid-diplomacy-park-moon/index.html\n",
            "http://cnn.com/2020/12/09/opinions/uk-vaccine-beat-us-opinion-hassan/index.html\n",
            "http://cnn.com/2020/12/02/opinions/justin-trudeau-covid-19-vaccine-crisis-bociurkiw/index.html\n",
            "http://cnn.com/2020/12/06/perspectives/biden-china-international-relations/index.html\n",
            "http://cnn.com/2020/12/02/opinions/central-america-us-relations-speckhard/index.html\n",
            "http://cnn.com/2020/12/11/opinions/trump-election-cowardice-axelrod/index.html\n",
            "http://cnn.com/2020/12/13/opinions/donald-trumps-long-goodbye-column-galant/index.html\n",
            "http://cnn.com/2020/12/12/opinions/biden-wireless-emergency-alert-coronavirus-stillman/index.html\n",
            "http://cnn.com/2020/12/11/opinions/joe-biden-cabinet-picks-diversity-begala/index.html\n",
            "http://cnn.com/2020/12/11/opinions/lloyd-austin-biden-defense-secretary-pick-hertling/index.html\n",
            "http://cnn.com/2020/12/11/opinions/warp-speed-chief-operating-officer-us-ready-to-distribute-vaccine-perna/index.html\n",
            "http://cnn.com/2020/12/10/opinions/immigration-reform-joe-biden-koch-hooks/index.html\n",
            "http://cnn.com/2020/12/10/opinions/rudy-giuliani-covid-treatment-sepkowitz/index.html\n",
            "http://cnn.com/2020/12/10/opinions/hunter-biden-probe-return-to-rule-of-law-post-trump-mccaffery/index.html\n",
            "http://cnn.com/2020/12/11/opinions/donald-trump-uphill-road-presidential-history-balcerski/index.html\n",
            "http://cnn.com/2020/12/10/opinions/melania-trump-legacy-drexler/index.html\n",
            "http://cnn.com/2020/12/10/opinions/trump-war-on-democracy-ghitis/index.html\n",
            "http://cnn.com/2020/12/07/opinions/loeffler-warnock-debate-georgia-senate-runoff-lindsey/index.html\n",
            "http://cnn.com/2020/12/10/opinions/climate-change-paris-agreement-2021-hope-tubiana/index.html\n",
            "http://cnn.com/2020/12/01/perspectives/biden-economic-plan-hicks/index.html\n",
            "http://cnn.com/2020/11/17/opinions/post-trump-fact-checking-avlon/index.html\n",
            "http://cnn.com/2020/11/12/opinions/former-white-supremacist-how-to-tackle-hate-buckley/index.html\n",
            "http://cnn.com/2020/11/09/opinions/post-election-roundup-what-now-america-opinion/index.html\n",
            "http://cnn.com/2020/12/03/opinions/brakes-presidential-pardon-power-steve-cohen/index.html\n",
            "http://cnn.com/2020/12/11/opinions/what-christmas-stories-teach-2020-hemmer/index.html\n",
            "http://cnn.com/2020/12/11/opinions/america-in-2020-ayad-akhtar-homeland-elegies-taylor/index.html\n",
            "http://cnn.com/2020/12/10/opinions/2020-in-sports-coronavirus-black-lives-matter-bass/index.html\n",
            "http://cnn.com/2020/12/10/opinions/miscarriage-brave-women-pandemic-santa-gingras/index.html\n",
            "http://cnn.com/2020/12/10/opinions/emil-kapaun-path-to-sainthood-drape/index.html\n",
            "http://cnn.com/2020/12/08/opinions/chuck-yeager-avlon/index.html\n",
            "http://cnn.com/2020/12/08/opinions/tastebuds-restaurant-closing-pandemic-gift-mcginty/index.html\n",
            "http://cnn.com/2020/12/07/opinions/technology-progress-covid-vaccine-agar-whatley/index.html\n",
            "http://cnn.com/2020/12/04/opinions/coronavirus-the-biggest-enemy-pamela-brown/index.html\n",
            "http://cnn.com/2020/12/06/opinions/trust-in-doctors-in-america-covid-hills/index.html\n",
            "http://cnn.com/2020/12/06/opinions/selena-netflix-latina-power-larkin/index.html\n",
            "http://cnn.com/2020/12/04/opinions/covid-vaccine-distribution-priority-opinion-sepkowitz/index.html\n",
            "http://cnn.com/2020/12/02/opinions/elliot-page-transgender-identity-berlatsky/index.html\n",
            "http://cnn.com/2020/12/02/opinions/children-disabilities-education-intl-hnk/index.html\n",
            "http://cnn.com/2020/12/03/opinions/queens-gambit-crown-mrs-america-speaking-to-us-hemmer/index.html\n",
            "http://cnn.com/2020/06/18/opinions/i-am-george-floyd-meredith-doyle/index.html\n",
            "http://cnn.com/2020/06/18/opinions/what-we-need-in-our-policing-toolkit-melvin-carter/index.html\n",
            "http://cnn.com/2020/06/04/opinions/black-doctor-i-cant-breathe-deeply-personal-farrand/index.html\n",
            "http://cnn.com/2017/03/19/opinions/oxford-comma-ambiguity-opinion-mcwhorter/index.html\n",
            "https://www.cnn.com/interactive/2019/11/opinions/fractured-states-of-america/part-one-fredrick/\n",
            "http://cnn.com/2019/11/23/opinions/gerrymandering-voting-districts-america-daley/index.html\n",
            "http://cnn.com/2019/12/05/opinions/criminal-justice-reform-bipartisanship-jones/index.html\n",
            "http://cnn.com/2019/12/04/opinions/living-room-conversation-republican-perspective-song/index.html\n",
            "http://cnn.com/2019/12/04/opinions/third-party-need-united-states-cupp/index.html\n",
            "http://cnn.com/2019/11/22/opinions/partisan-media-confronting-political-division-avlon/index.html\n",
            "http://cnn.com/2017/12/20/opinions/cnn-free-press-26-voices/index.html\n",
            "http://cnn.com/2017/12/01/opinions/digital-media-friend-foe-opinion-newmark/index.html\n",
            "http://cnn.com/2017/11/30/opinions/project-veritas-fact-checking-opinion-louis/index.html\n",
            "http://cnn.com/2017/11/30/opinions/newsroom-diversity-mainstream-media-opinion-love/index.html\n",
            "http://cnn.com/2017/11/30/opinions/rt-foreign-agent-media-transparency-nossel-opinion/index.html\n",
            "http://cnn.com/2017/11/29/opinions/press-freedom-for-student-journalists-lomonte-opinion/index.html\n",
            "http://www.cnn.com/interactive/2017/11/opinion/free-press-media-martyrs/\n",
            "http://cnn.com/videos/cnnmoney/2017/11/07/press-freedom-your-freedom.cnnmoney\n",
            "http://www.cnn.com/specials/opinions/what-its-like-to-be-me\n",
            "http://cnn.com/2019/12/23/opinions/trump-adminstration-hiding-impeachment-information-honig/index.html\n",
            "http://cnn.com/2019/12/16/opinions/mitch-mcconnell-trump-senate-impeachment-honig/index.html\n",
            "http://cnn.com/2019/12/10/opinions/trump-star-witness-honig/index.html\n",
            "http://cnn.com/2019/12/03/opinions/house-judiciary-valuable-impeachment-opportunity-cross-exam-honig/index.html\n",
            "http://cnn.com/2019/11/26/opinions/trump-impeachment-defense-cross-exam-honig/index.html\n",
            "http://cnn.com/2019/09/24/opinions/trump-ukraine-democrats-only-choice-impeachment-honig/index.html\n",
            "http://cnn.com/2019/09/16/opinions/trump-kavanaugh-justice-department-not-rescue-honig/index.html\n",
            "https://www.cnn.com/specials/opinions/what-its-like-to-be-me\n",
            "http://cnn.com/2018/03/20/opinions/caregiving-what-its-like-to-be-me-wes-ely-opinion/index.html\n",
            "http://cnn.com/2017/12/20/opinions/what-its-like-to-be-me-disability-rebecca-cokley-opinion/index.html\n",
            "http://cnn.com/2017/04/25/opinions/ivf-3-7-percent-opinion-lenti/index.html\n",
            "http://cnn.com/2017/04/28/opinions/opinions-ivf-adoption-reaction/index.html\n",
            "http://cnn.com/2020/10/18/opinions/america-got-cheated-opinion-weekly-column-galant/index.html\n",
            "http://cnn.com/2020/10/11/opinions/donald-trumps-troubling-vital-signs-opinion-column-galant/index.html\n",
            "http://cnn.com/2020/09/20/opinions/trump-biden-just-got-fiercer-opinion-column-galant/index.html\n",
            "http://cnn.com/2020/10/04/opinions/no-president-had-a-week-like-this-opinion-column-galant/index.html\n",
            "http://cnn.com/2020/09/13/opinions/trump-tries-to-quash-two-stories-opinion-galant/index.html\n",
            "http://cnn.com/2020/09/06/opinions/final-act-in-trump-biden-contest-is-testing-america-opinion-column-galant/index.html\n",
            "http://cnn.com/2020/08/30/opinions/trump-biden-election-opinion-weekly-column-galant/index.html\n",
            "http://cnn.com/2020/07/19/opinions/weve-never-been-here-before-column-galant/index.html\n",
            "http://cnn.com/2020/08/16/opinions/voters-are-on-high-alert-opinion-column-galant/index.html\n",
            "http://cnn.com/2020/07/05/opinions/trump-invites-fear-to-the-party-opinion-weekly-column-galant/index.html\n",
            "http://cnn.com/2020/08/09/opinions/donald-trumps-five-revealing-words-column-galant/index.html\n",
            "http://cnn.com/2020/06/21/opinions/trump-heartless-week-opinion-weekly-column-galant/index.html\n",
            "http://cnn.com/2020/12/11/opinions/wife-covid-death-grief-pie-bare/index.html\n",
            "http://cnn.com/2020/06/14/opinions/black-lives-matter-gen-z-greatest-generation-gergen-cohen/index.html\n",
            "http://cnn.com/2020/11/26/opinions/joe-jill-biden-most-important-thanksgiving-tradition/index.html\n",
            "https://www.cnn.com/interactive/2019/07/opinions/rosem-morton-sexual-assault-cnnphotos/index.html\n",
            "http://cnn.com/2019/06/06/opinions/melisa-raney-coming-out-later-in-life-as-gay-lesbian/index.html\n",
            "https://www.cnn.com/interactive/2018/12/opinions/crystal-ball-2019/index.html\n",
            "http://cnn.com/2018/12/23/opinions/notorious-rbg-michelle-obama-weekly-opinion-column-greenway-carr/index.html\n",
            "http://cnn.com/2018/12/20/opinions/most-popular-2018-opinions/index.html\n",
            "http://cnn.com/2018/07/07/opinions/father-son-forgiveness-opinion-granderson/index.html\n",
            "http://cnn.com/2018/09/22/opinions/anthony-bourdain-parts-unknown-censor-spicer-joslyn/index.html\n",
            "http://cnn.com/2018/10/18/opinions/trumps-failure-to-fight-climate-change-sachs/index.html\n",
            "http://cnn.com/2018/02/05/opinions/foster-care-education-olympics-opinion-biles/index.html\n",
            "http://cnn.com/2018/11/19/opinions/dark-matter-hurricane-headed-our-way-lincoln-opinion/index.html\n",
            "http://cnn.com/2018/10/22/opinions/is-lottery-win-worth-it-maltby/index.html\n",
            "http://cnn.com/2018/07/18/opinions/these-pictures-tell-story-of-trump-and-putin-ben-ghiat/index.html\n",
            "http://cnn.com/2018/08/30/opinions/how-to-prepare-for-ex-president-trump-opinion-geltzer/index.html\n",
            "http://cnn.com/2018/09/30/opinions/two-people-testified-then-million-had-their-say-opinion-wrapup-column/index.html\n",
            "http://cnn.com/2017/12/19/opinions/trumps-five-big-achievements-frida-opinion/index.html\n",
            "http://cnn.com/2017/12/21/opinions/best-of-2017-opinions/index.html\n",
            "http://cnn.com/2017/10/26/opinions/mark-halperin-women-should-not-stay-silent-mcmanus/index.html\n",
            "http://cnn.com/2017/04/19/opinions/human-rights-cycle-violence-nikki-haley/index.html\n",
            "http://cnn.com/2017/06/14/opinions/calm-the-rhetoric-heye/index.html\n",
            "http://cnn.com/2017/04/29/opinions/gallery/trump-100-days-cartoon-gallery/index.html\n",
            "http://cnn.com/2017/04/22/opinions/science-and-government-opinion-bill-nye/index.html\n",
            "http://cnn.com/2017/02/18/opinions/george-takei-japanese-american-internment-day-of-remembrance/index.html\n",
            "http://cnn.com/2017/01/30/opinions/david-axelrod-i-woke-up-this-morning-as-an-alternative-fact/index.html\n",
            "http://cnn.com/2017/01/18/opinions/trump-presidency-international-views-roundup/index.html\n",
            "http://cnn.com/2017/01/20/opinions/david-axelrod-obamas-legacy-cant-be-erased/index.html\n",
            "http://cnn.com/2017/01/20/opinions/gallery/2017-opinion-cartoon-galley/index.html\n",
            "http://cnn.com/2016/12/21/opinions/best-of-2016-opinions/index.html\n",
            "http://cnn.com/2016/10/18/opinions/cartooning-through-the-presidential-campaign-thomas-mcclure/index.html\n",
            "http://cnn.com/2016/10/11/opinions/america-will-take-giant-leap-to-mars-barack-obama/index.html\n",
            "http://cnn.com/2016/10/11/opinions/cnn-films-we-will-rise-michelle-obama/index.html\n",
            "http://cnn.com/2016/06/12/opinions/orlando-homegrown-terror-bergen/index.html\n",
            "http://cnn.com/2016/06/07/opinions/stanford-rape-case-letter-robbins/index.html\n",
            "http://cnn.com/2016/05/09/opinions/sutter-gender-neutral-restrooms/index.html\n",
            "http://cnn.com/2016/03/23/opinions/rob-ford-opinion-krill/index.html\n",
            "http://cnn.com/2016/05/09/opinions/trump-must-answer-for-his-record-dantonio/index.html\n",
            "http://cnn.com/2016/02/14/opinions/david-axelrod-surprise-request-from-justice-scalia/index.html\n",
            "http://cnn.com/2016/02/29/opinions/donald-trump-knows-what-hes-doing-race-opinion-dantonio/index.html\n",
            "http://cnn.com/2016/02/28/opinions/campaign-echoes-of-1930s-opinion-ghitis/index.html\n",
            "http://cnn.com/2016/01/21/opinions/mccullough-why-so-many-holidays/index.html\n",
            "http://cnn.com/2016/02/28/opinions/trump-first-amendment-protections-opinion-randazza/index.html\n",
            "http://cnn.com/2016/01/19/opinions/generation-opinion-roundup/index.html\n",
            "http://cnn.com/2016/02/21/opinions/scalia-argument-capital-punishment-prejean/index.html\n",
            "http://cnn.com/2016/01/15/opinions/gold-new-yorkers-ted-cruz/index.html\n",
            "http://cnn.com/2015/11/10/opinions/melinek-working-stiff-book-excerpt/index.html\n",
            "http://cnn.com/2015/10/14/opinions/mcwhorter-pronouns-gender-neutral/index.html\n",
            "http://cnn.com/2015/10/15/opinions/green-ethics-of-mars-settlement/index.html\n",
            "http://cnn.com/2015/10/20/opinions/wheeler-back-to-the-future-day/index.html\n",
            "http://cnn.com/2015/10/05/opinions/cupp-being-13-bullying/index.html\n",
            "http://cnn.com/2015/09/11/opinions/parini-biden-colbert/index.html\n",
            "http://cnn.com/2015/08/05/opinions/abbott-declercq-pregnancy-loss/index.html\n",
            "http://cnn.com/2015/06/21/opinions/zelizer-why-run-for-president/index.html\n",
            "http://cnn.com/2015/04/02/opinions/top-cnn-opeds-april-2015/index.html\n",
            "http://cnn.com/2015/09/04/opinions/ghitis-syria-refugee-response/index.html\n",
            "http://cnn.com/2015/05/03/opinions/smart-high-speed-trains-america/index.html\n",
            "http://cnn.com/2015/04/07/opinions/costello-marriage-millennials/index.html\n",
            "http://cnn.com/2015/01/08/opinion/bell-god-atheism/index.html\n",
            "http://cnn.com/2015/01/25/opinion/drexler-paris-fashion-shock/index.html\n",
            "http://cnn.com/2014/10/15/opinion/schwartz-single-women/index.html\n",
            "http://cnn.com/2020/11/17/weather/help-central-america-hurricane-victims-iyw-trnd/index.html\n",
            "http://cnn.com/2020/11/24/americas/covid-19-climate-hurricanes-central-america-intl/index.html\n",
            "http://cnn.com/2020/11/12/world/gallery/typhoon-vamco/index.html\n",
            "http://cnn.com/2020/11/13/health/weather-warm-winter-clothes-wellness/index.html\n",
            "http://cnn.com/2020/11/02/cnn-underscored/how-to-heat-your-outdoor-space/index.html\n",
            "http://cnn.com/2020/10/30/weather/gallery/hurricane-zeta-aftermath/index.html\n",
            "http://cnn.com/2020/05/11/us/2020-atlantic-hurricane-season-fast-facts/index.html\n",
            "http://cnn.com/2020/08/14/us/gallery/western-wildfires-2020/index.html\n",
            "http://cnn.com/2020/10/08/world/antarctic-ozone-hole-scn-trnd/index.html\n",
            "http://cnn.com/2020/09/14/weather/hottest-summer-on-record-northern-hemisphere-trnd-scn/index.html\n",
            "https://www.cnn.com/business/media\n",
            "https://www.cnn.com/travel/news\n",
            "https://bleacherreport.com/articles/2922319-josh-allen-is-shutting-up-doubters-as-buffalo-bills-join-afcs-elite?utm_source=cnn.com&utm_medium=referral&utm_campaign=editorial\n",
            "https://bleacherreport.com/articles/2922298-jon-grudens-raiders-officially-proved-as-frauds-must-focus-on-2021?utm_source=cnn.com&utm_medium=referral&utm_campaign=editorial\n",
            "https://bleacherreport.com/articles/2922247-derrick-henry-can-hijack-the-afc-super-bowl-race-for-the-tennessee-titans?utm_source=cnn.com&utm_medium=referral&utm_campaign=editorial\n",
            "https://bleacherreport.com/articles/2922228-gus-malzahn-fired-as-auburn-football-coach-has-2145m-contract-buyout?utm_source=cnn.com&utm_medium=referral&utm_campaign=editorial\n",
            "https://bleacherreport.com/articles/2922174-report-tom-brady-bruce-arians-golf-outing-nixed-by-nfl-amid-covid-19?utm_source=cnn.com&utm_medium=referral&utm_campaign=editorial\n",
            "https://bleacherreport.com/articles/2922186-giannis-antetokounmpo-rookie-card-sells-for-1168500-graded-gem-mint-95?utm_source=cnn.com&utm_medium=referral&utm_campaign=editorial\n",
            "http://cnn.com/videos/health/2020/12/12/fda-commissioner-hahn-vaccine-howard-ndwknd-vpx.cnn/video/playlists/top-news-videos/\n",
            "http://cnn.com/videos/travel/2020/12/12/tulum-mexico-music-festival-covid-19-rivers-pkg-vpx.cnn/video/playlists/top-news-videos/\n"
          ],
          "name": "stdout"
        }
      ]
    },
    {
      "cell_type": "code",
      "metadata": {
        "id": "KzpIxkXaTC9V",
        "colab": {
          "base_uri": "https://localhost:8080/"
        },
        "outputId": "0967a9cd-f897-4873-8fbd-408d4a065bfc"
      },
      "source": [
        "for category in cnn_paper.category_urls():\n",
        "  print(category)"
      ],
      "execution_count": null,
      "outputs": [
        {
          "output_type": "stream",
          "text": [
            "http://cnn.com\n",
            "http://cnn.com/china\n",
            "http://cnn.com/more\n",
            "http://cnn.com/travel\n",
            "http://cnn.com/audio\n",
            "http://us.cnn.com\n",
            "http://cnn.com/europe\n",
            "http://cnn.com/business\n",
            "http://cnn.com/videos\n",
            "https://money.cnn.com\n",
            "http://cnnespanol.cnn.com\n",
            "http://cnn.com/health\n",
            "http://cnn.com/americas\n",
            "http://cnn.com/middle-east\n",
            "http://cnn.com/india\n",
            "http://cnn.com/uk\n",
            "http://arabic.cnn.com\n",
            "http://cnn.com/entertainment\n",
            "http://edition.cnn.com\n",
            "http://cnn.com/transcripts\n",
            "http://cnn.com/politics\n",
            "http://cnn.com/vr\n",
            "http://cnn.com/accessibility\n",
            "http://cnn.com/asia\n",
            "http://cnn.it\n",
            "http://cnn.com/australia\n",
            "http://cnn.com/africa\n",
            "http://cnn.com/style\n",
            "http://cnn.com/opinions\n",
            "http://cnn.com/weather\n",
            "https://www.cnn.com\n",
            "http://cnn.com/world\n",
            "http://cnn.com/collection\n",
            "http://cnn.com/us\n"
          ],
          "name": "stdout"
        }
      ]
    },
    {
      "cell_type": "code",
      "metadata": {
        "id": "EYQFb7WYTG0r"
      },
      "source": [
        "cnn_article = cnn_paper.articles[0]\n",
        "cnn_article.download()\n",
        "cnn_article.parse()\n",
        "cnn_article.nlp()"
      ],
      "execution_count": null,
      "outputs": []
    },
    {
      "cell_type": "code",
      "metadata": {
        "id": "G0TKa1dITKwL",
        "colab": {
          "base_uri": "https://localhost:8080/"
        },
        "outputId": "5127ee39-2768-441b-f565-b3ab55a144d1"
      },
      "source": [
        "cnn_article.authors"
      ],
      "execution_count": null,
      "outputs": [
        {
          "output_type": "execute_result",
          "data": {
            "text/plain": [
              "[]"
            ]
          },
          "metadata": {
            "tags": []
          },
          "execution_count": 19
        }
      ]
    },
    {
      "cell_type": "code",
      "metadata": {
        "id": "FM_29ItYTMxd",
        "colab": {
          "base_uri": "https://localhost:8080/"
        },
        "outputId": "0f662c8d-19bb-4240-d8c6-0fcc1433a437"
      },
      "source": [
        "cnn_article.keywords"
      ],
      "execution_count": null,
      "outputs": [
        {
          "output_type": "execute_result",
          "data": {
            "text/plain": [
              "['business', 'headlines', 'latest', 'cnn']"
            ]
          },
          "metadata": {
            "tags": []
          },
          "execution_count": 20
        }
      ]
    },
    {
      "cell_type": "code",
      "metadata": {
        "id": "V4YW9vYaTc4g"
      },
      "source": [
        "import requests"
      ],
      "execution_count": null,
      "outputs": []
    },
    {
      "cell_type": "code",
      "metadata": {
        "id": "DQaRo-AWTQcz"
      },
      "source": [
        "from newspaper import fulltext\n",
        "\n",
        "url = 'http://cnn.com/2020/10/15/africa/nigerians-protest-police-brutality-intl/index.html'\n",
        "html = requests.get(url).text\n",
        "text = fulltext(html)"
      ],
      "execution_count": null,
      "outputs": []
    },
    {
      "cell_type": "code",
      "metadata": {
        "id": "okeHgEnpTbL0",
        "colab": {
          "base_uri": "https://localhost:8080/",
          "height": 126
        },
        "outputId": "03312614-08a7-4b11-e1a0-eb59efa89fb3"
      },
      "source": [
        "text"
      ],
      "execution_count": null,
      "outputs": [
        {
          "output_type": "execute_result",
          "data": {
            "application/vnd.google.colaboratory.intrinsic+json": {
              "type": "string"
            },
            "text/plain": [
              "'(CNN) Nigerian protesters demanding an end to police brutality returned to the streets on Wednesday, saying they were unconvinced by the creation of a new police unit and a pledge not to use violence against demonstrators.\\n\\nProtesters have staged daily marches nationwide for a week, calling for an overhaul of police forces. Police have responded to the demonstrations with beatings, tear gas and gunfire, which human rights group Amnesty International said had killed at least 10 people.\\n\\nThe protests have prompted a raft of announcements. The Special Anti-Robbery Squad (SARS), a police unit that demonstrators have long accused of beatings, killings and extortion, was officially disbanded on Sunday.\\n\\nOn Tuesday, police agreed to stop using force against protesters. They also announced the formation of a new unit, the Special Weapons and Tactics team (SWAT), to \"fill the gaps\" left by the disbanded SARS.\\n\\nBut protesters said on Wednesday they feared the new unit will simply be a rebranded version of SARS.\\n\\nRead More'"
            ]
          },
          "metadata": {
            "tags": []
          },
          "execution_count": 23
        }
      ]
    },
    {
      "cell_type": "code",
      "metadata": {
        "id": "sB3tqt8iTfYN",
        "colab": {
          "base_uri": "https://localhost:8080/"
        },
        "outputId": "a40ca53c-d465-4f51-9131-8a51217c12cd"
      },
      "source": [
        "from newspaper import Article\n",
        "url = 'http://www.bbc.co.uk/zhongwen/simp/chinese_news/2012/12/121210_hongkong_politics.shtml'\n",
        "\n",
        "a = Article(url, language='zh') # Chinese\n",
        "\n",
        "a.download()\n",
        "a.parse()\n"
      ],
      "execution_count": null,
      "outputs": [
        {
          "output_type": "stream",
          "text": [
            "Building prefix dict from /usr/local/lib/python3.6/dist-packages/jieba/dict.txt ...\n",
            "Dumping model to file cache /tmp/jieba.cache\n",
            "Loading model cost 1.3415873050689697 seconds.\n",
            "Prefix dict has been built succesfully.\n"
          ],
          "name": "stderr"
        }
      ]
    },
    {
      "cell_type": "code",
      "metadata": {
        "id": "fyjk9fSoTlms",
        "colab": {
          "base_uri": "https://localhost:8080/"
        },
        "outputId": "1d72ef47-3119-4822-bbab-627750fa7d72"
      },
      "source": [
        "print(a.text[:150])"
      ],
      "execution_count": null,
      "outputs": [
        {
          "output_type": "stream",
          "text": [
            "香港行政长官梁振英在各方压力下就其大宅的违章建筑（僭建）问题到立法会接受质询，并向香港民众道歉。\n",
            "\n",
            "梁振英此前承认早在去年参选行政长官之前就已知悉其住宅的违建问题，引发诚信危机。\n",
            "\n",
            "梁振英在星期二（12月10日）的答问大会开始之际在其演说中道歉，但强调他在违章建筑问题上没有隐瞒的意图和动机。\n",
            "\n",
            "不过\n"
          ],
          "name": "stdout"
        }
      ]
    },
    {
      "cell_type": "code",
      "metadata": {
        "id": "v_ReKF7cTs38"
      },
      "source": [],
      "execution_count": null,
      "outputs": []
    }
  ]
}